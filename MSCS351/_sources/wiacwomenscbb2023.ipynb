{
 "cells": [
  {
   "cell_type": "markdown",
   "id": "a3ec1541",
   "metadata": {},
   "source": [
    "# Rating & Ranking 2023 WIAC Women's CBB\n",
    "and predicting the conference tournament"
   ]
  },
  {
   "cell_type": "code",
   "execution_count": 26,
   "id": "a8b638c9",
   "metadata": {},
   "outputs": [],
   "source": [
    "import numpy as np\n",
    "import matplotlib.pyplot as plt\n",
    "%matplotlib inline\n",
    "import requests\n",
    "from bs4 import BeautifulSoup"
   ]
  },
  {
   "cell_type": "code",
   "execution_count": 2,
   "id": "08384583",
   "metadata": {},
   "outputs": [
    {
     "name": "stdout",
     "output_type": "stream",
     "text": [
      "Found 8 teams.\n",
      "['Wis.-La Crosse', 'UW-River Falls', 'Wis.-Stevens Point', 'Wis.-Oshkosh', 'Wis.-Whitewater', 'Wis.-Platteville', 'Wis.-Eau Claire', 'Wis.-Stout']\n"
     ]
    }
   ],
   "source": [
    "#get teams\n",
    "\n",
    "url = \"https://www.ncaa.com/scoreboard/basketball-women/d3/2023/02/15/wiac\"\n",
    "page = requests.get(url)\n",
    "soup = BeautifulSoup(page.content, \"html.parser\")\n",
    "\n",
    "if (page.status_code == 200):\n",
    "    ts = soup.find_all(\"span\", class_=\"gamePod-game-team-name\")\n",
    "\n",
    "teams = [None]*len(ts)  #empty array of teams\n",
    "\n",
    "print(f\"Found {len(teams)} teams.\")\n",
    "\n",
    "for i in range(0,len(teams)):\n",
    "    teams[i] = ts[i].text\n",
    "\n",
    "print(teams)"
   ]
  },
  {
   "cell_type": "code",
   "execution_count": 3,
   "id": "d830019b",
   "metadata": {},
   "outputs": [
    {
     "name": "stdout",
     "output_type": "stream",
     "text": [
      "\n",
      "Processed 56 games!\n",
      "\n"
     ]
    }
   ],
   "source": [
    "#loop over season dates and extract games\n",
    "\n",
    "\n",
    "years = [2022,2022,2023,2023]#,2023]\n",
    "months = [\"11\", \"12\", \"01\", \"02\"]#, \"03\"]\n",
    "days = np.arange(1,32)\n",
    "\n",
    "\n",
    "#initialize and create empty numpy tournament matrix\n",
    "tmat = np.zeros((len(teams),len(teams)))\n",
    "gamectr = 0\n",
    "games = []\n",
    "\n",
    "for j in range(0,len(months)):\n",
    "    for day in days:\n",
    "        if day < 10:\n",
    "            url = f\"https://www.ncaa.com/scoreboard/basketball-women/d3/{years[j]}/{months[j]}/0{day}/wiac\"\n",
    "        else:\n",
    "            url = f\"https://www.ncaa.com/scoreboard/basketball-women/d3/{years[j]}/{months[j]}/{day}/wiac\"\n",
    "        page = requests.get(url)\n",
    "        if (page.status_code == 200):\n",
    "            soup = BeautifulSoup(page.content, \"html.parser\")\n",
    "                       \n",
    "            names = soup.find_all(\"span\", class_=\"gamePod-game-team-name\")\n",
    "            scores = soup.find_all(\"span\", class_=\"gamePod-game-team-score\")\n",
    "            \n",
    "            N = int(len(names)/2) #number of games\n",
    "            \n",
    "            for i in range(0,int(len(names)/2)):\n",
    "                if ((names[2*i].text in teams) and (names[2*i+1].text in teams)):  #make sure both teams are in WIAC\n",
    "                    #print(f\"{names[2*i].text} is in teams and so is {names[2*i+1].text}\")\n",
    "                    #gamectr += 1\n",
    "                    if not((scores[2*i].text == \"\") or (scores[2*i].text == \"\")): #make sure both teams have a score, ie game played\n",
    "                        gamectr += 1\n",
    "                        games.append([names[2*i].text,names[2*i+1].text,scores[2*i].text,scores[2*i+1].text,years[j],months[j],day])\n",
    "                        if (int(scores[2*i].text) > int(scores[2*i+1].text)):  #away team win\n",
    "                            tmat[teams.index(names[2*i].text), teams.index(names[2*i+1].text)]+=1 \n",
    "                            #print(f\"{names[2*i].text} beat {names[2*i+1].text} by a score of {scores[2*i].text} to {scores[2*i+1].text} on {months[j]}/{day}\")\n",
    "                        if (int(scores[2*i+1].text) > int(scores[2*i].text)):  #home team win\n",
    "                            tmat[teams.index(names[2*i+1].text), teams.index(names[2*i].text)]+=1\n",
    "                            #print(f\"{names[2*i+1].text} beat {names[2*i].text} by a score of {scores[2*i+1].text} to {scores[2*i].text} on {months[j]}/{day}\")\n",
    "                        if (int(scores[2*i].text) == int(scores[2*i+1].text)):   #draw\n",
    "                            tmat[teams.index(names[2*i+1].text), teams.index(names[2*i].text)]+=0.5\n",
    "                            tmat[teams.index(names[2*i].text), teams.index(names[2*i+1].text)]+=0.5\n",
    "                    #else:\n",
    "                        #print(f\"Game between {names[2*i].text} and {names[2*i+1].text} on {months[j]}/{day}  has missing score(s)\")\n",
    "                #else:\n",
    "                    #print(f\"Game between {names[2*i].text} and {names[2*i+1].text} on {months[j]}/{day} is missing teams index\")\n",
    "            \n",
    "            \n",
    "print(\"\")\n",
    "print(f\"Processed {gamectr} games!\")\n",
    "print(\"\")"
   ]
  },
  {
   "cell_type": "code",
   "execution_count": 4,
   "id": "af5de9d7",
   "metadata": {},
   "outputs": [
    {
     "name": "stdout",
     "output_type": "stream",
     "text": [
      "[['Wis.-Platteville', 'Wis.-Oshkosh', '60', '35', 2022, '11', 30], ['UW-River Falls', 'Wis.-Eau Claire', '71', '74', 2022, '11', 30], ['Wis.-Whitewater', 'Wis.-La Crosse', '58', '53', 2022, '11', 30], ['Wis.-Stout', 'Wis.-Stevens Point', '64', '58', 2022, '11', 30], ['Wis.-Oshkosh', 'Wis.-Stout', '58', '66', 2022, '12', 3], ['UW-River Falls', 'Wis.-Whitewater', '67', '64', 2022, '12', 3], ['Wis.-Platteville', 'Wis.-Stevens Point', '53', '59', 2022, '12', 3], ['Wis.-La Crosse', 'Wis.-Eau Claire', '56', '68', 2022, '12', 3], ['Wis.-Stout', 'UW-River Falls', '74', '59', 2023, '01', 4], ['Wis.-Eau Claire', 'Wis.-Oshkosh', '62', '53', 2023, '01', 4], ['Wis.-La Crosse', 'Wis.-Platteville', '70', '55', 2023, '01', 4], ['Wis.-Stevens Point', 'Wis.-Whitewater', '52', '55', 2023, '01', 4], ['Wis.-Oshkosh', 'UW-River Falls', '64', '53', 2023, '01', 7], ['Wis.-Platteville', 'Wis.-Stout', '61', '72', 2023, '01', 7], ['Wis.-Stevens Point', 'Wis.-La Crosse', '45', '47', 2023, '01', 7], ['Wis.-Whitewater', 'Wis.-Eau Claire', '79', '69', 2023, '01', 7], ['Wis.-Eau Claire', 'Wis.-Platteville', '75', '59', 2023, '01', 11], ['Wis.-Oshkosh', 'Wis.-Whitewater', '56', '66', 2023, '01', 11], ['Wis.-Stout', 'Wis.-La Crosse', '54', '72', 2023, '01', 11], ['UW-River Falls', 'Wis.-Stevens Point', '49', '54', 2023, '01', 11], ['Wis.-Platteville', 'UW-River Falls', '51', '61', 2023, '01', 14], ['Wis.-Whitewater', 'Wis.-Stout', '65', '72', 2023, '01', 14], ['Wis.-La Crosse', 'Wis.-Oshkosh', '53', '61', 2023, '01', 14], ['Wis.-Stevens Point', 'Wis.-Eau Claire', '38', '57', 2023, '01', 14], ['Wis.-Platteville', 'Wis.-Whitewater', '65', '49', 2023, '01', 18], ['UW-River Falls', 'Wis.-La Crosse', '36', '63', 2023, '01', 18], ['Wis.-Oshkosh', 'Wis.-Stevens Point', '58', '38', 2023, '01', 18], ['Wis.-Stout', 'Wis.-Eau Claire', '59', '85', 2023, '01', 18], ['Wis.-Whitewater', 'UW-River Falls', '65', '54', 2023, '01', 21], ['Wis.-Stout', 'Wis.-Oshkosh', '73', '75', 2023, '01', 21], ['Wis.-Stevens Point', 'Wis.-Platteville', '51', '49', 2023, '01', 21], ['Wis.-Eau Claire', 'Wis.-La Crosse', '64', '60', 2023, '01', 21], ['Wis.-Eau Claire', 'UW-River Falls', '70', '81', 2023, '01', 25], ['Wis.-Stevens Point', 'Wis.-Stout', '54', '71', 2023, '01', 25], ['Wis.-Oshkosh', 'Wis.-Platteville', '60', '59', 2023, '01', 25], ['Wis.-La Crosse', 'Wis.-Whitewater', '36', '66', 2023, '01', 25], ['UW-River Falls', 'Wis.-Stout', '55', '70', 2023, '02', 1], ['Wis.-Oshkosh', 'Wis.-Eau Claire', '65', '57', 2023, '02', 1], ['Wis.-Platteville', 'Wis.-La Crosse', '43', '70', 2023, '02', 1], ['Wis.-Whitewater', 'Wis.-Stevens Point', '73', '64', 2023, '02', 1], ['UW-River Falls', 'Wis.-Oshkosh', '44', '54', 2023, '02', 4], ['Wis.-Stout', 'Wis.-Platteville', '70', '61', 2023, '02', 4], ['Wis.-Eau Claire', 'Wis.-Whitewater', '52', '84', 2023, '02', 4], ['Wis.-La Crosse', 'Wis.-Stevens Point', '58', '48', 2023, '02', 4], ['Wis.-Stevens Point', 'UW-River Falls', '53', '64', 2023, '02', 8], ['Wis.-La Crosse', 'Wis.-Stout', '90', '95', 2023, '02', 8], ['Wis.-Whitewater', 'Wis.-Oshkosh', '67', '55', 2023, '02', 8], ['Wis.-Platteville', 'Wis.-Eau Claire', '59', '65', 2023, '02', 8], ['UW-River Falls', 'Wis.-Platteville', '55', '57', 2023, '02', 11], ['Wis.-Stout', 'Wis.-Whitewater', '75', '78', 2023, '02', 11], ['Wis.-Oshkosh', 'Wis.-La Crosse', '42', '56', 2023, '02', 11], ['Wis.-Eau Claire', 'Wis.-Stevens Point', '72', '60', 2023, '02', 11], ['Wis.-La Crosse', 'UW-River Falls', '62', '43', 2023, '02', 15], ['Wis.-Stevens Point', 'Wis.-Oshkosh', '38', '69', 2023, '02', 15], ['Wis.-Whitewater', 'Wis.-Platteville', '52', '61', 2023, '02', 15], ['Wis.-Eau Claire', 'Wis.-Stout', '45', '63', 2023, '02', 15]]\n"
     ]
    }
   ],
   "source": [
    "print(games)"
   ]
  },
  {
   "cell_type": "code",
   "execution_count": 5,
   "id": "03382d18",
   "metadata": {},
   "outputs": [
    {
     "name": "stdout",
     "output_type": "stream",
     "text": [
      "[[0. 2. 2. 1. 0. 2. 0. 1.]\n",
      " [0. 0. 1. 0. 1. 1. 1. 0.]\n",
      " [0. 1. 0. 0. 0. 2. 0. 0.]\n",
      " [1. 2. 2. 0. 0. 1. 1. 1.]\n",
      " [2. 1. 2. 2. 0. 0. 2. 1.]\n",
      " [0. 1. 0. 1. 2. 0. 0. 0.]\n",
      " [2. 1. 2. 1. 0. 2. 0. 1.]\n",
      " [1. 2. 2. 1. 1. 2. 1. 0.]]\n"
     ]
    }
   ],
   "source": [
    "print(tmat)"
   ]
  },
  {
   "cell_type": "markdown",
   "id": "e6af6cd1",
   "metadata": {},
   "source": [
    "### Tournament matrix analysis"
   ]
  },
  {
   "cell_type": "code",
   "execution_count": 7,
   "id": "43c28fd6",
   "metadata": {},
   "outputs": [
    {
     "name": "stdout",
     "output_type": "stream",
     "text": [
      "Team: Wins\n",
      "Wis.-La Crosse: 8.0\n",
      "UW-River Falls: 4.0\n",
      "Wis.-Stevens Point: 3.0\n",
      "Wis.-Oshkosh: 8.0\n",
      "Wis.-Whitewater: 10.0\n",
      "Wis.-Platteville: 4.0\n",
      "Wis.-Eau Claire: 9.0\n",
      "Wis.-Stout: 10.0\n"
     ]
    }
   ],
   "source": [
    "wiacwins = np.zeros(8)\n",
    "for i in range(0,8):\n",
    "    wiacwins[i] = tmat[i,:].sum()\n",
    "    \n",
    "print(\"Team: Wins\")\n",
    "for i in range(0,8):\n",
    "    print(f\"{teams[i]}: {wiacwins[i]}\")"
   ]
  },
  {
   "cell_type": "code",
   "execution_count": 8,
   "id": "75a11c3d",
   "metadata": {},
   "outputs": [
    {
     "name": "stdout",
     "output_type": "stream",
     "text": [
      "[[ 2.  8.  6.  3.  7.  9.  4.  1.]\n",
      " [ 4.  4.  4.  4.  2.  4.  2.  2.]\n",
      " [ 0.  2.  1.  2.  5.  1.  1.  0.]\n",
      " [ 3.  8.  8.  4.  5. 12.  3.  2.]\n",
      " [ 7. 14. 15.  5.  2. 17.  4.  6.]\n",
      " [ 5.  4.  7.  4.  1.  2.  6.  3.]\n",
      " [ 2. 12.  9.  5.  6. 12.  3.  3.]\n",
      " [ 5. 10. 10.  6.  6. 11.  5.  4.]]\n",
      "Team: Second Order Wins\n",
      "Wis.-La Crosse: 40.0\n",
      "UW-River Falls: 26.0\n",
      "Wis.-Stevens Point: 12.0\n",
      "Wis.-Oshkosh: 45.0\n",
      "Wis.-Whitewater: 70.0\n",
      "Wis.-Platteville: 32.0\n",
      "Wis.-Eau Claire: 52.0\n",
      "Wis.-Stout: 57.0\n"
     ]
    }
   ],
   "source": [
    "t2 = np.dot(tmat,tmat)\n",
    "\n",
    "print(t2)\n",
    "\n",
    "wiac2wins = np.zeros(8)\n",
    "for i in range(0,8):\n",
    "    wiac2wins[i] = t2[i,:].sum()\n",
    "    \n",
    "print(\"Team: Second Order Wins\")\n",
    "for i in range(0,8):\n",
    "    print(f\"{teams[i]}: {wiac2wins[i]}\")"
   ]
  },
  {
   "cell_type": "markdown",
   "id": "1466b483",
   "metadata": {},
   "source": [
    "### Spectral rating\n"
   ]
  },
  {
   "cell_type": "code",
   "execution_count": 10,
   "id": "de0477bd",
   "metadata": {},
   "outputs": [
    {
     "name": "stdout",
     "output_type": "stream",
     "text": [
      "Team: Spectral Rating\n",
      "Wis.-La Crosse:   0.6\n",
      "UW-River Falls:   0.5\n",
      "Wis.-Stevens Point:   0.2\n",
      "Wis.-Oshkosh:   0.7\n",
      "Wis.-Whitewater:   1.0\n",
      "Wis.-Platteville:   0.7\n",
      "Wis.-Eau Claire:   0.7\n",
      "Wis.-Stout:   0.9\n"
     ]
    }
   ],
   "source": [
    "wiacL = np.copy(tmat)\n",
    "\n",
    "for j in range(0,8):\n",
    "    wiacL[:,j] = wiacL[:,j]/wiacL[:,j].sum()\n",
    "\n",
    "v,w = np.linalg.eig(wiacL)\n",
    "\n",
    "\n",
    "wiacspecrat = np.real(w[:,0]/max(w[:,0]))\n",
    "\n",
    "print(\"Team: Spectral Rating\")\n",
    "for i in range(0,8):\n",
    "    print(\"{}: {:5.1f}\".format(teams[i],wiacspecrat[i]))"
   ]
  },
  {
   "cell_type": "markdown",
   "id": "39a84d82",
   "metadata": {},
   "source": [
    "### Elo rating\n"
   ]
  },
  {
   "cell_type": "code",
   "execution_count": 12,
   "id": "b1a4bf5c",
   "metadata": {},
   "outputs": [
    {
     "name": "stdout",
     "output_type": "stream",
     "text": [
      "Wis.-La Crosse 1051.9472395876528\n",
      "UW-River Falls 871.8910603571981\n",
      "Wis.-Stevens Point 825.556990780845\n",
      "Wis.-Oshkosh 1060.9810821669041\n",
      "Wis.-Whitewater 1122.4058855186036\n",
      "Wis.-Platteville 884.6999690640331\n",
      "Wis.-Eau Claire 1059.7165354939345\n",
      "Wis.-Stout 1122.8012370308286\n"
     ]
    }
   ],
   "source": [
    "numgames = len(games)\n",
    "scale = 400\n",
    "K = 30\n",
    "\n",
    "elo = [1000,1000,1000,1000,1000,1000,1000,1000]\n",
    "\n",
    "for i in range(numgames-1,0,-1):\n",
    "    hteam = games[i][1]\n",
    "    ateam = games[i][0]\n",
    "    hscore = games[i][3]\n",
    "    ascore = games[i][2]\n",
    "    \n",
    "    #get ratings\n",
    "    hrat = elo[teams.index(hteam)]\n",
    "    arat = elo[teams.index(ateam)]\n",
    "    diff = hrat - arat\n",
    "    \n",
    "    #calc expected results/probs of winning\n",
    "    hexp = 1./(1. + 10**(diff/scale))\n",
    "    aexp = 1. - hexp\n",
    "    \n",
    "    #update ratings\n",
    "    if (hscore > ascore): #home team win\n",
    "        elo[teams.index(hteam)] += K*(1. - hexp)\n",
    "        elo[teams.index(ateam)] += K*(0. - aexp)\n",
    "    elif (ascore > hscore): #away team win\n",
    "        elo[teams.index(hteam)] += K*(0. - hexp)\n",
    "        elo[teams.index(ateam)] += K*(1. - aexp)\n",
    "    #no else or draws needed\n",
    "    \n",
    "    #[print(name,elo[names.index(name)]) for name in names ]\n",
    "[print(name,elo[teams.index(name)]) for name in teams ];"
   ]
  },
  {
   "cell_type": "markdown",
   "id": "42eaadcd",
   "metadata": {},
   "source": [
    "### Colley\n"
   ]
  },
  {
   "cell_type": "code",
   "execution_count": 15,
   "id": "e36fd7cf",
   "metadata": {},
   "outputs": [
    {
     "name": "stdout",
     "output_type": "stream",
     "text": [
      "Team:  Colley rating\n",
      "Wis.-La Crosse: 0.56\n",
      "UW-River Falls: 0.33\n",
      "Wis.-Stevens Point: 0.28\n",
      "Wis.-Oshkosh: 0.56\n",
      "Wis.-Whitewater: 0.67\n",
      "Wis.-Platteville: 0.33\n",
      "Wis.-Eau Claire: 0.61\n",
      "Wis.-Stout: 0.67\n"
     ]
    }
   ],
   "source": [
    "Cmat = np.zeros((8,8))\n",
    "bvec = np.zeros((8,1))\n",
    "\n",
    "for i in range(0,8):\n",
    "    Cmat[i,i] = 2.\n",
    "    bvec[i] = 1.\n",
    "    \n",
    "\n",
    "numgames = len(games)\n",
    "\n",
    "for i in range(0,numgames,1):\n",
    "    hteam = games[i][1]\n",
    "    ateam = games[i][0]\n",
    "    hscore = games[i][3]\n",
    "    ascore = games[i][2]\n",
    "    hidx = teams.index(hteam)\n",
    "    aidx = teams.index(ateam)\n",
    "    \n",
    "    Cmat[hidx,hidx] += 1.  #add 1 to total games played by home team\n",
    "    Cmat[aidx,aidx] += 1.\n",
    "    \n",
    "    Cmat[hidx,aidx] += -1. #add -1 to offdiagonal entry corresponding to opponent\n",
    "    Cmat[aidx,hidx] += -1.\n",
    "    \n",
    "    if (hscore > ascore): #home team win\n",
    "        bvec[hidx] += 1./2.\n",
    "        bvec[aidx] += -1/2.\n",
    "    elif (ascore > hscore): #away team win\n",
    "        bvec[aidx] += 1./2.\n",
    "        bvec[hidx] += -1/2.\n",
    "\n",
    "Crating = np.linalg.solve(Cmat,bvec)\n",
    "\n",
    "\n",
    "\n",
    "#print(Cmat)\n",
    "#print(bvec)\n",
    "\n",
    "print('Team:  Colley rating')\n",
    "for i in range(0,8):\n",
    "    print(f\"{teams[i]}: {Crating[i][0]:4.2f}\")\n"
   ]
  },
  {
   "cell_type": "markdown",
   "id": "b5d3c285",
   "metadata": {},
   "source": [
    "### Massey"
   ]
  },
  {
   "cell_type": "code",
   "execution_count": 22,
   "id": "ac0db7ac",
   "metadata": {},
   "outputs": [
    {
     "name": "stdout",
     "output_type": "stream",
     "text": [
      "Team:  Massey rating\n",
      "Wis.-La Crosse: 4.25\n",
      "UW-River Falls: -5.19\n",
      "Wis.-Stevens Point: -7.94\n",
      "Wis.-Oshkosh: 0.81\n",
      "Wis.-Whitewater: 5.63\n",
      "Wis.-Platteville: -3.19\n",
      "Wis.-Eau Claire: 1.75\n",
      "Wis.-Stout: 3.88\n"
     ]
    }
   ],
   "source": [
    "numgames = len(games)\n",
    "numteams = len(teams)\n",
    "AN = np.zeros((numgames,numteams))\n",
    "BN = np.zeros((numgames,1))\n",
    "\n",
    "#build matrix and RHS vector\n",
    "for i in range(0,numgames,1):\n",
    "    hteam = games[i][1]\n",
    "    ateam = games[i][0]\n",
    "    hscore = int(games[i][3])\n",
    "    ascore = int(games[i][2])\n",
    "    hidx = teams.index(hteam)\n",
    "    aidx = teams.index(ateam)\n",
    "    \n",
    "    if hscore>ascore:\n",
    "        AN[i,hidx] = 1.\n",
    "        AN[i,aidx] = -1.\n",
    "        BN[i] = hscore-ascore\n",
    "    elif ascore>hscore:\n",
    "        AN[i,hidx] = -1.\n",
    "        AN[i,aidx] = 1.\n",
    "        BN[i] = ascore-hscore\n",
    "\n",
    "MAT = np.dot(np.transpose(AN),AN)\n",
    "BT = np.dot(np.transpose(AN),BN)\n",
    "MAT[-1] = np.ones(numteams)\n",
    "BT[-1] = 0.\n",
    "\n",
    "r = np.linalg.solve(MAT,BT)\n",
    "\n",
    "print('Team:  Massey rating')\n",
    "for i in range(0,numteams):\n",
    "    print(f\"{teams[i]}: {r[i][0]:4.2f}\")\n",
    "\n"
   ]
  },
  {
   "cell_type": "markdown",
   "id": "747f0588",
   "metadata": {},
   "source": [
    "### Draw graph using networkx?\n"
   ]
  },
  {
   "cell_type": "code",
   "execution_count": 23,
   "id": "9c48ce09",
   "metadata": {},
   "outputs": [],
   "source": [
    "import networkx as nx"
   ]
  },
  {
   "cell_type": "code",
   "execution_count": 75,
   "id": "91c87b21",
   "metadata": {},
   "outputs": [
    {
     "data": {
      "image/png": "[encoded data removed]",
      "text/plain": [
       "<Figure size 432x288 with 1 Axes>"
      ]
     },
     "metadata": {},
     "output_type": "display_data"
    }
   ],
   "source": [
    "Adj = np.copy(tmat)\n",
    "ecol = ['black','red']\n",
    "G = nx.DiGraph(edge_attr=['color']) \n",
    "for i in range(0,len(Adj)): \n",
    "    for j in range(0,len(Adj)): \n",
    "        if Adj[i][j] == 1: \n",
    "            G.add_edge(j,i,weight=1)\n",
    "        if Adj[i][j] == 2: \n",
    "            G.add_edge(j,i,weight=2)\n",
    "            \n",
    "labeldict = {}\n",
    "colors = ['red','blue','green','magenta','orange','purple','yellow','cyan']\n",
    "\n",
    "nodecolors = []\n",
    "for i in range(numteams):\n",
    "    labeldict[i] = teams[i]\n",
    "    nodecolors.append(colors[i%8])\n",
    "\n",
    "#nx.draw_networkx( G,labels=labeldict, with_labels=True, node_color=nodecolors,pos=nx.shell_layout(G) ) \n",
    "nx.draw( G,labels=labeldict, with_labels=True, node_color=nodecolors,pos=nx.spring_layout(G) ) \n",
    "#nx.draw( G,labels=labeldict, with_labels=True, node_color=nodecolors, pos=nx.fruchterman_reingold_layout(G) )\n",
    "#nx.draw( G,labels=labeldict, with_labels=True, node_color=nodecolors,pos=nx.spiral_layout(G) ) \n",
    "\n",
    "#nx.draw( G,labels=labeldict, with_labels=True, node_color=nodecolors,pos=nx.circular_layout(G)) \n",
    "\n",
    "plt.show() "
   ]
  },
  {
   "cell_type": "code",
   "execution_count": 31,
   "id": "e8d38f27",
   "metadata": {},
   "outputs": [
    {
     "name": "stdout",
     "output_type": "stream",
     "text": [
      "[[0. 2. 2. 1. 0. 2. 0. 1.]\n",
      " [0. 0. 1. 0. 1. 1. 1. 0.]\n",
      " [0. 1. 0. 0. 0. 2. 0. 0.]\n",
      " [1. 2. 2. 0. 0. 1. 1. 1.]\n",
      " [2. 1. 2. 2. 0. 0. 2. 1.]\n",
      " [0. 1. 0. 1. 2. 0. 0. 0.]\n",
      " [2. 1. 2. 1. 0. 2. 0. 1.]\n",
      " [1. 2. 2. 1. 1. 2. 1. 0.]]\n"
     ]
    }
   ],
   "source": [
    "print(Adj)"
   ]
  },
  {
   "cell_type": "code",
   "execution_count": 51,
   "id": "dbb25eb9",
   "metadata": {},
   "outputs": [
    {
     "name": "stdout",
     "output_type": "stream",
     "text": [
      "[(0.25, 0.42857142857142855, 0.5), (0.25, 0.7142857142857143, 0.5), (0.25, 0.7857142857142857, 0.5), (0.25, 0.42857142857142855, 0.5), (0.25, 0.2857142857142857, 0.5), (0.25, 0.7142857142857143, 0.5), (0.25, 0.35714285714285715, 0.5), (0.25, 0.2857142857142857, 0.5)]\n"
     ]
    }
   ],
   "source": [
    "print(nodecolors)"
   ]
  },
  {
   "cell_type": "code",
   "execution_count": null,
   "id": "2acfcf83",
   "metadata": {},
   "outputs": [],
   "source": []
  }
 ],
 "metadata": {
  "kernelspec": {
   "display_name": "Python 3 (ipykernel)",
   "language": "python",
   "name": "python3"
  },
  "language_info": {
   "codemirror_mode": {
    "name": "ipython",
    "version": 3
   },
   "file_extension": ".py",
   "mimetype": "text/x-python",
   "name": "python",
   "nbconvert_exporter": "python",
   "pygments_lexer": "ipython3",
   "version": "3.9.12"
  }
 },
 "nbformat": 4,
 "nbformat_minor": 5
}
