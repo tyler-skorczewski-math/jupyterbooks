{
 "cells": [
  {
   "cell_type": "markdown",
   "id": "bb0652ab",
   "metadata": {},
   "source": [
    "# PuLP Example\n",
    "Use PuLP python library to solve linear programming problems "
   ]
  },
  {
   "cell_type": "code",
   "execution_count": 1,
   "id": "197544e7",
   "metadata": {},
   "outputs": [],
   "source": [
    "import numpy as np\n",
    "import matplotlib.pyplot as plt\n",
    "from pulp import *"
   ]
  },
  {
   "cell_type": "markdown",
   "id": "41997a51",
   "metadata": {},
   "source": [
    "Example:\n",
    "\n",
    "Maximize $$z = 8x + 4y$$\n",
    "subject to\n",
    "$$-3x + 2y \\leq 8$$\n",
    "$$5x + 2y \\leq 16$$\n",
    "$$x, y \\geq 0.$$\n"
   ]
  },
  {
   "cell_type": "code",
   "execution_count": 2,
   "id": "d8ba67f8",
   "metadata": {},
   "outputs": [],
   "source": [
    "#create LP model container\n",
    "lpmodel = LpProblem(name=\"ex1\",sense=LpMaximize)\n",
    "\n",
    "#create variables\n",
    "x = LpVariable(name=\"x\", lowBound=0)\n",
    "y = LpVariable(name=\"y\", lowBound=0)\n",
    "\n",
    "#create objective function and add it to model\n",
    "obj_fcn = 8*x+4*y\n",
    "lpmodel += obj_fcn\n",
    "\n",
    "#create constraints and add to model\n",
    "lpmodel += (-3*x+2*y <= 8, \"constraint 1\")\n",
    "lpmodel += ( 5*x+2*y <= 16, \"constraint 2\")"
   ]
  },
  {
   "cell_type": "code",
   "execution_count": 3,
   "id": "b4698e33",
   "metadata": {},
   "outputs": [
    {
     "data": {
      "text/plain": [
       "ex1:\n",
       "MAXIMIZE\n",
       "8*x + 4*y + 0\n",
       "SUBJECT TO\n",
       "constraint_1: - 3 x + 2 y <= 8\n",
       "\n",
       "constraint_2: 5 x + 2 y <= 16\n",
       "\n",
       "VARIABLES\n",
       "x Continuous\n",
       "y Continuous"
      ]
     },
     "execution_count": 3,
     "metadata": {},
     "output_type": "execute_result"
    }
   ],
   "source": [
    "lpmodel"
   ]
  },
  {
   "cell_type": "code",
   "execution_count": 6,
   "id": "7b8436af",
   "metadata": {},
   "outputs": [
    {
     "name": "stdout",
     "output_type": "stream",
     "text": [
      "1\n"
     ]
    }
   ],
   "source": [
    "output = lpmodel.solve()\n",
    "print(lpmodel.status)"
   ]
  },
  {
   "cell_type": "code",
   "execution_count": 7,
   "id": "aad4a0ba",
   "metadata": {},
   "outputs": [
    {
     "name": "stdout",
     "output_type": "stream",
     "text": [
      "LP model solve succeeded.\n",
      "z= 30.0\n",
      "x: 1.0\n",
      "y: 5.5\n"
     ]
    }
   ],
   "source": [
    "if lpmodel.status:\n",
    "    print(\"LP model solve succeeded.\")\n",
    "    print(f\"z= {lpmodel.objective.value()}\")\n",
    "    for var in lpmodel.variables():\n",
    "        print(f\"{var.name}: {var.value()}\")\n",
    "else:\n",
    "    print(\"LP model solve failed.\")\n",
    "    "
   ]
  },
  {
   "cell_type": "code",
   "execution_count": null,
   "id": "5e62b94b",
   "metadata": {},
   "outputs": [],
   "source": []
  }
 ],
 "metadata": {
  "kernelspec": {
   "display_name": "Python 3 (ipykernel)",
   "language": "python",
   "name": "python3"
  },
  "language_info": {
   "codemirror_mode": {
    "name": "ipython",
    "version": 3
   },
   "file_extension": ".py",
   "mimetype": "text/x-python",
   "name": "python",
   "nbconvert_exporter": "python",
   "pygments_lexer": "ipython3",
   "version": "3.9.12"
  }
 },
 "nbformat": 4,
 "nbformat_minor": 5
}
