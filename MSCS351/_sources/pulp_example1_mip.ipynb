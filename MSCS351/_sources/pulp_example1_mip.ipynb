{
 "cells": [
  {
   "cell_type": "code",
   "execution_count": 2,
   "id": "5cee67ac-2a8e-4b20-bb6d-96e55e7d4f50",
   "metadata": {},
   "outputs": [],
   "source": [
    "import numpy as np\n",
    "import matplotlib.pyplot as plt\n",
    "from pulp import *"
   ]
  },
  {
   "cell_type": "markdown",
   "id": "6518367c-3ab0-4214-9c8f-36f24fb694f3",
   "metadata": {},
   "source": [
    "Example:\n",
    "\n",
    "Maximize $$z = 8x + 4y$$\n",
    "subject to\n",
    "$$-3x + 2y \\leq 8$$\n",
    "$$5x + 2y \\leq 16$$\n",
    "$$x, y \\geq 0.$$\n",
    "\n",
    "Let's require $x,y \\in \\mathbb{Z}$."
   ]
  },
  {
   "cell_type": "code",
   "execution_count": 3,
   "id": "57d39c7f-ca41-4086-adcd-a25dd430713d",
   "metadata": {},
   "outputs": [
    {
     "name": "stdout",
     "output_type": "stream",
     "text": [
      "LP model solve succeeded.\n",
      "z= 28\n",
      "x: 1\n",
      "y: 5\n"
     ]
    }
   ],
   "source": [
    "#create LP model container\n",
    "lpmodel = LpProblem(name=\"ex1\",sense=LpMaximize)\n",
    "\n",
    "#create decision variables\n",
    "x = LpVariable(name=\"x\", cat=\"Integer\")\n",
    "y = LpVariable(name=\"y\", cat=\"Integer\")\n",
    "\n",
    "#create objective function and add it to model\n",
    "obj_fcn = 8*x+4*y\n",
    "lpmodel += obj_fcn\n",
    "\n",
    "#create constraints and add to model\n",
    "lpmodel += (-3*x+2*y <= 8, \"constraint 1\")\n",
    "lpmodel += ( 5*x+2*y <= 16, \"constraint 2\")\n",
    "lpmodel += (x >=0, \"constraint 3\")\n",
    "lpmodel += (y >=0, \"constraint 4\")\n",
    "\n",
    "output = lpmodel.solve()\n",
    "\n",
    "if lpmodel.status:\n",
    "    print(\"LP model solve succeeded.\")\n",
    "    print(f\"z= {lpmodel.objective.value()}\")\n",
    "    for var in lpmodel.variables():\n",
    "        print(f\"{var.name}: {var.value()}\")\n",
    "else:\n",
    "    print(\"LP model solve failed.\")\n"
   ]
  },
  {
   "cell_type": "markdown",
   "id": "620d0782",
   "metadata": {},
   "source": [
    "### Example 2\n",
    "Max \n",
    "$$z = 4x_1 - 2x_2 + 7x_3 -x_4$$\n",
    "subject to\n",
    "$$x_1 + 5x_3 \\leq 10,$$\n",
    "$$x_1 + x_2 - x_3 \\leq 1,$$\n",
    "$$6x_1 - 5x_2 \\leq 0,$$\n",
    "$$-x_1 + 2x_3 -2x_4 \\leq 3.$$"
   ]
  },
  {
   "cell_type": "code",
   "execution_count": 5,
   "id": "c228933d",
   "metadata": {},
   "outputs": [
    {
     "name": "stdout",
     "output_type": "stream",
     "text": [
      "LP model solve succeeded.\n",
      "z= 14.25\n",
      "x1: 1.25\n",
      "x2: 1.5\n",
      "x3: 1.75\n",
      "x4: 0.0\n"
     ]
    }
   ],
   "source": [
    "#create LP model container\n",
    "lpmodel2 = LpProblem(name=\"ex2\",sense=LpMaximize)\n",
    "\n",
    "#create decision variables\n",
    "x1 = LpVariable(name=\"x1\")#, cat=\"Integer\")\n",
    "x2 = LpVariable(name=\"x2\")#, cat=\"Integer\")\n",
    "x3 = LpVariable(name=\"x3\")#, cat=\"Integer\")\n",
    "x4 = LpVariable(name=\"x4\")\n",
    "\n",
    "#create objective function and add it to model\n",
    "obj_fcn = 4*x1 - 2*x2 + 7*x3 - x4\n",
    "lpmodel2 += obj_fcn\n",
    "\n",
    "#create constraints and add to model\n",
    "lpmodel2 += (x1 + 5*x3 <= 10, \"constraint 1\")\n",
    "lpmodel2 += (x1+x2 - x3 <= 1, \"constraint 2\")\n",
    "lpmodel2 += (6*x1 - 5*x2 <= 0, \"constraint 3\")\n",
    "lpmodel2 += (-x1 + 2*x2 - 2*x4 <= 3, \"constraint 4\")\n",
    "lpmodel2 += (x1 >=0, \"constraint 5\")\n",
    "lpmodel2 += (x2 >=0, \"constraint 6\")\n",
    "lpmodel2 += (x3 >=0, \"constraint 7\")\n",
    "lpmodel2 += (x4 >=0, \"constraint 8\")\n",
    "\n",
    "output = lpmodel2.solve()\n",
    "\n",
    "if lpmodel2.status:\n",
    "    print(\"LP model solve succeeded.\")\n",
    "    print(f\"z= {lpmodel2.objective.value()}\")\n",
    "    for var in lpmodel2.variables():\n",
    "        print(f\"{var.name}: {var.value()}\")\n",
    "else:\n",
    "    print(\"LP model solve failed.\")"
   ]
  },
  {
   "cell_type": "code",
   "execution_count": null,
   "id": "2f70ee7e",
   "metadata": {},
   "outputs": [],
   "source": []
  }
 ],
 "metadata": {
  "kernelspec": {
   "display_name": "Python 3 (ipykernel)",
   "language": "python",
   "name": "python3"
  },
  "language_info": {
   "codemirror_mode": {
    "name": "ipython",
    "version": 3
   },
   "file_extension": ".py",
   "mimetype": "text/x-python",
   "name": "python",
   "nbconvert_exporter": "python",
   "pygments_lexer": "ipython3",
   "version": "3.9.12"
  }
 },
 "nbformat": 4,
 "nbformat_minor": 5
}
