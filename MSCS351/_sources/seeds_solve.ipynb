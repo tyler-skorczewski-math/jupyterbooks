{
 "cells": [
  {
   "cell_type": "markdown",
   "id": "867820fa",
   "metadata": {},
   "source": [
    "# Seeds Example"
   ]
  },
  {
   "cell_type": "code",
   "execution_count": 1,
   "id": "870a0fce",
   "metadata": {},
   "outputs": [],
   "source": [
    "import numpy as np\n",
    "from scipy.optimize import fsolve"
   ]
  },
  {
   "cell_type": "code",
   "execution_count": 11,
   "id": "5fd59e34",
   "metadata": {},
   "outputs": [],
   "source": [
    "def func(a,r,s,c,m):\n",
    "    output = (1.-a*r)*(-r*s-m*s*r**(m+1)*a**(m-1) + (m+1)*s*r**(m+1)*a**(m) + m*c*r**m*a**(m-1))\n",
    "    output += r*(r*s - r*s*a - c -s*r**(m+1)*a**m + s*r**(m+1)*a**(m+1) + c*r**m*a**m)\n",
    "    return(output)"
   ]
  },
  {
   "cell_type": "code",
   "execution_count": 15,
   "id": "e195b1fa",
   "metadata": {},
   "outputs": [
    {
     "name": "stdout",
     "output_type": "stream",
     "text": [
      "[0.49098949]\n"
     ]
    }
   ],
   "source": [
    "sol = fsolve(func,0.5,args=(8,1,3,5))\n",
    "print(sol)"
   ]
  },
  {
   "cell_type": "code",
   "execution_count": 16,
   "id": "224adecd",
   "metadata": {},
   "outputs": [
    {
     "name": "stdout",
     "output_type": "stream",
     "text": [
      "[0.49410653]\n"
     ]
    }
   ],
   "source": [
    "#one percent change in r \n",
    "#how affect alpha\n",
    "\n",
    "sol = fsolve(func,0.5,args=(8+0.01*8,1,3,5))\n",
    "print(sol)\n"
   ]
  },
  {
   "cell_type": "code",
   "execution_count": 17,
   "id": "67529d3b",
   "metadata": {},
   "outputs": [
    {
     "data": {
      "text/plain": [
       "0.006348486196720861"
      ]
     },
     "execution_count": 17,
     "metadata": {},
     "output_type": "execute_result"
    }
   ],
   "source": [
    "(.49410653-.49098949)/.49098949"
   ]
  },
  {
   "cell_type": "code",
   "execution_count": 18,
   "id": "3e727be7",
   "metadata": {},
   "outputs": [],
   "source": [
    "#about a 0.6%change in alpha"
   ]
  },
  {
   "cell_type": "code",
   "execution_count": 20,
   "id": "65396efd",
   "metadata": {},
   "outputs": [
    {
     "name": "stdout",
     "output_type": "stream",
     "text": [
      "[0.48796708]\n"
     ]
    }
   ],
   "source": [
    "sol = fsolve(func,0.5,args=(8,1.,3.03,5))\n",
    "print(sol)\n"
   ]
  },
  {
   "cell_type": "code",
   "execution_count": null,
   "id": "6c2d5359",
   "metadata": {},
   "outputs": [],
   "source": []
  }
 ],
 "metadata": {
  "kernelspec": {
   "display_name": "Python 3 (ipykernel)",
   "language": "python",
   "name": "python3"
  },
  "language_info": {
   "codemirror_mode": {
    "name": "ipython",
    "version": 3
   },
   "file_extension": ".py",
   "mimetype": "text/x-python",
   "name": "python",
   "nbconvert_exporter": "python",
   "pygments_lexer": "ipython3",
   "version": "3.9.12"
  }
 },
 "nbformat": 4,
 "nbformat_minor": 5
}
