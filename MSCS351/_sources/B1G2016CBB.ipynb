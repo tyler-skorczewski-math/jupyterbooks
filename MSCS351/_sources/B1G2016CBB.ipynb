{
 "cells": [
  {
   "cell_type": "markdown",
   "id": "25723aa2",
   "metadata": {},
   "source": [
    "### 2016 Big Ten CBB"
   ]
  },
  {
   "cell_type": "code",
   "execution_count": null,
   "id": "689f2aac",
   "metadata": {},
   "outputs": [],
   "source": [
    "b1gnames = ['Illinois','Michigan','Maryland','Michigan State','Iowa','Ohio State','Northwestern',\n",
    "           'Rutgers','Indiana','Nebraska','Minnesota','Purdue','Penn State','Wisconsin']\n",
    "\n",
    "tmat = np.zeros((14,14))\n",
    "\n",
    "tmat[0,:] = np.array([0,0,0,0,0,0,0,2,0,0,2,1,0,0])\n",
    "tmat[1,:] = np.array([1,0,1,0,0,0,1,1,0,1,2,1,2,0])\n",
    "tmat[2,:] = np.array([1,1,0,0,1,2,2,1,0,1,0,1,1,1])\n",
    "tmat[3,:] = np.array([1,1,1,0,0,2,1,2,1,0,1,0,2,1])\n",
    "tmat[4,:] = np.array([1,2,0,2,0,0,1,1,0,1,1,2,1,0])\n",
    "tmat[5,:] = np.array([2,1,0,0,1,0,2,2,0,1,1,0,1,0])\n",
    "tmat[6,:] = np.array([1,0,0,0,0,0,0,1,0,2,2,0,1,1])\n",
    "tmat[7,:] = np.array([0,0,0,0,0,0,0,0,0,0,1,0,0,0])\n",
    "tmat[8,:] = np.array([2,1,1,0,2,1,1,1,0,2,2,1,0,1])\n",
    "tmat[9,:] = np.array([1,0,0,1,0,0,0,2,0,0,1,0,1,0])\n",
    "tmat[10,:] = np.array([0,0,1,0,0,0,0,1,0,0,0,0,0,0])\n",
    "tmat[11,:] = np.array([0,1,1,1,0,1,1,1,0,2,1,0,1,2])\n",
    "tmat[12,:] = np.array([1,0,0,0,1,0,1,1,1,1,1,0,0,0])\n",
    "tmat[13,:] = np.array([2,1,1,1,1,1,0,1,1,1,1,0,1,0])\n",
    "\n",
    "print(tmat)"
   ]
  }
 ],
 "metadata": {
  "kernelspec": {
   "display_name": "Python 3 (ipykernel)",
   "language": "python",
   "name": "python3"
  },
  "language_info": {
   "codemirror_mode": {
    "name": "ipython",
    "version": 3
   },
   "file_extension": ".py",
   "mimetype": "text/x-python",
   "name": "python",
   "nbconvert_exporter": "python",
   "pygments_lexer": "ipython3",
   "version": "3.9.12"
  }
 },
 "nbformat": 4,
 "nbformat_minor": 5
}
