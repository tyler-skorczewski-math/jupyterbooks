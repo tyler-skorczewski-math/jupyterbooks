{
 "cells": [
  {
   "cell_type": "markdown",
   "id": "2cd0c9eb",
   "metadata": {},
   "source": [
    "# Introduction to dynamical systems"
   ]
  },
  {
   "cell_type": "code",
   "execution_count": 1,
   "id": "0d1b9360",
   "metadata": {},
   "outputs": [],
   "source": [
    "import numpy as np\n",
    "import matplotlib.pyplot as plt\n",
    "from scipy.optimize import fsolve\n",
    "%matplotlib inline"
   ]
  },
  {
   "cell_type": "markdown",
   "id": "fd14c7bd",
   "metadata": {},
   "source": [
    "### Rumors\n",
    "Consider a rumor spreading throughout a school with \\(P\\) people. Let \\(N(t) \\) be the number of people who have heard the rumor at time \\(t \\).\n",
    "Consider the models for the dynamics of the rumor below. Assume \\(k > 0 \\) is a constant.\n",
    "<ol type='A'>\n",
    "<li>$$\\frac{dN}{dt} = k N$$\n",
    "<li>$$\\frac{dN}{dt} = k (P - N)$$\n",
    "<li>$$\\frac{dN}{dt} = k (N - P)$$\n",
    "<li>$$\\frac{dN}{dt} = k N (N-P)$$\n",
    "<li>$$\\frac{dN}{dt} = k N (P-N)$$\n",
    "<li>$$\\frac{dN}{dt} = k N^2 (P-N)$$\n",
    "</ol>\n",
    "<br>\n",
    "<ol type='1'>\n",
    "<li> Which models above plausibly describe the situation? Why? (There is at least one.)\n",
    "<li> Pick one of the models you think is plausible and translate the differential equation to a sentence with words.\n",
    "<li> What assumptions do we make when building these models?\n",
    "<li> What are the units of \\(k\\) in your plausible models? Are they the same for each?\n",
    "<li> Which of the above DEs are linear? autonomous? first-order? second-order?\n",
    "<li> Of the linear DEs which are homogeneous and which are nonhomogeneous?\n",
    "<li> Let \\(C\\) be a constant number. For which of the first three models is \\(N(t) = P - Ce^{-kt}\\) a solution?\n",
    "  What does it mean for something to solve a differential equation?\n",
    "  Is this different from algebraic equations?\n",
    "<li> Assume \\(N(t)\\) has the form immediately above and that \\(N(0) = N_0\\). Find \\(C\\). What are the units of \\(C\\)? Does it represent anything?\n",
    "</ol>"
   ]
  },
  {
   "cell_type": "code",
   "execution_count": null,
   "id": "6181698b",
   "metadata": {},
   "outputs": [],
   "source": []
  },
  {
   "cell_type": "markdown",
   "id": "3b43e445",
   "metadata": {},
   "source": [
    "### Archery\n",
    "In the archery paper read earlier this term ([archery paper](https://tyler-skorczewski-math.github.io/math250/modelling_learning_youth_archery_MG2020.pdf)) the performance $P$ was modeled with the equations \n",
    "$$\\frac{dP}{dt} = r (300 - P), \\hspace{1cm} P(0)=P_0.$$\n",
    "\n",
    "- Explain the assumptions that went into this model, i.e. describe the model idea in words and then explain how these words translate to the differential equation above.\n",
    "- Describe the differential equation. What labels can be attached to it?\n",
    "- Solve this initial value problem (IVP).\n"
   ]
  },
  {
   "cell_type": "code",
   "execution_count": null,
   "id": "353d9e76",
   "metadata": {},
   "outputs": [],
   "source": []
  },
  {
   "cell_type": "markdown",
   "id": "d672a307",
   "metadata": {},
   "source": [
    "### Tanks\n",
    "1. Consider a 100 gallon tank filled with saltwater. We want to flush out the salt and replace it with fresh water. We will accomplish this by pouring in pure water at a rate of 5 gal/min and letting the mixture flow out at 5 gal/min. Assume the mixture in the tank is always perfectly mixed. \n",
    " - If there is initially 10 lbs of salt in the tank how much is there at time $t$?\n",
    " - How long until there is less than 0.1 lbs of salt in the tank?\n",
    "\n",
    "\n",
    "2. Now consider a 50 gallon tank of pure water. Saltwater with concentration 2 lbs/gal is pumped in at a rate of 3 gal/min, is continuously mixed, and flows out at 3 gal/min.\n",
    " - Set up an IVP describing this situation.\n",
    " - Describe the DE using vocabulary we have learned thus far.\n",
    " - Solve this system. Is there a particular method that is aimed at this type of problem?"
   ]
  },
  {
   "cell_type": "code",
   "execution_count": null,
   "id": "1f69af66",
   "metadata": {},
   "outputs": [],
   "source": []
  },
  {
   "cell_type": "markdown",
   "id": "aa7444b5",
   "metadata": {},
   "source": [
    "### Technique Tangent\n",
    "Solve the following DEs:\n",
    "\n",
    "1. $\\displaystyle \\frac{dy}{dx} = \\sec^2(x)\\csc(y)$\n",
    "2. $\\displaystyle \\frac{df}{dt} = f + ft + t+  1$\n",
    "3. $\\displaystyle \\frac{dx}{dt} + \\frac{1}{t}x = t^2$"
   ]
  },
  {
   "cell_type": "code",
   "execution_count": null,
   "id": "2512cd54",
   "metadata": {},
   "outputs": [],
   "source": []
  },
  {
   "cell_type": "markdown",
   "id": "ccde273e",
   "metadata": {},
   "source": [
    "### Pharmaceuticals \n",
    "Consider taking a pill. The pill dissolves and enters the bloodstream at a rate proportional to the amount left in the pill.\n",
    "  The body metabolizes the drug in the bloodstream at a rate proportional to the amount in the bloodstream.\n",
    "  <ol type='1'>\n",
    "  <li> Come up with a system of differential equations that describe this system. Let \\(A\\) be the amount of drug in the pill and \\(C\\) be the amount in the bloodstream.\n",
    "  <li> Let \\(A(0) = A_0\\) be the initial amount in the pill. Solve your IVP for \\(A(t)\\).\n",
    "  <li> Use your solution above to find \\(C(t)\\).\n",
    "  <li> Perform some sanity checks on your solution for \\(C(t)\\). Do the units work? Is \\(C(t) \\ge 0\\)? Should it be?\n",
    "  <li> Sketch a graph of \\(C(t)\\).\n",
    "  <li> When is the amount of drug in the bloodstream at a maximum?\n",
    "  <li> How is this related to the tank problems in the text or above?\n",
    "  </ol>\n",
    "  <P>This idea is explored in more detail in <a href=\"wagner1967_pharmacokinetics.pdf\">this paper by Wagner</a>.\n",
    "    They use the compartment model described above and match the theoretical/computational results to experiment.\n",
    "    The figure below shows how well the model aligns with experimental data."
   ]
  },
  {
   "cell_type": "code",
   "execution_count": null,
   "id": "6b24f89c",
   "metadata": {},
   "outputs": [],
   "source": []
  },
  {
   "cell_type": "markdown",
   "id": "22a3e51f",
   "metadata": {},
   "source": [
    "### Murder investigation\n",
    "At 3:00 PM a dead body is found. Its temperature is $70^{\\circ}$F. At 4:00 PM its temperature is $60^{\\circ}$F. The temperature outside where the body is found is a constant $30^{\\circ}$F. When did the person die?"
   ]
  },
  {
   "cell_type": "code",
   "execution_count": null,
   "id": "aac9f069",
   "metadata": {},
   "outputs": [],
   "source": []
  },
  {
   "cell_type": "code",
   "execution_count": null,
   "id": "b018161b",
   "metadata": {},
   "outputs": [],
   "source": []
  }
 ],
 "metadata": {
  "kernelspec": {
   "display_name": "Python 3 (ipykernel)",
   "language": "python",
   "name": "python3"
  },
  "language_info": {
   "codemirror_mode": {
    "name": "ipython",
    "version": 3
   },
   "file_extension": ".py",
   "mimetype": "text/x-python",
   "name": "python",
   "nbconvert_exporter": "python",
   "pygments_lexer": "ipython3",
   "version": "3.9.12"
  }
 },
 "nbformat": 4,
 "nbformat_minor": 5
}
