{
 "cells": [
  {
   "cell_type": "code",
   "execution_count": 1,
   "id": "9098dd95",
   "metadata": {},
   "outputs": [],
   "source": [
    "import numpy as np\n",
    "import matplotlib.pyplot as plt\n",
    "from pulp import *"
   ]
  },
  {
   "cell_type": "markdown",
   "id": "2c10d0cd",
   "metadata": {},
   "source": [
    "### Family farm example\n",
    "A family farm has 625 acres for planting. The crops considered are corn, wheat, and oats. It is anticipated that 1000 acre-feet of water will be available for irrigation, and the family has up to 300 hours of labor each week.\n",
    "The requirements and expected profit for each crop (per acre) are below.\n",
    "\n",
    "|                      | corn | wheat | oats |\n",
    "|----------------------|------|-------|------|\n",
    "| irrigation (acre-ft) | 3.0  | 1.0   | 1.5  |\n",
    "| labor (hrs/week)     | 0.8  | 0.2   | 0.3  |\n",
    "| profit ($)           | 400  | 200   | 250  |\n",
    "\n",
    "How should the family set up their farm? What are the shadow prices for labor and irrigation?\n"
   ]
  },
  {
   "cell_type": "code",
   "execution_count": 5,
   "id": "479d2561",
   "metadata": {},
   "outputs": [],
   "source": [
    "#create LP model container\n",
    "lpmodel = LpProblem(name=\"farm\",sense=LpMaximize)\n",
    "\n",
    "#create variables\n",
    "x = LpVariable(name=\"x\", lowBound=0)\n",
    "y = LpVariable(name=\"y\", lowBound=0)\n",
    "z = LpVariable(name=\"z\", lowBound=0)\n",
    "\n",
    "#create objective function and add it to model\n",
    "obj_fcn = 400*x+200*y+250*z\n",
    "lpmodel += obj_fcn\n",
    "\n",
    "#create constraints and add to model\n",
    "lpmodel += (x+y+z <= 625, \"constraint 1\")\n",
    "lpmodel += (0.8*x+0.2*y+0.3*z <= 300, \"constraint 2\")\n",
    "lpmodel += (3.*x+1.*y+1.5*z<=1001,\"constraint 3\")"
   ]
  },
  {
   "cell_type": "code",
   "execution_count": 6,
   "id": "36cd8647",
   "metadata": {},
   "outputs": [
    {
     "data": {
      "text/plain": [
       "1"
      ]
     },
     "execution_count": 6,
     "metadata": {},
     "output_type": "execute_result"
    }
   ],
   "source": [
    "lpmodel.solve()"
   ]
  },
  {
   "cell_type": "code",
   "execution_count": 7,
   "id": "13a8e2d2",
   "metadata": {},
   "outputs": [
    {
     "name": "stdout",
     "output_type": "stream",
     "text": [
      "LP model solve succeeded.\n",
      "z= 162600.0\n",
      "x: 188.0\n",
      "y: 437.0\n",
      "z: 0.0\n"
     ]
    }
   ],
   "source": [
    "if lpmodel.status:\n",
    "    print(\"LP model solve succeeded.\")\n",
    "    print(f\"z= {lpmodel.objective.value()}\")\n",
    "    for var in lpmodel.variables():\n",
    "        print(f\"{var.name}: {var.value()}\")\n",
    "else:\n",
    "    print(\"LP model solve failed.\")\n",
    "    "
   ]
  },
  {
   "cell_type": "markdown",
   "id": "795c54bb",
   "metadata": {},
   "source": [
    "### Lab diets\n",
    "Consider a lab animal fed on a liquid diet. The diet needs to have at least 300 calories, 36 mg vitamin A, 90 mg vitamin C. Drink $X$ provides 60 calories, 12 mg vitamin A, and 10 mg vitamin C per ounce. Drink $Y$ provides 60 calories, 6 mg vitamin A, and 30 mg vitamin C per ounce. Suppose $X$ costs \\\\$0.12 per ounce and $Y$ costs \\\\$0.15 per ounce. What is the minimum cost to meet the daily requirements?"
   ]
  },
  {
   "cell_type": "code",
   "execution_count": null,
   "id": "c7abef64",
   "metadata": {},
   "outputs": [],
   "source": []
  }
 ],
 "metadata": {
  "kernelspec": {
   "display_name": "Python 3 (ipykernel)",
   "language": "python",
   "name": "python3"
  },
  "language_info": {
   "codemirror_mode": {
    "name": "ipython",
    "version": 3
   },
   "file_extension": ".py",
   "mimetype": "text/x-python",
   "name": "python",
   "nbconvert_exporter": "python",
   "pygments_lexer": "ipython3",
   "version": "3.9.12"
  }
 },
 "nbformat": 4,
 "nbformat_minor": 5
}
