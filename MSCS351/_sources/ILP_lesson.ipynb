{
 "cells": [
  {
   "cell_type": "markdown",
   "id": "2600fc95",
   "metadata": {},
   "source": [
    "# ILP Lesson"
   ]
  },
  {
   "cell_type": "code",
   "execution_count": 4,
   "id": "f3dbadba",
   "metadata": {},
   "outputs": [],
   "source": [
    "import numpy as np\n",
    "import matplotlib.pyplot as plt\n",
    "from pulp import *"
   ]
  },
  {
   "cell_type": "markdown",
   "id": "3940b038",
   "metadata": {},
   "source": [
    "### Machine Shop Planning\n",
    "The owner of a machine shop is planning to expand by purchasing some new machines - presses and lathes. The owner has estimated that each press purchased will increase profit by \\\\$100 per day and each lathe by \\\\$150 per day. The number of machines purchased is limited by total cost and floor space available. The machine purchase prices and floor space requirements are given in the table below.\n",
    "\n",
    "\n",
    "| Machine | Required floor space (sq ft) | Purchase price ($) |\n",
    "|---------|------------------------------|--------------------|\n",
    "| Press   | 15                           | 8,000              |\n",
    "| Lathe   | 30                           | 4,000              |\n",
    "\n",
    "\n",
    "If the owner has a budget of \\\\$40,000 and 200 square feet of floor space available, how many of each type of each machine should be purchased to maximize daily increase in profit?"
   ]
  },
  {
   "cell_type": "markdown",
   "id": "1aa5faa7",
   "metadata": {},
   "source": [
    "&nbsp;\n",
    "\n",
    "&nbsp;\n",
    "\n",
    "&nbsp;\n",
    "\n",
    "&nbsp;\n",
    "\n",
    "&nbsp;\n",
    "\n",
    "&nbsp;\n",
    "\n",
    "&nbsp;\n",
    "\n",
    "&nbsp;\n",
    "\n",
    "&nbsp;\n",
    "\n",
    "&nbsp;\n",
    "\n",
    "\n",
    "\n",
    "\n",
    "\n",
    "\n",
    "Let $x_1 \\equiv$ number of presses and $x_2 \\equiv$ number of lathes.\n",
    "\n",
    "Maximize $$P = 100x_1 + 150x_2,$$\n",
    "subject to\n",
    "$$8000x_1 + 4000x_2 \\leq 40000,$$\n",
    "$$15x_1 + 30 x_2 \\leq 200,$$\n",
    "$$x_1,x_2 \\geq 0.$$"
   ]
  },
  {
   "cell_type": "code",
   "execution_count": 10,
   "id": "053a6bdf",
   "metadata": {},
   "outputs": [
    {
     "name": "stdout",
     "output_type": "stream",
     "text": [
      "LP model solve succeeded.\n",
      "z= 1000.0\n",
      "x1: 1.0\n",
      "x2: 6.0\n"
     ]
    }
   ],
   "source": [
    "#create LP model container\n",
    "lpmodel = LpProblem(name=\"shop\",sense=LpMaximize)\n",
    "\n",
    "#create variables\n",
    "x1 = LpVariable(name=\"x1\", lowBound=0)\n",
    "x2 = LpVariable(name=\"x2\", lowBound=0)\n",
    "\n",
    "#create objective function and add it to model\n",
    "obj_fcn = 100*x1+150*x2\n",
    "lpmodel += obj_fcn\n",
    "\n",
    "#create constraints and add to model\n",
    "lpmodel += (8000*x1+4000*x2 <= 40000, \"budget\")\n",
    "lpmodel += (15*x1+30*x2 <= 200, \"floor space\")\n",
    "lpmodel += (x2 >= 6, \"con 5\")\n",
    "lpmodel += (x1 <= 1, \"con 6\")\n",
    "lpmodel += (x2 <= 6, \"con 7\")\n",
    "\n",
    "lpmodel.solve()\n",
    "\n",
    "if lpmodel.status:\n",
    "    print(\"LP model solve succeeded.\")\n",
    "    print(f\"z= {lpmodel.objective.value()}\")\n",
    "    for var in lpmodel.variables():\n",
    "        print(f\"{var.name}: {var.value()}\")\n",
    "else:\n",
    "    print(\"LP model solve failed.\")"
   ]
  },
  {
   "cell_type": "markdown",
   "id": "13944044",
   "metadata": {},
   "source": [
    "### Any issues?\n",
    "What assumptions went into this model?\n",
    "What issues do you see with the solution?\n",
    "How can we modify our approach to address these?\n"
   ]
  },
  {
   "cell_type": "code",
   "execution_count": null,
   "id": "dd71066b",
   "metadata": {},
   "outputs": [],
   "source": [
    "#walk through branch and bound"
   ]
  },
  {
   "cell_type": "code",
   "execution_count": null,
   "id": "be480c01",
   "metadata": {},
   "outputs": [],
   "source": []
  },
  {
   "cell_type": "code",
   "execution_count": null,
   "id": "9f86e894",
   "metadata": {},
   "outputs": [],
   "source": []
  },
  {
   "cell_type": "markdown",
   "id": "cb2577d1",
   "metadata": {},
   "source": [
    "### How to implement with PuLP library\n",
    "Just add \n",
    "> cat=\"Integer\"\n",
    "\n",
    "to LpVariable declaration."
   ]
  },
  {
   "cell_type": "code",
   "execution_count": null,
   "id": "bece428c",
   "metadata": {},
   "outputs": [],
   "source": []
  },
  {
   "cell_type": "code",
   "execution_count": 11,
   "id": "6fadb618",
   "metadata": {},
   "outputs": [
    {
     "name": "stdout",
     "output_type": "stream",
     "text": [
      "LP model solve succeeded.\n",
      "z= 1000\n",
      "x1: 1\n",
      "x2: 6\n"
     ]
    }
   ],
   "source": [
    "#create LP model container\n",
    "lpmodel = LpProblem(name=\"shop\",sense=LpMaximize)\n",
    "\n",
    "#create variables\n",
    "x1 = LpVariable(name=\"x1\", lowBound=0,cat=\"Integer\")\n",
    "x2 = LpVariable(name=\"x2\", lowBound=0,cat=\"Integer\")\n",
    "\n",
    "#create objective function and add it to model\n",
    "obj_fcn = 100*x1+150*x2\n",
    "lpmodel += obj_fcn\n",
    "\n",
    "#create constraints and add to model\n",
    "lpmodel += (8000*x1+4000*x2 <= 40000, \"budget\")\n",
    "lpmodel += (15*x1+30*x2 <= 200, \"floor space\")\n",
    "\n",
    "lpmodel.solve()\n",
    "\n",
    "if lpmodel.status:\n",
    "    print(\"LP model solve succeeded.\")\n",
    "    print(f\"z= {lpmodel.objective.value()}\")\n",
    "    for var in lpmodel.variables():\n",
    "        print(f\"{var.name}: {var.value()}\")\n",
    "else:\n",
    "    print(\"LP model solve failed.\")"
   ]
  },
  {
   "cell_type": "markdown",
   "id": "280b1e7a",
   "metadata": {},
   "source": [
    "### Example 2\n",
    "Cal wants to expand:\n",
    "- Build new factory in either Los Angeles, San Francisco, both or neither.\n",
    " - Build new warehouse (at most one).\n",
    " - Warehouse must be built close to the city of a new factory.\n",
    "- Available capital: $10,000,000\n",
    "- Cal wants to maximize “total net present value” (profitability vs. time value of money)\n",
    "\n",
    "||NPV| Price|\n",
    "|---|------|---|\n",
    "|Build a factory in L.A.?| \\\\$9m| \\\\$6m|\n",
    "|Build a factory in S.F.?| \\\\$5m| \\\\$3m|\n",
    "|Build a warehouse in L.A.?| \\\\$6m| \\\\$5m|\n",
    "|Build a warehouse in S.F.?| \\\\$4m| \\\\$2m|\n"
   ]
  },
  {
   "cell_type": "code",
   "execution_count": 12,
   "id": "917a0cd4",
   "metadata": {},
   "outputs": [
    {
     "name": "stdout",
     "output_type": "stream",
     "text": [
      "LP model solve succeeded.\n",
      "z= 14\n",
      "x1: 1\n",
      "x2: 1\n",
      "x3: 0\n",
      "x4: 0\n"
     ]
    }
   ],
   "source": [
    "#create LP model container\n",
    "lpmodel = LpProblem(name=\"cal\",sense=LpMaximize)\n",
    "\n",
    "#create variables\n",
    "x1 = LpVariable(name=\"x1\", lowBound=0,cat=\"Binary\")\n",
    "x2 = LpVariable(name=\"x2\", lowBound=0,cat=\"Binary\")\n",
    "x3 = LpVariable(name=\"x3\", lowBound=0,cat=\"Binary\")\n",
    "x4 = LpVariable(name=\"x4\", lowBound=0,cat=\"Binary\")\n",
    "\n",
    "#create objective function and add it to model\n",
    "obj_fcn = 9*x1 + 5*x2+6*x3+4*x4\n",
    "lpmodel += obj_fcn\n",
    "\n",
    "#create constraints and add to model\n",
    "lpmodel += (6*x1+3*x2+5*x3+2*x4 <= 10, \"budget\")\n",
    "lpmodel += (x3+x4 <= 1, \"warehouses\")\n",
    "lpmodel += (x3 - x1 <= 0, \"log 1\")\n",
    "lpmodel += (x4 - x2 <= 0, \"log 2\")\n",
    "\n",
    "\n",
    "\n",
    "lpmodel.solve()\n",
    "\n",
    "if lpmodel.status:\n",
    "    print(\"LP model solve succeeded.\")\n",
    "    print(f\"z= {lpmodel.objective.value()}\")\n",
    "    for var in lpmodel.variables():\n",
    "        print(f\"{var.name}: {var.value()}\")\n",
    "else:\n",
    "    print(\"LP model solve failed.\")"
   ]
  },
  {
   "cell_type": "code",
   "execution_count": null,
   "id": "30a3e385",
   "metadata": {},
   "outputs": [],
   "source": []
  },
  {
   "cell_type": "code",
   "execution_count": null,
   "id": "e4446029",
   "metadata": {},
   "outputs": [],
   "source": []
  },
  {
   "cell_type": "markdown",
   "id": "f1de12b3",
   "metadata": {},
   "source": [
    "### Conference planning\n",
    "The Mathematical Association of America (MAA) plans a 3-day conference at a big hotel with many conference rooms. The conference knows that they need 15 rooms for the first day, 28 for the second day, and 19 for the third day. The hotel rents rooms at a rate of \\\\$17 per room for a single day rental, or \\\\$30 to rent a room for consecutive days. Can you set up a linear programming problem to figure out how the MAA should rent rooms to minimize the rental cost?"
   ]
  },
  {
   "cell_type": "code",
   "execution_count": null,
   "id": "ec29b887",
   "metadata": {},
   "outputs": [],
   "source": []
  }
 ],
 "metadata": {
  "kernelspec": {
   "display_name": "Python 3 (ipykernel)",
   "language": "python",
   "name": "python3"
  },
  "language_info": {
   "codemirror_mode": {
    "name": "ipython",
    "version": 3
   },
   "file_extension": ".py",
   "mimetype": "text/x-python",
   "name": "python",
   "nbconvert_exporter": "python",
   "pygments_lexer": "ipython3",
   "version": "3.9.12"
  }
 },
 "nbformat": 4,
 "nbformat_minor": 5
}
