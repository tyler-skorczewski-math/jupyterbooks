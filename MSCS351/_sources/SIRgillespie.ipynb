{
 "cells": [
  {
   "cell_type": "markdown",
   "id": "1296c8ce",
   "metadata": {},
   "source": [
    "# Stochastic model ideas"
   ]
  },
  {
   "cell_type": "code",
   "execution_count": 1,
   "id": "b19d35d3",
   "metadata": {},
   "outputs": [],
   "source": [
    "import numpy as np\n",
    "import matplotlib.pyplot as plt\n",
    "from scipy.optimize import fsolve\n",
    "from scipy.integrate import solve_ivp\n",
    "%matplotlib inline"
   ]
  },
  {
   "cell_type": "markdown",
   "id": "bc25cdf8",
   "metadata": {},
   "source": [
    "### coin game\n",
    "A simple game of chance is played by flipping a coin. If the coin lands heads the player gets \\\\$1. If the coin lands tails the player loses \\\\$1. The player starts with \\\\$10.\n",
    "\n",
    "- What are the odds the player goes broke before doubling their money?\n",
    "- How long on average does a game last?"
   ]
  },
  {
   "cell_type": "code",
   "execution_count": null,
   "id": "6dec44bc",
   "metadata": {},
   "outputs": [],
   "source": []
  },
  {
   "cell_type": "markdown",
   "id": "f624e4a2",
   "metadata": {},
   "source": [
    "### SIR\n",
    "Consider the SIR model\n",
    "\n",
    "\\begin{align*}\n",
    "\\frac{dS}{dt} &= m(S+I+R) -mS + \\gamma R -\\alpha SI  \\\\\n",
    "\\frac{dI}{dt} &= \\alpha SI - \\beta I - \\nu I -mI\\\\\n",
    "\\frac{dR}{dt} &= \\beta I - \\gamma R - mR\n",
    "\\end{align*}\n",
    "\n"
   ]
  },
  {
   "cell_type": "code",
   "execution_count": 88,
   "id": "18d4fde8",
   "metadata": {},
   "outputs": [
    {
     "data": {
      "image/png": "[encoded data removed]",
      "text/plain": [
       "<Figure size 432x288 with 1 Axes>"
      ]
     },
     "metadata": {
      "needs_background": "light"
     },
     "output_type": "display_data"
    }
   ],
   "source": [
    "alpha = np.random.normal(loc=0.15,scale=0.05)\n",
    "beta = 1./14.\n",
    "nu = np.random.normal(loc=0.01,scale=0.003)\n",
    "gamma = 1./300.\n",
    "m = 7.5e-4\n",
    "\n",
    "t = np.linspace(0,3*365,1001) #one year time period \n",
    "pop = 1000 #population size\n",
    "\n",
    "def SIRmodel(t,y):\n",
    "    S, I, R, D = y\n",
    "    return ([m*(S+I+R) + gamma*R-alpha*S*I - m*S,alpha*S*I-beta*I-nu*I-m*I,beta*I-gamma*R-m*R, nu*I])\n",
    "\n",
    "initinfected = 50.\n",
    "Iinit = initinfected/pop\n",
    "Sinit = (pop - initinfected)/pop \n",
    "Rinit = 0.\n",
    "Dinit = 0.\n",
    "\n",
    "sol = solve_ivp(SIRmodel,[t[0],t[-1]],[Sinit,Iinit,Rinit, Dinit],dense_output=True)\n",
    "\n",
    "plt.plot(t,sol.sol(t)[0],'b',t,sol.sol(t)[1],'r',t,sol.sol(t)[2],'g',t,sol.sol(t)[3],'k');\n",
    "plt.xlabel('time [day]');\n",
    "plt.legend(['S','I','R','D']);\n",
    "\n"
   ]
  },
  {
   "cell_type": "markdown",
   "id": "5f4ccf3d",
   "metadata": {},
   "source": [
    "### Stochastic SIR\n",
    "Consider the SIR model\n",
    "\n",
    "\\begin{align*}\n",
    "\\frac{dS}{dt} &= m(S+I+R) -\\alpha SI  \\\\\n",
    "\\frac{dI}{dt} &= \\alpha SI - \\beta I - \\nu I - mI \\\\\n",
    "\\frac{dR}{dt} &= \\beta I -mR\n",
    "\\end{align*}\n",
    "\n",
    "- Use the Gillespie algorithm to simulate this model for 1 year.\n",
    "- Consider a situation where $m=0, \\nu=0.01$. Run until infection is done and report the time. "
   ]
  },
  {
   "cell_type": "code",
   "execution_count": 68,
   "id": "e56051a0",
   "metadata": {},
   "outputs": [],
   "source": [
    "alpha = 0.05\n",
    "beta = 0.09\n",
    "nu = 0.01\n",
    "m = 0.0e-4\n",
    "def getprobs(state):\n",
    "    #calculate probs of process transitions given state\n",
    "    S,I,R = state[0],state[1],state[2]\n",
    "    probs = np.zeros(7)\n",
    "    probs[0] = m*(S+I+R) #birth\n",
    "    probs[1] = m*S #S death\n",
    "    probs[2] = m*I #I natural death\n",
    "    probs[3] = m*R #recovered death\n",
    "    probs[4] = alpha*S*I #infection\n",
    "    probs[5] = beta*I #recovery\n",
    "    probs[6] = nu*I #death due to infection\n",
    "    return(probs)\n",
    "\n",
    "def getprocess(probs):\n",
    "    #determine which process from list of probs\n",
    "    r = np.random.random()*np.sum(probs)\n",
    "    process = 0\n",
    "    s = probs[process]\n",
    "    while (r > s):\n",
    "        process += 1\n",
    "        s += probs[process]\n",
    "    return(process)\n",
    "    \n",
    "    "
   ]
  },
  {
   "cell_type": "code",
   "execution_count": 90,
   "id": "c9d9b64f",
   "metadata": {},
   "outputs": [],
   "source": [
    "def getflutimes():\n",
    "\n",
    "    #simulate SIR with gillespie once\n",
    "    endtime = 365\n",
    "    ntrans=0\n",
    "\n",
    "    Sinit = 49\n",
    "    Iinit = 1\n",
    "    Rinit = 0\n",
    "    S = Sinit\n",
    "    I = Iinit\n",
    "    R = Rinit\n",
    "    time = 0.\n",
    "    state = [Sinit, Iinit, Rinit]\n",
    "\n",
    "    #result = np.array(state)\n",
    "    times= np.array([time])\n",
    "    Ss = np.array([Sinit])\n",
    "    Is = np.array([Iinit])\n",
    "    Rs = np.array([Rinit])\n",
    "\n",
    "    while ((time < endtime) and (I > 0)):\n",
    "        ntrans+=1\n",
    "\n",
    "        state = [S, I, R]\n",
    "        #get probs for transitions in current state\n",
    "        probs = getprobs(state)\n",
    "        #get time to transition\n",
    "        tau = (1./np.sum(probs))*np.log(1./np.random.random())\n",
    "        #update time\n",
    "        time += tau\n",
    "        times = np.append(times,time)\n",
    "        #get which process happens\n",
    "        process = getprocess(probs)\n",
    "        #update state\n",
    "        if (process == 0):\n",
    "            S += 1\n",
    "        if (process == 1):\n",
    "            S -= 1\n",
    "        if (process == 2):\n",
    "            I-=1\n",
    "        if (process == 3):\n",
    "            R-=1\n",
    "        if (process == 4):\n",
    "            S-=1 \n",
    "            I+=1\n",
    "        if (process == 5):\n",
    "            I-=1 \n",
    "            R+=1\n",
    "        if (process == 6):\n",
    "            I-=1\n",
    "        Ss = np.append(Ss,S)\n",
    "        Is = np.append(Is,I)\n",
    "        Rs = np.append(Rs,R)\n",
    "        \n",
    "    return(times[-1])\n",
    "\n",
    "\n",
    "\n",
    "#print(ntrans)\n",
    "#plt.plot(times,Ss,'b',times,Is,'r',times,Rs,'g');"
   ]
  },
  {
   "cell_type": "code",
   "execution_count": 92,
   "id": "039a11d0",
   "metadata": {},
   "outputs": [
    {
     "name": "stdout",
     "output_type": "stream",
     "text": [
      "58.25025466598014\n"
     ]
    },
    {
     "data": {
      "image/png": "[encoded data removed]",
      "text/plain": [
       "<Figure size 432x288 with 1 Axes>"
      ]
     },
     "metadata": {
      "needs_background": "light"
     },
     "output_type": "display_data"
    }
   ],
   "source": [
    "ntimes = 1000\n",
    "flutimes = np.zeros(ntimes)\n",
    "for i in range(0,ntimes):\n",
    "    flutimes[i] = getflutimes()\n",
    "\n",
    "plt.hist(flutimes)\n",
    "print(np.mean(flutimes))"
   ]
  },
  {
   "cell_type": "code",
   "execution_count": null,
   "id": "73d68d22",
   "metadata": {},
   "outputs": [],
   "source": []
  }
 ],
 "metadata": {
  "kernelspec": {
   "display_name": "Python 3 (ipykernel)",
   "language": "python",
   "name": "python3"
  },
  "language_info": {
   "codemirror_mode": {
    "name": "ipython",
    "version": 3
   },
   "file_extension": ".py",
   "mimetype": "text/x-python",
   "name": "python",
   "nbconvert_exporter": "python",
   "pygments_lexer": "ipython3",
   "version": "3.9.12"
  }
 },
 "nbformat": 4,
 "nbformat_minor": 5
}
