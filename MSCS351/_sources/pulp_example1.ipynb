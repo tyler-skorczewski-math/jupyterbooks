{
 "cells": [
  {
   "cell_type": "code",
   "execution_count": 2,
   "id": "81785fe0-c239-4dab-9438-327f1c047597",
   "metadata": {},
   "outputs": [],
   "source": [
    "import numpy as np\n",
    "import matplotlib.pyplot as plt\n"
   ]
  },
  {
   "cell_type": "markdown",
   "id": "78f07775",
   "metadata": {},
   "source": [
    "### Family farm example\n",
    "A family farm has 625 acres for planting. The crops considered are corn, wheat, and oats. It is anticipated that 1000 acre-feet of water will be available for irrigation, and the family has up to 300 hours of labor each week.\n",
    "The requirements and expected profit for each crop (per acre) are below.\n",
    "\n",
    "|                      | corn | wheat | oats |\n",
    "|----------------------|------|-------|------|\n",
    "| irrigation (acre-ft) | 3.0  | 1.0   | 1.5  |\n",
    "| labor (hrs/week)     | 0.8  | 0.2   | 0.3  |\n",
    "| profit ($)           | 400  | 200   | 250  |\n",
    "\n",
    "How should the family set up their farm?\n"
   ]
  },
  {
   "cell_type": "code",
   "execution_count": null,
   "id": "ea229113",
   "metadata": {},
   "outputs": [],
   "source": []
  },
  {
   "cell_type": "markdown",
   "id": "700e660b",
   "metadata": {},
   "source": [
    "### Water skis\n",
    "A manufacturing company makes two types of water skis, a trick ski and a slalom ski. Trick skis require 6 hours of fabricating work and 1 hour of finishing work. Slalom skis require 4 hours of fabricating and 1 hour of finishing. There are 108 labor hours avaiable for fabrication and 24 available for finishing each day.\n",
    "\n",
    "1. If the profit on a trick ski is \\\\$40 and the profit on a slalom ski is \\\\$30, how many of each type of ski should be made each day to realize a maximum profit? What is this profit?\n",
    "2. Discuss the effect of having the profit on a slalom ski decrease to \\\\$25.\n",
    "3. Discuss the effect of having the profit on a slalom ski increase to \\\\$45."
   ]
  },
  {
   "cell_type": "code",
   "execution_count": null,
   "id": "f38e4569",
   "metadata": {},
   "outputs": [],
   "source": []
  },
  {
   "cell_type": "markdown",
   "id": "a9164127",
   "metadata": {},
   "source": [
    "### Mining production\n",
    "A mining company operates two mines, each of which produces three grades of ore. The West Summit mine can produce 2 tons of low-grade ore, 3 tons of medium-grade ore, and 1 ton of high-grade ore per hour of operation. The North Ridge mine can produce 2 tons of low-grade ore, 1 ton of medium-grade ore, and 2 tons of high-grade ore per hour of operation. To satisfy existing orders, the company needs at least 100 tons of low-grade ore, 60 tons of medium-grade ore, and 80 tons of high-grade ore. The cost of operating each mine varies, depending on the conditions encountered while extracting the ore.\n",
    "\n",
    "- If it costs \\\\$400 per hour to operate the West Summit mine and \\\\$600 to operate the North Ridge mine, how many hours should each mine be operated to supply the required amounts of ore and minimize production costs? What is the minimum production cost?\n",
    "- Discuss the effect on the production schedule and the minimum production cost if it costs \\\\$300 per hour to operate West Summit and \\\\$700 per hour to operate North Ridge. Assume everything else stays the same.\n",
    "- What if it cost \\\\$800 per hour to operate West Summit and \\\\$200 per hour to operate North Ridge?"
   ]
  },
  {
   "cell_type": "code",
   "execution_count": null,
   "id": "f54c14e2",
   "metadata": {},
   "outputs": [],
   "source": []
  },
  {
   "cell_type": "markdown",
   "id": "dc8afbba",
   "metadata": {},
   "source": [
    "### Syrup\n",
    "A syrup manufacturer blends 14 gallons of maple syrup and 18 gallons of corn syrup to make Maple Flavored Syrup and Taste O' Maple syrup. Each gallon of Maple Flavored Syrup has 0.3 gallons of corn syrup and 0.4 gallons of maple syrup. Each gallon of Taste O' Maple has 0.4 gallons of corn syrup and 0.2 gallons of maple syrup. Water and other stuff make up the rest of each gallon. The company makes a profit of \\\\$4.50 per gallon of Maple Flavored Syrup and \\\\$3.00/gal Taste O' Maple. How many gallons of each should they make to maximize profit?\n",
    "\n",
    "- Bonus: How much should the company spend to buy another gallon of maple syrup?"
   ]
  },
  {
   "cell_type": "code",
   "execution_count": null,
   "id": "49a279e1",
   "metadata": {},
   "outputs": [],
   "source": []
  },
  {
   "cell_type": "code",
   "execution_count": null,
   "id": "47c716a3",
   "metadata": {},
   "outputs": [],
   "source": []
  },
  {
   "cell_type": "markdown",
   "id": "a4f77d98-052b-4869-8246-f355e2c3ae21",
   "metadata": {},
   "source": [
    "Let's use the PuLP library to set up and solve a linear programming problem in python.\n",
    "There are other LP libraries in python that can solve LP problems, but this one is fairly straightforward to implement and allows for some mixed integer problems set up, too.\n",
    "\n",
    "To install PuLP open a command prompt from the anaconda home page and type\n",
    "conda install -c conda-forge pulp\n",
    "to proceed with the install."
   ]
  },
  {
   "cell_type": "code",
   "execution_count": 3,
   "id": "7332dd4f-bd04-4017-b107-44a9ad8a0eee",
   "metadata": {},
   "outputs": [],
   "source": [
    "from pulp import *"
   ]
  },
  {
   "cell_type": "markdown",
   "id": "94641fa3-3f8f-4d07-b74e-dd91555c759e",
   "metadata": {},
   "source": [
    "\n",
    "\n",
    "Example:\n",
    "\n",
    "Maximize $$z = 8x + 4y$$\n",
    "subject to\n",
    "$$-3x + 2y \\leq 8$$\n",
    "$$5x + 2y \\leq 16$$\n",
    "$$x, y \\geq 0.$$\n",
    "\n"
   ]
  },
  {
   "cell_type": "markdown",
   "id": "5000549f-73e0-4309-8c48-da6d709f5236",
   "metadata": {},
   "source": [
    "The cell below creates a container for our model equations and inequalities, declares variables, and sets up the objective and constraints."
   ]
  },
  {
   "cell_type": "code",
   "execution_count": 4,
   "id": "5e4996fe-d79f-4f2b-a7da-742875ea342a",
   "metadata": {},
   "outputs": [],
   "source": [
    "#create LP model container\n",
    "lpmodel = LpProblem(name=\"ex1\",sense=LpMaximize)\n",
    "\n",
    "#create variables\n",
    "x = LpVariable(name=\"x\", lowBound=0)\n",
    "y = LpVariable(name=\"y\", lowBound=0)\n",
    "\n",
    "#create objective function and add it to model\n",
    "obj_fcn = 8*x+4*y\n",
    "lpmodel += obj_fcn\n",
    "\n",
    "#create constraints and add to model\n",
    "lpmodel += (-3*x+2*y <= 8, \"constraint 1\")\n",
    "lpmodel += ( 5*x+2*y <= 16, \"constraint 2\")\n",
    "\n",
    "\n"
   ]
  },
  {
   "cell_type": "code",
   "execution_count": 5,
   "id": "6c4f3c3e-256e-4940-be0b-9088947da9a2",
   "metadata": {},
   "outputs": [
    {
     "data": {
      "text/plain": [
       "ex1:\n",
       "MAXIMIZE\n",
       "8*x + 4*y + 0\n",
       "SUBJECT TO\n",
       "constraint_1: - 3 x + 2 y <= 8\n",
       "\n",
       "constraint_2: 5 x + 2 y <= 16\n",
       "\n",
       "VARIABLES\n",
       "x Continuous\n",
       "y Continuous"
      ]
     },
     "execution_count": 5,
     "metadata": {},
     "output_type": "execute_result"
    }
   ],
   "source": [
    "lpmodel"
   ]
  },
  {
   "cell_type": "markdown",
   "id": "850133e2-97ac-4543-be1c-5f5af7bdc847",
   "metadata": {},
   "source": [
    "To solve the model problem we call the solve() method. We can check the status of the solve with the status variable."
   ]
  },
  {
   "cell_type": "code",
   "execution_count": 6,
   "id": "2f2d26cd-c61a-4429-8019-ba789c12e4e1",
   "metadata": {},
   "outputs": [],
   "source": [
    "output = lpmodel.solve()"
   ]
  },
  {
   "cell_type": "code",
   "execution_count": 7,
   "id": "af2b9526-55ad-4329-b4aa-d19f73fc948b",
   "metadata": {},
   "outputs": [
    {
     "name": "stdout",
     "output_type": "stream",
     "text": [
      "1\n"
     ]
    }
   ],
   "source": [
    "print(lpmodel.status)"
   ]
  },
  {
   "cell_type": "markdown",
   "id": "6d4af797-4124-477d-b0fe-49612ec13d86",
   "metadata": {},
   "source": [
    "If the solve process exits successfully (status 1) we can print the value of the objective function and the values of the decision variables."
   ]
  },
  {
   "cell_type": "code",
   "execution_count": 8,
   "id": "d5f29b3a-5d23-42e1-bbef-abe248a38ae9",
   "metadata": {},
   "outputs": [
    {
     "name": "stdout",
     "output_type": "stream",
     "text": [
      "LP model solve succeeded.\n",
      "z= 30.0\n",
      "x: 1.0\n",
      "y: 5.5\n"
     ]
    }
   ],
   "source": [
    "if lpmodel.status:\n",
    "    print(\"LP model solve succeeded.\")\n",
    "    print(f\"z= {lpmodel.objective.value()}\")\n",
    "    for var in lpmodel.variables():\n",
    "        print(f\"{var.name}: {var.value()}\")\n",
    "else:\n",
    "    print(\"LP model solve failed.\")\n",
    "    "
   ]
  },
  {
   "cell_type": "markdown",
   "id": "2e3ab5a3",
   "metadata": {},
   "source": [
    "### Example\n",
    "Minimize \n",
    "$$z = 30 x_1 + 15 x_2 + 28x_3,$$\n",
    "\n",
    "subject to\n",
    "$$5x_1 + 3x_2 + 4x_3 \\geq 45,$$\n",
    "$$5x_1 + 6x_2 + 8x_3 \\geq 120,$$\n",
    "$$20x_1 + 6x_2 + 14x_3 \\geq 300,$$\n",
    "$$ x_1, x_2, x_3 \\geq 0.$$\n"
   ]
  },
  {
   "cell_type": "code",
   "execution_count": 12,
   "id": "e622ef50",
   "metadata": {},
   "outputs": [],
   "source": [
    "#create LP model container\n",
    "lpmodel = LpProblem(name=\"ex2\",sense=LpMinimize)\n",
    "\n",
    "#create variables\n",
    "x = LpVariable(name=\"x\", lowBound=0)\n",
    "y = LpVariable(name=\"y\", lowBound=0)\n",
    "z = LpVariable(name=\"z\", lowBound=0)\n",
    "\n",
    "#create objective function and add it to model\n",
    "obj_fcn = 30*x+15*y+28*z\n",
    "lpmodel += obj_fcn\n",
    "\n",
    "#create constraints and add to model\n",
    "lpmodel += (5*x+3*y+4*z >= 45, \"constraint 1\")\n",
    "lpmodel += (5*x+6*y+8*z>=120, \"constraint 2\")\n",
    "lpmodel += (20*x+6*y+14*z>=300,\"constraint 3\")\n",
    "\n",
    "\n"
   ]
  },
  {
   "cell_type": "code",
   "execution_count": 13,
   "id": "489f88af",
   "metadata": {},
   "outputs": [
    {
     "data": {
      "text/plain": [
       "1"
      ]
     },
     "execution_count": 13,
     "metadata": {},
     "output_type": "execute_result"
    }
   ],
   "source": [
    "lpmodel.solve()"
   ]
  },
  {
   "cell_type": "code",
   "execution_count": 14,
   "id": "616eb239",
   "metadata": {},
   "outputs": [
    {
     "name": "stdout",
     "output_type": "stream",
     "text": [
      "LP model solve succeeded.\n",
      "z= 510.0\n",
      "x: 12.0\n",
      "y: 10.0\n",
      "z: 0.0\n"
     ]
    }
   ],
   "source": [
    "if lpmodel.status:\n",
    "    print(\"LP model solve succeeded.\")\n",
    "    print(f\"z= {lpmodel.objective.value()}\")\n",
    "    for var in lpmodel.variables():\n",
    "        print(f\"{var.name}: {var.value()}\")\n",
    "else:\n",
    "    print(\"LP model solve failed.\")\n",
    "    "
   ]
  },
  {
   "cell_type": "code",
   "execution_count": null,
   "id": "5d505d00",
   "metadata": {},
   "outputs": [],
   "source": []
  },
  {
   "cell_type": "markdown",
   "id": "67edd21f",
   "metadata": {},
   "source": [
    "### Conference planning\n",
    "The Mathematical Association of America (MAA) plans a 3-day conference at a big hotel with many conference rooms. The conference knows that they need 15 rooms for the first day, 28 for the second day, and 19 for the third day. The hotel rents rooms at a rate of \\\\$17 per room for a single day rental, or \\\\$30 to rent a room for consecutive days. Can you set up a linear programming problem to figure out how the MAA should rent rooms to minimize the rental cost?"
   ]
  },
  {
   "cell_type": "code",
   "execution_count": null,
   "id": "521e8164",
   "metadata": {},
   "outputs": [],
   "source": []
  }
 ],
 "metadata": {
  "kernelspec": {
   "display_name": "Python 3 (ipykernel)",
   "language": "python",
   "name": "python3"
  },
  "language_info": {
   "codemirror_mode": {
    "name": "ipython",
    "version": 3
   },
   "file_extension": ".py",
   "mimetype": "text/x-python",
   "name": "python",
   "nbconvert_exporter": "python",
   "pygments_lexer": "ipython3",
   "version": "3.9.12"
  }
 },
 "nbformat": 4,
 "nbformat_minor": 5
}
