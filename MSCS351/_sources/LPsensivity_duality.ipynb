{
 "cells": [
  {
   "cell_type": "markdown",
   "id": "94f4b1c3",
   "metadata": {},
   "source": [
    "### LP sensitivity and duality"
   ]
  },
  {
   "cell_type": "code",
   "execution_count": 1,
   "id": "4ceff616",
   "metadata": {},
   "outputs": [],
   "source": [
    "import numpy as np\n",
    "import matplotlib.pyplot as plt\n",
    "from pulp import *"
   ]
  },
  {
   "cell_type": "markdown",
   "id": "f84d4ae1",
   "metadata": {},
   "source": [
    "### Iron grates\n",
    "Save Ferris, LLC manufacturing has a division that produces two models of iron grates, A and B. To produce a model A grate requires 3 lbs of cast iron and 6 minutes of labor. To produce a model B grate requires 4 lbs of cast iron and 3 minutes of labor. The profit for each model A is \\\\$2.00 and for each model B is \\\\$1.50. Every day the company has 1000 lbs of cast iron available and 20 hours of labor. Currently, the company has a cap of 180 model A grates per day. How many of each type of grate should be made to maximize profit?\n",
    "\n",
    "- Set up the LP problem.\n",
    "- Sketch the feasible region.\n",
    "- Solve using the computer."
   ]
  },
  {
   "cell_type": "code",
   "execution_count": 36,
   "id": "1f983d02",
   "metadata": {},
   "outputs": [
    {
     "data": {
      "text/plain": [
       "1"
      ]
     },
     "execution_count": 36,
     "metadata": {},
     "output_type": "execute_result"
    }
   ],
   "source": [
    "#create LP model container\n",
    "lpmodel = LpProblem(name=\"grates\",sense=LpMaximize)\n",
    "\n",
    "#create variables\n",
    "x = LpVariable(name=\"x\", lowBound=0)\n",
    "y = LpVariable(name=\"y\", lowBound=0)\n",
    "\n",
    "\n",
    "#create objective function and add it to model\n",
    "lpmodel += 2*x + 1.5*y\n",
    "\n",
    "#create constraints and add to model\n",
    "lpmodel += (3*x+4*y <= 1000, \"cast iron\")\n",
    "lpmodel += (6*x+3*y <= 1200, \"labor minutes\")\n",
    "lpmodel += (x <= 180, \"model A cap\")\n",
    "\n",
    "lpmodel.solve()"
   ]
  },
  {
   "cell_type": "code",
   "execution_count": 37,
   "id": "bbf2def3",
   "metadata": {},
   "outputs": [
    {
     "name": "stdout",
     "output_type": "stream",
     "text": [
      "LP model solve succeeded.\n",
      "z= 480.0\n",
      "x: 120.0\n",
      "y: 160.0\n"
     ]
    }
   ],
   "source": [
    "if lpmodel.status:\n",
    "    print(\"LP model solve succeeded.\")\n",
    "    print(f\"z= {lpmodel.objective.value()}\")\n",
    "    for var in lpmodel.variables():\n",
    "        print(f\"{var.name}: {var.value()}\")\n",
    "else:\n",
    "    print(\"LP model solve failed.\")"
   ]
  },
  {
   "cell_type": "markdown",
   "id": "8fac5238",
   "metadata": {},
   "source": [
    "- What are the shadow prices of each constraint above?\n",
    " - How do you interpret these?\n",
    "- What are the binding constraints in this situation?\n",
    "- How much does the amount of cast iron have to change before a qualitatively new solution occurs (one with different binding constraints)?\n",
    "- How much would the profit from model A grates need to change before a new corner of the feasible set describes the optimal solution?"
   ]
  },
  {
   "cell_type": "code",
   "execution_count": null,
   "id": "1fcedc72",
   "metadata": {},
   "outputs": [],
   "source": []
  },
  {
   "cell_type": "code",
   "execution_count": 38,
   "id": "01db348a",
   "metadata": {},
   "outputs": [
    {
     "data": {
      "text/plain": [
       "1"
      ]
     },
     "execution_count": 38,
     "metadata": {},
     "output_type": "execute_result"
    }
   ],
   "source": [
    "#create LP model container\n",
    "duallpmodel = LpProblem(name=\"grates_dual\",sense=LpMinimize)\n",
    "\n",
    "#create variables\n",
    "a = LpVariable(name=\"a\", lowBound=0)\n",
    "b = LpVariable(name=\"b\", lowBound=0)\n",
    "c = LpVariable(name=\"c\", lowBound=0)\n",
    "\n",
    "\n",
    "#create objective function and add it to model\n",
    "duallpmodel += 1000*a+1200*b+180*c\n",
    "\n",
    "#create constraints and add to model\n",
    "duallpmodel += (3*a+6*b+c >= 2, \"c1\")\n",
    "duallpmodel += (4*a + 3*b >= 1.5, \"c2\")\n",
    "\n",
    "duallpmodel.solve()"
   ]
  },
  {
   "cell_type": "code",
   "execution_count": 39,
   "id": "1b507c24",
   "metadata": {},
   "outputs": [
    {
     "name": "stdout",
     "output_type": "stream",
     "text": [
      "Dual LP model solve succeeded.\n",
      "z= 479.9996\n",
      "a: 0.2\n",
      "b: 0.233333\n",
      "c: 0.0\n"
     ]
    }
   ],
   "source": [
    "if duallpmodel.status:\n",
    "    print(\"Dual LP model solve succeeded.\")\n",
    "    print(f\"z= {duallpmodel.objective.value()}\")\n",
    "    for var in duallpmodel.variables():\n",
    "        print(f\"{var.name}: {var.value()}\")\n",
    "else:\n",
    "    print(\"Dual LP model solve failed.\")"
   ]
  },
  {
   "cell_type": "markdown",
   "id": "e2d34eed",
   "metadata": {},
   "source": [
    "**The Strong Duality Theorem** If either the primal, P, or dual, D, has a finite optimal\n",
    "value, then so does the other, the optimal values coincide, and optimal solutions to both P\n",
    "and D exist.\n",
    "\n",
    "**Complementary Slackness Property.** If, in an optimal solution of a linear program, the value of the dual\n",
    "variable (shadow price) associated with a constraint is nonzero, then that constraint must be satisfied with\n",
    "equality. Further, if a constraint is satisfied with strict inequality, then its corresponding dual variable\n",
    "must be zero."
   ]
  },
  {
   "cell_type": "markdown",
   "id": "e8494893",
   "metadata": {},
   "source": [
    "### standard max problem\n",
    "The above theorem requires us to have a primal and a dual problem. We only know how to write the dual if the primal is in standard max problem form. Fortunately we can always write a problem in this form.\n",
    "\n",
    "\n",
    "Write the LP problem below as a standard max problem.\n",
    "\n",
    "Minimize \n",
    "$$z = 4x_1 + x_2$$\n",
    "subject to \n",
    "$$−2x_1 + x_2 \\geq 6,$$\n",
    "$$x_2 + x_3 = 4,$$\n",
    "$$x_1 \\geq −4,$$\n",
    "$$x_2,x_3 \\geq 0.$$"
   ]
  },
  {
   "cell_type": "code",
   "execution_count": 40,
   "id": "10eb8e82",
   "metadata": {},
   "outputs": [
    {
     "data": {
      "text/plain": [
       "1"
      ]
     },
     "execution_count": 40,
     "metadata": {},
     "output_type": "execute_result"
    }
   ],
   "source": [
    "stdmax = LpProblem(name=\"stdmax\",sense=LpMaximize)\n",
    "\n",
    "#create variables\n",
    "u1 = LpVariable(name=\"u1\", lowBound=0)\n",
    "v1 = LpVariable(name=\"v1\", lowBound=0)\n",
    "x2 = LpVariable(name=\"x2\", lowBound=0)\n",
    "x3 = LpVariable(name=\"x3\", lowBound=0)\n",
    "\n",
    "\n",
    "#create objective function and add it to model\n",
    "stdmax += -4*u1 + 4*v1 - x2\n",
    "\n",
    "#create constraints and add to model\n",
    "stdmax += (2*u1 - 2*v1 - x2 <= -6, \"c1\")\n",
    "stdmax += (x2 + x3 <= 4, \"c2\")\n",
    "stdmax += (-x2-x3 <= -4, \"c3\")\n",
    "stdmax += (-u1 + v1 <= 4, \"c4\")\n",
    "\n",
    "\n",
    "stdmax.solve()"
   ]
  },
  {
   "cell_type": "code",
   "execution_count": 41,
   "id": "00d5bc0c",
   "metadata": {},
   "outputs": [
    {
     "name": "stdout",
     "output_type": "stream",
     "text": [
      "LP model solve succeeded.\n",
      "z= 16.0\n",
      "u1: 0.0\n",
      "v1: 4.0\n",
      "x2: 0.0\n",
      "x3: 4.0\n"
     ]
    }
   ],
   "source": [
    "if stdmax.status:\n",
    "    print(\"LP model solve succeeded.\")\n",
    "    print(f\"z= {stdmax.objective.value()}\")\n",
    "    for var in stdmax.variables():\n",
    "        print(f\"{var.name}: {var.value()}\")\n",
    "else:\n",
    "    print(\"LP model solve failed.\")"
   ]
  },
  {
   "cell_type": "code",
   "execution_count": 29,
   "id": "0af32f45",
   "metadata": {},
   "outputs": [
    {
     "name": "stdout",
     "output_type": "stream",
     "text": [
      "name  : c1    shadow price : None    slack : None\n",
      "name  : c2    shadow price : None    slack : None\n",
      "name  : c3    shadow price : None    slack : None\n",
      "name  : c4    shadow price : None    slack : None\n"
     ]
    }
   ],
   "source": []
  },
  {
   "cell_type": "code",
   "execution_count": null,
   "id": "11e24e66",
   "metadata": {},
   "outputs": [],
   "source": []
  }
 ],
 "metadata": {
  "kernelspec": {
   "display_name": "Python 3 (ipykernel)",
   "language": "python",
   "name": "python3"
  },
  "language_info": {
   "codemirror_mode": {
    "name": "ipython",
    "version": 3
   },
   "file_extension": ".py",
   "mimetype": "text/x-python",
   "name": "python",
   "nbconvert_exporter": "python",
   "pygments_lexer": "ipython3",
   "version": "3.9.12"
  }
 },
 "nbformat": 4,
 "nbformat_minor": 5
}
