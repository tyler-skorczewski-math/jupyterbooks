{
 "cells": [
  {
   "cell_type": "code",
   "execution_count": 1,
   "id": "f7d5836a-b922-4c1f-b320-07eee229f7fb",
   "metadata": {},
   "outputs": [],
   "source": [
    "import numpy as np\n",
    "\n",
    "A = np.zeros((4,3))\n",
    "B = np.zeros((1,4))"
   ]
  },
  {
   "cell_type": "code",
   "execution_count": 2,
   "id": "6ddeda9f-cccb-46bf-966f-8cbae39a1702",
   "metadata": {},
   "outputs": [],
   "source": [
    "A[0] = [1, -1, 0]\n",
    "A[1] = [1, 0, -1]\n",
    "A[2] = [-1, 0, 1]\n",
    "A[3] = [-1, 1, 0]\n",
    "\n",
    "B = np.array([10, 3, 4, 7])"
   ]
  },
  {
   "cell_type": "code",
   "execution_count": 3,
   "id": "f4bd155d-3ff1-4480-b5ef-a1006658e859",
   "metadata": {},
   "outputs": [],
   "source": [
    "B2 = np.dot(np.transpose(A), B)"
   ]
  },
  {
   "cell_type": "code",
   "execution_count": 4,
   "id": "4b3d9ded-3701-4aa7-9df6-e8ff36251ead",
   "metadata": {},
   "outputs": [],
   "source": [
    "M2 = np.dot(np.transpose(A),A)\n",
    "\n"
   ]
  },
  {
   "cell_type": "code",
   "execution_count": 5,
   "id": "6f0b4d04-e82e-45d2-8f3b-639aca4a9a61",
   "metadata": {},
   "outputs": [
    {
     "ename": "LinAlgError",
     "evalue": "Singular matrix",
     "output_type": "error",
     "traceback": [
      "\u001b[1;31m---------------------------------------------------------------------------\u001b[0m",
      "\u001b[1;31mLinAlgError\u001b[0m                               Traceback (most recent call last)",
      "Input \u001b[1;32mIn [5]\u001b[0m, in \u001b[0;36m<cell line: 1>\u001b[1;34m()\u001b[0m\n\u001b[1;32m----> 1\u001b[0m r \u001b[38;5;241m=\u001b[39m \u001b[43mnp\u001b[49m\u001b[38;5;241;43m.\u001b[39;49m\u001b[43mlinalg\u001b[49m\u001b[38;5;241;43m.\u001b[39;49m\u001b[43msolve\u001b[49m\u001b[43m(\u001b[49m\u001b[43mM2\u001b[49m\u001b[43m,\u001b[49m\u001b[43mB2\u001b[49m\u001b[43m)\u001b[49m\n",
      "File \u001b[1;32m<__array_function__ internals>:5\u001b[0m, in \u001b[0;36msolve\u001b[1;34m(*args, **kwargs)\u001b[0m\n",
      "File \u001b[1;32m~\\Anaconda3\\lib\\site-packages\\numpy\\linalg\\linalg.py:393\u001b[0m, in \u001b[0;36msolve\u001b[1;34m(a, b)\u001b[0m\n\u001b[0;32m    391\u001b[0m signature \u001b[38;5;241m=\u001b[39m \u001b[38;5;124m'\u001b[39m\u001b[38;5;124mDD->D\u001b[39m\u001b[38;5;124m'\u001b[39m \u001b[38;5;28;01mif\u001b[39;00m isComplexType(t) \u001b[38;5;28;01melse\u001b[39;00m \u001b[38;5;124m'\u001b[39m\u001b[38;5;124mdd->d\u001b[39m\u001b[38;5;124m'\u001b[39m\n\u001b[0;32m    392\u001b[0m extobj \u001b[38;5;241m=\u001b[39m get_linalg_error_extobj(_raise_linalgerror_singular)\n\u001b[1;32m--> 393\u001b[0m r \u001b[38;5;241m=\u001b[39m \u001b[43mgufunc\u001b[49m\u001b[43m(\u001b[49m\u001b[43ma\u001b[49m\u001b[43m,\u001b[49m\u001b[43m \u001b[49m\u001b[43mb\u001b[49m\u001b[43m,\u001b[49m\u001b[43m \u001b[49m\u001b[43msignature\u001b[49m\u001b[38;5;241;43m=\u001b[39;49m\u001b[43msignature\u001b[49m\u001b[43m,\u001b[49m\u001b[43m \u001b[49m\u001b[43mextobj\u001b[49m\u001b[38;5;241;43m=\u001b[39;49m\u001b[43mextobj\u001b[49m\u001b[43m)\u001b[49m\n\u001b[0;32m    395\u001b[0m \u001b[38;5;28;01mreturn\u001b[39;00m wrap(r\u001b[38;5;241m.\u001b[39mastype(result_t, copy\u001b[38;5;241m=\u001b[39m\u001b[38;5;28;01mFalse\u001b[39;00m))\n",
      "File \u001b[1;32m~\\Anaconda3\\lib\\site-packages\\numpy\\linalg\\linalg.py:88\u001b[0m, in \u001b[0;36m_raise_linalgerror_singular\u001b[1;34m(err, flag)\u001b[0m\n\u001b[0;32m     87\u001b[0m \u001b[38;5;28;01mdef\u001b[39;00m \u001b[38;5;21m_raise_linalgerror_singular\u001b[39m(err, flag):\n\u001b[1;32m---> 88\u001b[0m     \u001b[38;5;28;01mraise\u001b[39;00m LinAlgError(\u001b[38;5;124m\"\u001b[39m\u001b[38;5;124mSingular matrix\u001b[39m\u001b[38;5;124m\"\u001b[39m)\n",
      "\u001b[1;31mLinAlgError\u001b[0m: Singular matrix"
     ]
    }
   ],
   "source": [
    "r = np.linalg.solve(M2,B2)"
   ]
  },
  {
   "cell_type": "code",
   "execution_count": 6,
   "id": "2eaed9ac-f256-470a-85e7-dd1de298767b",
   "metadata": {},
   "outputs": [],
   "source": [
    "M2[-1] = [1,1,1]\n",
    "B2[-1] = 0"
   ]
  },
  {
   "cell_type": "code",
   "execution_count": 7,
   "id": "4d97ad2b-2010-4051-917d-a8151809c190",
   "metadata": {},
   "outputs": [],
   "source": [
    "r = np.linalg.solve(M2,B2)"
   ]
  },
  {
   "cell_type": "code",
   "execution_count": 8,
   "id": "e1d81a9f-7d2a-4fd2-8ced-1628354ccc9f",
   "metadata": {},
   "outputs": [
    {
     "name": "stdout",
     "output_type": "stream",
     "text": [
      "[ 0.33333333 -1.16666667  0.83333333]\n"
     ]
    }
   ],
   "source": [
    "print(r)"
   ]
  },
  {
   "cell_type": "code",
   "execution_count": 9,
   "id": "11944d8c-4e41-475e-bff4-bb6c158610c0",
   "metadata": {},
   "outputs": [
    {
     "data": {
      "text/plain": [
       "2.0"
      ]
     },
     "execution_count": 9,
     "metadata": {},
     "output_type": "execute_result"
    }
   ],
   "source": [
    "r[2]-r[1]"
   ]
  },
  {
   "cell_type": "code",
   "execution_count": 10,
   "id": "3e603f80-078a-4d07-a883-f33559a3f3b0",
   "metadata": {},
   "outputs": [
    {
     "name": "stdout",
     "output_type": "stream",
     "text": [
      "[  0.29166667   3.04166667   6.70833333 -10.04166667]\n"
     ]
    }
   ],
   "source": [
    "#NFC North example\n",
    "\n",
    "teams = ['MIN','GB','DET','CHI']\n",
    "\n",
    "AN = np.zeros((10,4))\n",
    "AN[0] = [1, -1, 0, 0]  #MN 23 GB 7\n",
    "AN[1] = [0, 1, 0 , -1] #GB 27 CHI 10\n",
    "AN[2] = [1, 0, -1, 0]  #MN 28 DET 24\n",
    "AN[3] = [1, 0, 0, -1]  #MIN 29 CHI 22\n",
    "AN[4] = [0, -1, 1, 0]  #DET 15 GB 9\n",
    "AN[5] = [0, 0, 1, -1]  #DET 31 CHI 19\n",
    "AN[6] = [0, 1, 0, -1]  #GB 28 CHI 19\n",
    "AN[7] = [-1, 0, 1, 0]  #DET 34 MN 23\n",
    "AN[8] = [-1, 1, 0, 0]  #GB 41 MIN 17\n",
    "AN[9] = [0, 0, 1, -1]  #DET 41 CHI 10\n",
    "\n",
    "BN = np.array([16,17,4,7,6,1,9,11,24,36])\n",
    "\n",
    "MAT = np.dot(np.transpose(AN),AN)\n",
    "BT = np.dot(np.transpose(AN),BN)\n",
    "MAT[-1] = [1, 1, 1, 1]\n",
    "BT[-1] = 0\n",
    "\n",
    "r = np.linalg.solve(MAT,BT)\n",
    "\n",
    "print(r)\n"
   ]
  },
  {
   "cell_type": "markdown",
   "id": "d45212bc",
   "metadata": {},
   "source": [
    "### Predict last two games?\n",
    "Can we predict the last two games: GB vs DET and MN vs CHI?"
   ]
  },
  {
   "cell_type": "code",
   "execution_count": null,
   "id": "2005a3c5",
   "metadata": {},
   "outputs": [],
   "source": []
  }
 ],
 "metadata": {
  "kernelspec": {
   "display_name": "Python 3 (ipykernel)",
   "language": "python",
   "name": "python3"
  },
  "language_info": {
   "codemirror_mode": {
    "name": "ipython",
    "version": 3
   },
   "file_extension": ".py",
   "mimetype": "text/x-python",
   "name": "python",
   "nbconvert_exporter": "python",
   "pygments_lexer": "ipython3",
   "version": "3.9.12"
  }
 },
 "nbformat": 4,
 "nbformat_minor": 5
}
