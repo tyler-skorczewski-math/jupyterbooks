{
 "cells": [
  {
   "cell_type": "markdown",
   "id": "9ff2e6c1",
   "metadata": {},
   "source": [
    "# SIR models"
   ]
  },
  {
   "cell_type": "code",
   "execution_count": 4,
   "id": "7ce0d819",
   "metadata": {},
   "outputs": [],
   "source": [
    "import numpy as np\n",
    "import matplotlib.pyplot as plt\n",
    "from scipy.optimize import fsolve\n",
    "from scipy.integrate import solve_ivp\n",
    "%matplotlib inline"
   ]
  },
  {
   "cell_type": "code",
   "execution_count": 7,
   "id": "fa0251c9",
   "metadata": {
    "scrolled": true
   },
   "outputs": [
    {
     "data": {
      "image/png": "[encoded data removed]",
      "text/plain": [
       "<Figure size 432x288 with 1 Axes>"
      ]
     },
     "metadata": {
      "needs_background": "light"
     },
     "output_type": "display_data"
    }
   ],
   "source": [
    "alpha = 0.125\n",
    "beta = 1./11. #reciprocal of infectious period\n",
    "t = np.linspace(0,1*365,1001) #one year time period \n",
    "pop = 7000 #population size\n",
    "\n",
    "def SIRmodel(t,y):\n",
    "    S, I, R = y\n",
    "    return ([-alpha*S*I,alpha*S*I-beta*I,beta*I])\n",
    "\n",
    "initinfected = 1.\n",
    "Iinit = initinfected/pop\n",
    "Sinit = (pop - initinfected)/pop \n",
    "Rinit = 0.\n",
    "\n",
    "sol = solve_ivp(SIRmodel,[t[0],t[-1]],[Sinit,Iinit,Rinit],dense_output=True)\n",
    "\n",
    "plt.plot(t,sol.sol(t)[0],'b',t,sol.sol(t)[1],'r',t,sol.sol(t)[2],'g');\n",
    "plt.xlabel('time [day]');\n",
    "plt.legend(['S','I','R']);"
   ]
  },
  {
   "cell_type": "code",
   "execution_count": 11,
   "id": "814b6cfb",
   "metadata": {},
   "outputs": [],
   "source": [
    "\n",
    "def MC_SIR():\n",
    "    Nsims = 10000\n",
    "    Imax = np.zeros(Nsims)\n",
    "    for sim in range(Nsims):\n",
    "        alpha = max(0.,np.random.normal(0.15,0.01))\n",
    "        beta = 1./11. #reciprocal of infectious period\n",
    "        t = np.linspace(0,1*365,1001) #one year time period \n",
    "        pop = 7000 #population size\n",
    "\n",
    "        def SIRmodel(t,y):\n",
    "            S, I, R = y\n",
    "            return ([-alpha*S*I,alpha*S*I-beta*I,beta*I])\n",
    "\n",
    "        initinfected = 1.\n",
    "        Iinit = initinfected/pop\n",
    "        Sinit = (pop - initinfected)/pop \n",
    "        Rinit = 0.\n",
    "\n",
    "        sol = solve_ivp(SIRmodel,[t[0],t[-1]],[Sinit,Iinit,Rinit],dense_output=True)\n",
    "\n",
    "        Imax[sim] = max(sol.sol(t)[1])\n",
    "    \n",
    "    return(Imax)\n",
    "            \n",
    "\n"
   ]
  },
  {
   "cell_type": "code",
   "execution_count": 12,
   "id": "fa40710b",
   "metadata": {},
   "outputs": [],
   "source": [
    "Imax = MC_SIR()\n"
   ]
  },
  {
   "cell_type": "code",
   "execution_count": 14,
   "id": "39cb96f2",
   "metadata": {},
   "outputs": [
    {
     "data": {
      "image/png": "[encoded data removed]",
      "text/plain": [
       "<Figure size 432x288 with 1 Axes>"
      ]
     },
     "metadata": {
      "needs_background": "light"
     },
     "output_type": "display_data"
    }
   ],
   "source": [
    "plt.hist(Imax,bins=30);"
   ]
  },
  {
   "cell_type": "code",
   "execution_count": 15,
   "id": "26640516",
   "metadata": {},
   "outputs": [
    {
     "name": "stdout",
     "output_type": "stream",
     "text": [
      "0.09067544587010995 0.02009445980105731\n"
     ]
    }
   ],
   "source": [
    "print(np.mean(Imax),np.std(Imax))"
   ]
  },
  {
   "cell_type": "code",
   "execution_count": null,
   "id": "e4d5610e",
   "metadata": {},
   "outputs": [],
   "source": []
  }
 ],
 "metadata": {
  "kernelspec": {
   "display_name": "Python 3 (ipykernel)",
   "language": "python",
   "name": "python3"
  },
  "language_info": {
   "codemirror_mode": {
    "name": "ipython",
    "version": 3
   },
   "file_extension": ".py",
   "mimetype": "text/x-python",
   "name": "python",
   "nbconvert_exporter": "python",
   "pygments_lexer": "ipython3",
   "version": "3.9.12"
  }
 },
 "nbformat": 4,
 "nbformat_minor": 5
}
