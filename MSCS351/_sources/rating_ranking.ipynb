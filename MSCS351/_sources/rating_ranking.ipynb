{
 "cells": [
  {
   "cell_type": "markdown",
   "id": "d0ecfb41",
   "metadata": {},
   "source": [
    "# Rating and Ranking\n"
   ]
  },
  {
   "cell_type": "code",
   "execution_count": 1,
   "id": "b78b91da",
   "metadata": {},
   "outputs": [],
   "source": [
    "import numpy as np\n",
    "import matplotlib.pyplot as plt\n",
    "%matplotlib inline"
   ]
  },
  {
   "cell_type": "markdown",
   "id": "4b7a3b3b",
   "metadata": {},
   "source": [
    "### Example NFC North 2020-2021\n",
    "| date       | day | season | neutral | playoff | hteam | ateam | hscore | ascore |\n",
    "|------------|-----|--------|---------|---------|-------|-------|--------|--------|\n",
    "| 9/13/2020  | 4   | 2020   | 0       | 0       | MIN   | GB    | 34     | 43     |\n",
    "| 9/13/2020  | 4   | 2020   | 0       | 0       | DET   | CHI   | 23     | 27     |\n",
    "| 9/20/2020  | 11  | 2020   | 0       | 0       | GB    | DET   | 42     | 21     |\n",
    "| 11/1/2020  | 53  | 2020   | 0       | 0       | GB    | MIN   | 22     | 28     |\n",
    "| 11/8/2020  | 60  | 2020   | 0       | 0       | MIN   | DET   | 34     | 20     |\n",
    "| 11/16/2020 | 68  | 2020   | 0       | 0       | CHI   | MIN   | 13     | 19     |\n",
    "| 11/29/2020 | 81  | 2020   | 0       | 0       | GB    | CHI   | 41     | 25     |\n",
    "| 12/6/2020  | 88  | 2020   | 0       | 0       | CHI   | DET   | 30     | 34     |\n",
    "| 12/13/2020 | 95  | 2020   | 0       | 0       | DET   | GB    | 24     | 31     |\n",
    "| 12/20/2020 | 102 | 2020   | 0       | 0       | MIN   | CHI   | 27     | 33     |\n",
    "| 1/3/2021   | 116 | 2020   | 0       | 0       | DET   | MIN   | 35     | 37     |\n",
    "| 1/3/2021   | 116 | 2020   | 0       | 0       | CHI   | GB    | 16     | 35     |"
   ]
  },
  {
   "cell_type": "code",
   "execution_count": 33,
   "id": "3621bee3",
   "metadata": {},
   "outputs": [
    {
     "name": "stdout",
     "output_type": "stream",
     "text": [
      "['hteam', 'ateam', 'hscore', 'ascore']\n",
      "['MIN', 'GB', '34', '43']\n",
      "['DET', 'CHI', '23', '27']\n",
      "['GB', 'DET', '42', '21']\n",
      "['GB', 'MIN', '22', '28']\n",
      "['MIN', 'DET', '34', '20']\n",
      "['CHI', 'MIN', '13', '19']\n",
      "['GB', 'CHI', '41', '25']\n",
      "['CHI', 'DET', '30', '34']\n",
      "['DET', 'GB', '24', '31']\n",
      "['MIN', 'CHI', '27', '33']\n",
      "['DET', 'MIN', '35', '37']\n",
      "['CHI', 'GB', '16', '35']\n"
     ]
    }
   ],
   "source": [
    "import csv\n",
    "games = []\n",
    "with open('../nfcnorth202021.csv', newline='') as f:\n",
    "    reader = csv.reader(f, delimiter=',', quoting=csv.QUOTE_NONE)\n",
    "    header=next(reader,None)\n",
    "    print(header[5:])\n",
    "    for game in reader:\n",
    "        print(game[5:])\n",
    "        games.append(game[5:])\n",
    "\n"
   ]
  },
  {
   "cell_type": "code",
   "execution_count": 18,
   "id": "7f0cd3a8",
   "metadata": {},
   "outputs": [
    {
     "data": {
      "text/plain": [
       "'DET'"
      ]
     },
     "execution_count": 18,
     "metadata": {},
     "output_type": "execute_result"
    }
   ],
   "source": [
    "games[1][0]"
   ]
  },
  {
   "cell_type": "code",
   "execution_count": 39,
   "id": "51d04370",
   "metadata": {},
   "outputs": [
    {
     "name": "stdout",
     "output_type": "stream",
     "text": [
      "CHI 966.7354262235857\n",
      "DET 932.8438376750813\n",
      "GB 1051.782820850352\n",
      "MIN 1048.637915250981\n"
     ]
    }
   ],
   "source": [
    "numgames = len(games)\n",
    "scale = 400\n",
    "K = 30\n",
    "\n",
    "names = ['CHI','DET','GB','MIN']\n",
    "elo = [1000,1000,1000,1000]\n",
    "\n",
    "for i in range(numgames-1,0,-1):\n",
    "    hteam = games[i][0]\n",
    "    ateam = games[i][1]\n",
    "    hscore = games[i][2]\n",
    "    ascore = games[i][3]\n",
    "    \n",
    "    #get ratings\n",
    "    hrat = elo[names.index(hteam)]\n",
    "    arat = elo[names.index(ateam)]\n",
    "    diff = hrat - arat\n",
    "    \n",
    "    #calc expected results/probs of winning\n",
    "    hexp = 1./(1. + 10**(diff/scale))\n",
    "    aexp = 1. - hexp\n",
    "    \n",
    "    #update ratings\n",
    "    if (hscore > ascore): #home team win\n",
    "        elo[names.index(hteam)] += K*(1. - hexp)\n",
    "        elo[names.index(ateam)] += K*(0. - aexp)\n",
    "    elif (ascore > hscore): #away team win\n",
    "        elo[names.index(hteam)] += K*(0. - hexp)\n",
    "        elo[names.index(ateam)] += K*(1. - aexp)\n",
    "    #no else or draws needed\n",
    "    \n",
    "    #[print(name,elo[names.index(name)]) for name in names ]\n",
    "[print(name,elo[names.index(name)]) for name in names ];"
   ]
  },
  {
   "cell_type": "markdown",
   "id": "269e5ee1",
   "metadata": {},
   "source": [
    "## Warnings/Cautions"
   ]
  },
  {
   "cell_type": "markdown",
   "id": "bb23f265",
   "metadata": {},
   "source": [
    "### Campbell's Law\n",
    "The more any quantitative social indicator is used for social decision-making, the more subject it will be to corruption pressures and the more apt it will be to distort and corrupt the social processes it is intended to monitor."
   ]
  },
  {
   "cell_type": "markdown",
   "id": "e5124ac4",
   "metadata": {},
   "source": [
    "### Goodhart's Law\n",
    "When a measure becomes a target, it ceases to be a good measure."
   ]
  },
  {
   "cell_type": "markdown",
   "id": "2b6cc2b5",
   "metadata": {},
   "source": [
    "### spectral ranking\n"
   ]
  },
  {
   "cell_type": "code",
   "execution_count": 40,
   "id": "120140c7",
   "metadata": {},
   "outputs": [
    {
     "name": "stdout",
     "output_type": "stream",
     "text": [
      "[ 1.        +0.j         -0.33333333+0.23570226j -0.33333333-0.23570226j\n",
      " -0.33333333+0.j        ]\n",
      "[1.5   -0.j 1.3125-0.j 1.6875-0.j 1.    -0.j]\n"
     ]
    }
   ],
   "source": [
    "L = np.array([\n",
    "    [0,1./3.,1./3.,1./2.],\n",
    "    [0.5,0,1./3.,0.],\n",
    "    [0.5,1./3.,0,0.5],\n",
    "    [0,1./3.,1./3.,0.]\n",
    "])\n",
    "\n",
    "v,w = np.linalg.eig(L)\n",
    "\n",
    "print(v)\n",
    "print(w[:,0]/w[3,0])"
   ]
  },
  {
   "cell_type": "markdown",
   "id": "97e3bddd",
   "metadata": {},
   "source": [
    "### Colley for NFC North example\n"
   ]
  },
  {
   "cell_type": "code",
   "execution_count": 79,
   "id": "59fb06cf",
   "metadata": {},
   "outputs": [
    {
     "name": "stdout",
     "output_type": "stream",
     "text": [
      "[[ 8. -2. -2. -2.]\n",
      " [-2.  8. -2. -2.]\n",
      " [-2. -2.  8. -2.]\n",
      " [-2. -2. -2.  8.]]\n",
      "[[ 0.]\n",
      " [-1.]\n",
      " [ 3.]\n",
      " [ 2.]]\n",
      "Team:  Colley rating\n",
      "CHI: 0.40\n",
      "DET: 0.30\n",
      "GB: 0.70\n",
      "MIN: 0.60\n"
     ]
    }
   ],
   "source": [
    "Cmat = np.zeros((4,4))\n",
    "bvec = np.zeros((4,1))\n",
    "\n",
    "for i in range(0,4):\n",
    "    Cmat[i,i] = 2.\n",
    "    bvec[i] = 1.\n",
    "    \n",
    "\n",
    "numgames = len(games)\n",
    "\n",
    "names = ['CHI','DET','GB','MIN']\n",
    "\n",
    "for i in range(0,numgames,1):\n",
    "    hteam = games[i][0]\n",
    "    ateam = games[i][1]\n",
    "    hscore = games[i][2]\n",
    "    ascore = games[i][3]\n",
    "    hidx = names.index(hteam)\n",
    "    aidx = names.index(ateam)\n",
    "    \n",
    "    Cmat[hidx,hidx] += 1.  #add 1 to total games played by home team\n",
    "    Cmat[aidx,aidx] += 1.\n",
    "    \n",
    "    Cmat[hidx,aidx] += -1. #add -1 to offdiagonal entry corresponding to opponent\n",
    "    Cmat[aidx,hidx] += -1.\n",
    "    \n",
    "    if (hscore > ascore): #home team win\n",
    "        bvec[hidx] += 1./2.\n",
    "        bvec[aidx] += -1/2.\n",
    "    elif (ascore > hscore): #away team win\n",
    "        bvec[aidx] += 1./2.\n",
    "        bvec[hidx] += -1/2.\n",
    "\n",
    "Crating = np.linalg.solve(Cmat,bvec)\n",
    "\n",
    "\n",
    "\n",
    "print(Cmat)\n",
    "print(bvec)\n",
    "\n",
    "print('Team:  Colley rating')\n",
    "for i in range(0,4):\n",
    "    print(f\"{names[i]}: {Crating[i][0]:4.2f}\")\n",
    "\n",
    "\n",
    "\n"
   ]
  },
  {
   "cell_type": "markdown",
   "id": "576ec585",
   "metadata": {},
   "source": [
    "### 2016 Big Ten CBB\n"
   ]
  },
  {
   "cell_type": "code",
   "execution_count": 59,
   "id": "f93c05d2",
   "metadata": {},
   "outputs": [
    {
     "name": "stdout",
     "output_type": "stream",
     "text": [
      "[[0. 0. 0. 0. 0. 0. 0. 2. 0. 0. 2. 1. 0. 0.]\n",
      " [1. 0. 1. 0. 0. 0. 1. 1. 0. 1. 2. 1. 2. 0.]\n",
      " [1. 1. 0. 0. 1. 2. 2. 1. 0. 1. 0. 1. 1. 1.]\n",
      " [1. 1. 1. 0. 0. 2. 1. 2. 1. 0. 1. 0. 2. 1.]\n",
      " [1. 2. 0. 2. 0. 0. 1. 1. 0. 1. 1. 2. 1. 0.]\n",
      " [2. 1. 0. 0. 1. 0. 2. 2. 0. 1. 1. 0. 1. 0.]\n",
      " [1. 0. 0. 0. 0. 0. 0. 1. 0. 2. 2. 0. 1. 1.]\n",
      " [0. 0. 0. 0. 0. 0. 0. 0. 0. 0. 1. 0. 0. 0.]\n",
      " [2. 1. 1. 0. 2. 1. 1. 1. 0. 2. 2. 1. 0. 1.]\n",
      " [1. 0. 0. 1. 0. 0. 0. 2. 0. 0. 1. 0. 1. 0.]\n",
      " [0. 0. 1. 0. 0. 0. 0. 1. 0. 0. 0. 0. 0. 0.]\n",
      " [0. 1. 1. 1. 0. 1. 1. 1. 0. 2. 1. 0. 1. 2.]\n",
      " [1. 0. 0. 0. 1. 0. 1. 1. 1. 1. 1. 0. 0. 0.]\n",
      " [2. 1. 1. 1. 1. 1. 0. 1. 1. 1. 1. 0. 1. 0.]]\n",
      "Team: Wins\n",
      "Illinois: 5.0\n",
      "Michigan: 10.0\n",
      "Maryland: 12.0\n",
      "Michigan State: 13.0\n",
      "Iowa: 12.0\n",
      "Ohio State: 11.0\n",
      "Northwestern: 8.0\n",
      "Rutgers: 1.0\n",
      "Indiana: 15.0\n",
      "Nebraska: 6.0\n",
      "Minnesota: 2.0\n",
      "Purdue: 12.0\n",
      "Penn State: 7.0\n",
      "Wisconsin: 12.0\n"
     ]
    }
   ],
   "source": [
    "b1gnames = ['Illinois','Michigan','Maryland','Michigan State','Iowa','Ohio State','Northwestern',\n",
    "           'Rutgers','Indiana','Nebraska','Minnesota','Purdue','Penn State','Wisconsin']\n",
    "\n",
    "tmat = np.zeros((14,14))\n",
    "\n",
    "tmat[0,:] = np.array([0,0,0,0,0,0,0,2,0,0,2,1,0,0])\n",
    "tmat[1,:] = np.array([1,0,1,0,0,0,1,1,0,1,2,1,2,0])\n",
    "tmat[2,:] = np.array([1,1,0,0,1,2,2,1,0,1,0,1,1,1])\n",
    "tmat[3,:] = np.array([1,1,1,0,0,2,1,2,1,0,1,0,2,1])\n",
    "tmat[4,:] = np.array([1,2,0,2,0,0,1,1,0,1,1,2,1,0])\n",
    "tmat[5,:] = np.array([2,1,0,0,1,0,2,2,0,1,1,0,1,0])\n",
    "tmat[6,:] = np.array([1,0,0,0,0,0,0,1,0,2,2,0,1,1])\n",
    "tmat[7,:] = np.array([0,0,0,0,0,0,0,0,0,0,1,0,0,0])\n",
    "tmat[8,:] = np.array([2,1,1,0,2,1,1,1,0,2,2,1,0,1])\n",
    "tmat[9,:] = np.array([1,0,0,1,0,0,0,2,0,0,1,0,1,0])\n",
    "tmat[10,:] = np.array([0,0,1,0,0,0,0,1,0,0,0,0,0,0])\n",
    "tmat[11,:] = np.array([0,1,1,1,0,1,1,1,0,2,1,0,1,2])\n",
    "tmat[12,:] = np.array([1,0,0,0,1,0,1,1,1,1,1,0,0,0])\n",
    "tmat[13,:] = np.array([2,1,1,1,1,1,0,1,1,1,1,0,1,0])\n",
    "\n",
    "print(tmat)\n",
    "\n",
    "b1gwins = np.zeros(14)\n",
    "for i in range(0,14):\n",
    "    b1gwins[i] = tmat[i,:].sum()\n",
    "    \n",
    "print(\"Team: Wins\")\n",
    "for i in range(0,14):\n",
    "    print(f\"{b1gnames[i]}: {b1gwins[i]}\")\n",
    "    "
   ]
  },
  {
   "cell_type": "code",
   "execution_count": 80,
   "id": "2b0443f9",
   "metadata": {},
   "outputs": [
    {
     "name": "stdout",
     "output_type": "stream",
     "text": [
      "[[ 0.  1.  3.  1.  0.  1.  1.  3.  0.  2.  3.  0.  1.  2.]\n",
      " [ 5.  2.  3.  2.  3.  3.  5. 11.  2.  7.  9.  2.  4.  4.]\n",
      " [12.  6.  3.  5.  4.  2.  8. 15.  2. 12. 16.  4. 10.  4.]\n",
      " [13.  5.  4.  1.  8.  4. 10. 14.  3. 11. 15.  4.  7.  3.]\n",
      " [ 7.  4.  7.  3.  1.  6.  7. 15.  3.  9. 15.  3. 12.  7.]\n",
      " [ 6.  2.  2.  3.  1.  0.  3. 12.  1.  7. 15.  5.  6.  2.]\n",
      " [ 5.  1.  3.  3.  2.  1.  1. 10.  2.  2.  7.  1.  3.  0.]\n",
      " [ 0.  0.  1.  0.  0.  0.  0.  1.  0.  0.  0.  0.  0.  0.]\n",
      " [11.  8.  5.  8.  3.  4.  8. 19.  1. 10. 16.  8. 11.  4.]\n",
      " [ 2.  1.  2.  0.  1.  2.  2.  6.  2.  1.  6.  1.  2.  1.]\n",
      " [ 1.  1.  0.  0.  1.  2.  2.  1.  0.  1.  1.  1.  1.  1.]\n",
      " [13.  5.  5.  4.  5.  6.  7. 15.  4.  8. 12.  2. 11.  3.]\n",
      " [ 5.  3.  2.  3.  2.  1.  2.  8.  0.  5.  9.  4.  3.  2.]\n",
      " [10.  6.  4.  3.  5.  5.  9. 16.  2.  7. 14.  7.  8.  3.]]\n",
      "Team: Second Order Wins\n",
      "Illinois: 18.0\n",
      "Michigan: 62.0\n",
      "Maryland: 103.0\n",
      "Michigan State: 102.0\n",
      "Iowa: 99.0\n",
      "Ohio State: 65.0\n",
      "Northwestern: 41.0\n",
      "Rutgers: 2.0\n",
      "Indiana: 116.0\n",
      "Nebraska: 29.0\n",
      "Minnesota: 13.0\n",
      "Purdue: 100.0\n",
      "Penn State: 49.0\n",
      "Wisconsin: 99.0\n"
     ]
    }
   ],
   "source": [
    "t2 = np.dot(tmat,tmat)\n",
    "\n",
    "print(t2)\n",
    "\n",
    "\n",
    "b1g2wins = np.zeros(14)\n",
    "for i in range(0,14):\n",
    "    b1g2wins[i] = t2[i,:].sum()\n",
    "\n",
    "print(\"Team: Second Order Wins\")\n",
    "for i in range(0,14):\n",
    "    print(f\"{b1gnames[i]}: {b1g2wins[i]}\")"
   ]
  },
  {
   "cell_type": "code",
   "execution_count": 78,
   "id": "9d449f1b",
   "metadata": {},
   "outputs": [
    {
     "name": "stdout",
     "output_type": "stream",
     "text": [
      "Team: Spectral Rating\n",
      "Illinois:  20.5\n",
      "Michigan:  56.5\n",
      "Maryland:  95.6\n",
      "Michigan State: 115.5\n",
      "Iowa: 112.1\n",
      "Ohio State:  46.0\n",
      "Northwestern:  35.9\n",
      "Rutgers:   1.0\n",
      "Indiana: 120.2\n",
      "Nebraska:  32.0\n",
      "Minnesota:  16.0\n",
      "Purdue: 110.3\n",
      "Penn State:  67.6\n",
      "Wisconsin: 124.5\n"
     ]
    }
   ],
   "source": [
    "b1gL = np.copy(tmat)\n",
    "\n",
    "for j in range(0,14):\n",
    "    b1gL[:,j] = b1gL[:,j]/b1gL[:,j].sum()\n",
    "\n",
    "v,w = np.linalg.eig(b1gL)\n",
    "\n",
    "\n",
    "b1gspecrat = np.real(w[:,0]/max(w[:,0]))\n",
    "\n",
    "print(\"Team: Spectral Rating\")\n",
    "for i in range(0,14):\n",
    "    #print(f\"{b1gnames[i]}: {b1gspecrat[i]}\")\n",
    "    print(\"{}: {:5.1f}\".format(b1gnames[i],b1gspecrat[i]))"
   ]
  },
  {
   "cell_type": "code",
   "execution_count": null,
   "id": "29ff275d",
   "metadata": {},
   "outputs": [],
   "source": []
  }
 ],
 "metadata": {
  "kernelspec": {
   "display_name": "Python 3 (ipykernel)",
   "language": "python",
   "name": "python3"
  },
  "language_info": {
   "codemirror_mode": {
    "name": "ipython",
    "version": 3
   },
   "file_extension": ".py",
   "mimetype": "text/x-python",
   "name": "python",
   "nbconvert_exporter": "python",
   "pygments_lexer": "ipython3",
   "version": "3.9.12"
  }
 },
 "nbformat": 4,
 "nbformat_minor": 5
}
