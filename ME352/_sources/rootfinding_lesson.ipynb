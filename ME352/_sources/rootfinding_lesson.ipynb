{
 "cells": [
  {
   "cell_type": "markdown",
   "id": "9544bbea",
   "metadata": {},
   "source": [
    "# Root finding"
   ]
  },
  {
   "cell_type": "code",
   "execution_count": 4,
   "id": "9c9ee5ec",
   "metadata": {},
   "outputs": [],
   "source": [
    "import numpy as np\n",
    "import matplotlib.pyplot as plt\n",
    "%matplotlib inline"
   ]
  },
  {
   "cell_type": "code",
   "execution_count": 5,
   "id": "064eb037",
   "metadata": {},
   "outputs": [],
   "source": [
    "def newton_method(f,fp,x0,maxit=100,tol=1e-8):   #fill in your newton method here\n",
    "    #newtons method with x0 initial guess\n",
    "    #inputs: f -- function\n",
    "    #        fp -- derivative of f\n",
    "    #        x0 -- initial guess\n",
    "    #         maxiter -- max iterations\n",
    "    #       tol --- tolerance\n",
    "    \n",
    "    numit = 0  #keep track of iterations\n",
    "    diff = tol + 1.\n",
    "    x = x0\n",
    "    \n",
    "    while (np.abs(diff) > tol) and (numit < maxit):\n",
    "        xnew = x - f(x)/fp(x)\n",
    "        numit += 1\n",
    "        diff = xnew - x\n",
    "        x = xnew\n",
    "        print(x)\n",
    "    \n",
    "    return x, numit #return something\n"
   ]
  },
  {
   "cell_type": "code",
   "execution_count": 8,
   "id": "d3d756bd",
   "metadata": {},
   "outputs": [
    {
     "name": "stdout",
     "output_type": "stream",
     "text": [
      "-15.05\n",
      "-7.624667774086379\n",
      "-4.009063770159931\n",
      "-2.3786840777102567\n",
      "-1.8199428042345787\n",
      "-1.7341731278582593\n",
      "-1.7320521062406589\n",
      "-1.7320508075693641\n",
      "-1.7320508075688772\n",
      "Found root= -1.73205081e+00 in 9 iterations\n"
     ]
    }
   ],
   "source": [
    "#test case 1 -- find square root of three\n",
    "def func(x):\n",
    "    return x**2 - 3.\n",
    "def funcp(x):\n",
    "    return 2.*x\n",
    "\n",
    "root,nits = newton_method(func,funcp,-.1,100,1.e-10)\n",
    "print('Found root= {:1.8e} in {:d} iterations'.format(root,nits))\n",
    "#print(np.sqrt(3))\n",
    "#print(np.sqrt(3) - root)"
   ]
  },
  {
   "cell_type": "code",
   "execution_count": 9,
   "id": "763dc87d",
   "metadata": {},
   "outputs": [
    {
     "name": "stdout",
     "output_type": "stream",
     "text": [
      "0.7503638678402439\n",
      "0.7391128909113617\n",
      "0.739085133385284\n",
      "0.7390851332151607\n",
      "Found root= 7.39085133e-01 in 4 iterations\n"
     ]
    }
   ],
   "source": [
    "#test case 2 -- solve cos x = x\n",
    "def func(x):\n",
    "    return np.math.cos(x) - x\n",
    "def funcp(x):\n",
    "    return -1.*np.math.sin(x) - 1.\n",
    "\n",
    "root,nits = newton_method(func,funcp,1,100,1.e-8)\n",
    "print('Found root= {:1.8e} in {:d} iterations'.format(root,nits))"
   ]
  },
  {
   "cell_type": "markdown",
   "id": "4c2150bf",
   "metadata": {},
   "source": [
    "### example\n",
    "Solve $\\frac{1}{2} + \\frac{1}{4}x^2 - x\\sin(x) = \\frac{1}{2}\\cos(2x)$."
   ]
  },
  {
   "cell_type": "code",
   "execution_count": 17,
   "id": "0dfe3597",
   "metadata": {},
   "outputs": [
    {
     "name": "stdout",
     "output_type": "stream",
     "text": [
      "1.8977529702418763\n",
      "1.8966250899372334\n",
      "1.8960600478436749\n",
      "1.8957772499712897\n",
      "1.895635781660446\n",
      "1.8955650301404994\n",
      "1.8955296500357208\n",
      "1.8955119588974152\n",
      "1.8955031130619369\n",
      "1.8954986900846493\n",
      "1.895496478588018\n",
      "1.8954953728077126\n",
      "1.8954948197932437\n",
      "1.8954945432780543\n",
      "1.8954944047278717\n",
      "1.8954943362139827\n",
      "1.895494302121959\n",
      "1.895494287971145\n",
      "1.895494276113678\n",
      "1.8954942624424211\n",
      "1.8954942894769975\n",
      "1.8954942728841924\n",
      "1.8954942728841924\n",
      "Found root= 1.89549427e+00 in 23 iterations\n",
      "0.0\n"
     ]
    },
    {
     "data": {
      "image/png": "[encoded data removed]",
      "text/plain": [
       "<Figure size 432x288 with 1 Axes>"
      ]
     },
     "metadata": {
      "needs_background": "light"
     },
     "output_type": "display_data"
    }
   ],
   "source": [
    "def g(x):\n",
    "    return(0.5 + 0.25*x*x - x*np.sin(x) - 0.5*np.cos(2.*x))\n",
    "\n",
    "def gp(x):\n",
    "    return(0.5*x - np.sin(x) - x*np.cos(x) + np.sin(2.*x))\n",
    "\n",
    "xs = np.linspace(-2,2,101)\n",
    "ys = g(xs)\n",
    "plt.plot(xs,ys,'r');\n",
    "root,nits = newton_method(g,gp,1.9,100,1.e-8)\n",
    "print('Found root= {:1.8e} in {:d} iterations'.format(root,nits))\n",
    "print(g(root))"
   ]
  },
  {
   "cell_type": "code",
   "execution_count": 22,
   "id": "accce1d5",
   "metadata": {},
   "outputs": [
    {
     "name": "stdout",
     "output_type": "stream",
     "text": [
      "2.3324675324675326\n",
      "1.9842561832558543\n",
      "2.0000015611860515\n",
      "2.0\n",
      "2.0\n",
      "Found root= 2.00000000e+00 in 5 iterations\n"
     ]
    },
    {
     "data": {
      "image/png": "[encoded data removed]",
      "text/plain": [
       "<Figure size 432x288 with 1 Axes>"
      ]
     },
     "metadata": {
      "needs_background": "light"
     },
     "output_type": "display_data"
    }
   ],
   "source": [
    "def h(x):\n",
    "    return(x**3 - 6*x**2 + 7*x +2)\n",
    "\n",
    "def hp(x):\n",
    "    return(3*x**2 - 12*x + 7)\n",
    "\n",
    "xs = np.linspace(0,5,101)\n",
    "ys = h(xs)\n",
    "plt.plot(xs,ys,'r');\n",
    "root,nits = newton_method(h,hp,1.2,100,1.e-8)\n",
    "print('Found root= {:1.8e} in {:d} iterations'.format(root,nits))"
   ]
  },
  {
   "cell_type": "code",
   "execution_count": null,
   "id": "98150915",
   "metadata": {},
   "outputs": [],
   "source": [
    "def secant_method(f,x0,x1,tol=1.e-16,maxit=100):\n",
    "    #secant method with x0, x1 initial guesses\n",
    "    diff = x1-x0\n",
    "    numit = 1\n",
    "    x = x0\n",
    "    a = f(x0)\n",
    "    b = f(x1)\n",
    "    #print(x) #uncomment print statements if you want to see iterations\n",
    "\n",
    "    while abs(diff) > tol and numit < maxit:\n",
    "        xn = x1 - b*(x1-x0)/(b-a)\n",
    "        diff = xn - x1\n",
    "        x1,x0 = xn,x1\n",
    "        a,b = b,f(x1)\n",
    "        numit += 1\n",
    "        #print(x)   #uncomment print statements if you want to see iterations\n",
    "    return xn,numit"
   ]
  },
  {
   "cell_type": "markdown",
   "id": "6df7271d",
   "metadata": {},
   "source": [
    "### fsolve\n",
    "fsolve is the command we use in general to solve equations\n"
   ]
  },
  {
   "cell_type": "code",
   "execution_count": 24,
   "id": "31eebe87",
   "metadata": {},
   "outputs": [
    {
     "name": "stdout",
     "output_type": "stream",
     "text": [
      "0.7390851332151607\n"
     ]
    }
   ],
   "source": [
    "#look at fsolve doc and solve an example or two from above\n",
    "from scipy.optimize import fsolve\n",
    "\n",
    "#test case 2 -- solve cos x = x\n",
    "def func(x):\n",
    "    return np.math.cos(x) - x\n",
    "\n",
    "root = fsolve(func,1.)\n",
    "print(root[0])"
   ]
  },
  {
   "cell_type": "markdown",
   "id": "96f7af3f",
   "metadata": {},
   "source": [
    "### Lakes\n",
    "If you visit a lot of lakes of different sizes in different parts of the world, you will see that there are two common physical states. Some lakes are relatively clean and fresh-smelling— these are called oligotrophic. In contrast, eutrophic lakes are overgrown with algae and have a rank smell. Eutrophic lakes have a phosphorus content that is many times higher than that of oligotrophic lakes. Biologists have long known that there does not appear to be a gradation of intermediate states; indeed, rapid eutrophication of formerly oligotrophic lakes is an environmental problem that can be caused by runoff of fertilizer from farms. Why there are no intermediate states, how eutrophication occurs, and the possibility of restoring a eutrophic lake are all questions that can be explored with a simple mathematical model due to a 1999 paper by Carpenter et al.\n",
    "\n",
    "$\\frac{dp}{dt} = b - p + r\\frac{p^q}{1 + p^q}$.\n",
    "\n",
    "This nondimensionalized model incorporates three mechanisms for change in phosphorus content in a lake on the LHS of the DE. The first term, \n",
    "b\n",
    " represents the influx of phosphorus from the environment; this can include artificial sources such as farm runoff as well as natural sources such as decomposition of plants. The standard use of phosphates in laundry and dishwashing detergents was linked to lake eutrophication in the late 1960s and spawned one of the early conflicts between the environmental movement and industry. Phosphates are still used in some detergents, but smaller amounts and better treatment of wastewater have significantly reduced their contribution to eutrophication. The second term represents the combined processes of sedimentation, outflow, and absorption by plants, all of which remove phosphorus from the water. The last term represents the recycling of phosphorus from sediments. This term plays a significant role in the physical system, because the large values typical of $q$ (from 2 for a cold deep lake to as much as 20 for a warm shallow lake) mean that the recycling rate is roughly \n",
    "$r$ when $p>1$ and very small when $ p<1$. Thus, eutrophic lakes, which are high in phosphorus, have large recycling rates that keep the phosphorus concentration high; oligotrophic lakes, in contrast, have very little recycling of sedimentary phosphorus.\n",
    "\n",
    "Let $b = 0.25, r=5$, and $q=8$. Find the equilibrium solutions to this DE.\n"
   ]
  },
  {
   "cell_type": "code",
   "execution_count": 37,
   "id": "8fa114d1",
   "metadata": {},
   "outputs": [
    {
     "name": "stdout",
     "output_type": "stream",
     "text": [
      "[0.25007648]\n"
     ]
    }
   ],
   "source": [
    "def rhs(p,b,r,q):\n",
    "    #b = 0.25\n",
    "    #r = 5.\n",
    "    #q = 8.\n",
    "    return(b - p + r*p**q/(1.+p**q))\n",
    "\n",
    "root = fsolve(rhs,0.3,args=(.25,5.,8.))\n",
    "print(root)"
   ]
  },
  {
   "cell_type": "code",
   "execution_count": 33,
   "id": "8e6c9a0c",
   "metadata": {},
   "outputs": [
    {
     "data": {
      "image/png": "[encoded data removed]",
      "text/plain": [
       "<Figure size 432x288 with 1 Axes>"
      ]
     },
     "metadata": {
      "needs_background": "light"
     },
     "output_type": "display_data"
    }
   ],
   "source": [
    "ps = np.linspace(0.,6.,101)\n",
    "plt.plot(ps,rhs(ps),'b',ps,0*ps,'r');"
   ]
  },
  {
   "cell_type": "code",
   "execution_count": null,
   "id": "f4de1a17",
   "metadata": {},
   "outputs": [],
   "source": []
  }
 ],
 "metadata": {
  "kernelspec": {
   "display_name": "Python 3 (ipykernel)",
   "language": "python",
   "name": "python3"
  },
  "language_info": {
   "codemirror_mode": {
    "name": "ipython",
    "version": 3
   },
   "file_extension": ".py",
   "mimetype": "text/x-python",
   "name": "python",
   "nbconvert_exporter": "python",
   "pygments_lexer": "ipython3",
   "version": "3.9.12"
  }
 },
 "nbformat": 4,
 "nbformat_minor": 5
}
