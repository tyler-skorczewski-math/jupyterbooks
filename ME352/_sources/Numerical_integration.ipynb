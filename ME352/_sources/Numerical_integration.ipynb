{
 "cells": [
  {
   "cell_type": "markdown",
   "id": "1ad5421d",
   "metadata": {},
   "source": [
    "# Numerical Integration basics with python\n",
    "The goal of this lesson is to reviews some numerical integration ideas from calculus and see how to implement these in python."
   ]
  },
  {
   "cell_type": "code",
   "execution_count": 1,
   "id": "a625b4b4",
   "metadata": {},
   "outputs": [],
   "source": [
    "import numpy as np\n",
    "import matplotlib.pyplot as plt\n",
    "%matplotlib inline"
   ]
  },
  {
   "cell_type": "markdown",
   "id": "499d7490",
   "metadata": {},
   "source": [
    "### Fresnel integral\n",
    "Approximate $\\displaystyle \\int_0^1 \\cos(x^2)~dx$.\n",
    "\n",
    "This is a [Fresnel integral](https://en.wikipedia.org/wiki/Fresnel_integral). Integrals like this appear in optics and signal processing."
   ]
  },
  {
   "cell_type": "code",
   "execution_count": 16,
   "id": "056cbf5d",
   "metadata": {},
   "outputs": [
    {
     "name": "stdout",
     "output_type": "stream",
     "text": [
      "L5 = 0.9261\n",
      "R5 = 0.8801\n",
      "0.7701511529340699\n"
     ]
    },
    {
     "data": {
      "image/png": "[encoded data removed]",
      "text/plain": [
       "<Figure size 432x288 with 1 Axes>"
      ]
     },
     "metadata": {
      "needs_background": "light"
     },
     "output_type": "display_data"
    }
   ],
   "source": [
    "def fres(x):\n",
    "    return(np.cos(x**2))\n",
    "\n",
    "xs = np.linspace(0,1,101)\n",
    "plt.plot(xs,fres(xs));\n",
    "\n",
    "#calculate L10 approx\n",
    "h = 0.1\n",
    "#x = np.array([0.,0.2,0.4,0.6,0.8])\n",
    "x = np.linspace(0,.9,10)\n",
    "f = fres(x)  #function values\n",
    "L5 = h*np.sum(f)\n",
    "print(f\"L5 = {L5:2.4f}\")\n",
    "\n",
    "#calcuate R5\n",
    "x = np.linspace(0.1,1,10)\n",
    "f = fres(x)  #function values\n",
    "R5 = h*np.sum(f)\n",
    "print(f\"R5 = {R5:2.4f}\")\n",
    "\n",
    "# 1 trapezoid\n",
    "T1 = 0.5*1.*(fres(0)+fres(1))\n",
    "print(T1)\n"
   ]
  },
  {
   "cell_type": "code",
   "execution_count": 17,
   "id": "632d8337",
   "metadata": {},
   "outputs": [
    {
     "name": "stdout",
     "output_type": "stream",
     "text": [
      "0.9031217571234075\n"
     ]
    }
   ],
   "source": [
    "#calculate T10\n",
    "h = 0.1\n",
    "x = np.linspace(0,1,11)\n",
    "\n",
    "T10 = 0\n",
    "for i in range(10):\n",
    "    T10 += 0.5*h*( fres(x[i]) + fres(x[i+1]) )\n",
    "\n",
    "print(T10)\n"
   ]
  },
  {
   "cell_type": "markdown",
   "id": "cf478d8f",
   "metadata": {},
   "source": [
    "### Basic case with error calculation\n",
    "First we'll look at approximating $\\ln(10) = \\int_1^{10} \\frac{1}{x} dx$.\n",
    "We'll use 9 subintervals so $h = \\frac{b-a}{n} = \\frac{10-1}{9} = 1$."
   ]
  },
  {
   "cell_type": "code",
   "execution_count": 18,
   "id": "2723cc9a",
   "metadata": {},
   "outputs": [],
   "source": [
    "#see notes pdf\n"
   ]
  },
  {
   "cell_type": "markdown",
   "id": "f9ae8409",
   "metadata": {},
   "source": [
    "### How to calculate number of intervals?\n",
    "\n",
    "**Theorem** Let $f(x)$ be a continuous function over $[a,b]$, having a second derivative $f''(x)$ over this interval. If $M$ is the maximum value of $|f''(x)|$ over $[a,b]$, then the upper bound for the error in using $n$ intervals with the midpoint rule, $M_n$, or the trapezoid rule, $T_n$, to approximate $\\displaystyle \\int_a^b f(x)~dx$ are given by\n",
    "\n",
    "$$\\mbox{Error with } M_n \\leq \\frac{M(b-a)^3}{24n^2}$$\n",
    "\n",
    "and \n",
    "\n",
    "$$\\mbox{Error with } T_n \\leq \\frac{M(b-a)^3}{12n^2}$$"
   ]
  },
  {
   "cell_type": "code",
   "execution_count": 19,
   "id": "b1f6cec7",
   "metadata": {},
   "outputs": [
    {
     "data": {
      "text/plain": [
       "110.22703842524301"
      ]
     },
     "execution_count": 19,
     "metadata": {},
     "output_type": "execute_result"
    }
   ],
   "source": [
    "np.sqrt(2*9**3/12/0.01)"
   ]
  },
  {
   "cell_type": "code",
   "execution_count": 20,
   "id": "714f6c93",
   "metadata": {},
   "outputs": [
    {
     "name": "stdout",
     "output_type": "stream",
     "text": [
      "2.303127100679725\n"
     ]
    }
   ],
   "source": [
    "x = np.linspace(1,10,112)\n",
    "h = (10-1)/(112-1)\n",
    "n = 111\n",
    "Tn = (h/2)*(1/x[0])\n",
    "\n",
    "for i in range(1,111):\n",
    "    Tn += (h/2)*2*(1/x[i])\n",
    "\n",
    "Tn += (h/2)*(1/x[n])\n",
    "\n",
    "print(Tn)\n"
   ]
  },
  {
   "cell_type": "code",
   "execution_count": 2,
   "id": "b7620418",
   "metadata": {},
   "outputs": [],
   "source": [
    "# implement trapezoid rule in general\n",
    "\n",
    "def trapezoid_rule(func,a,b,n):\n",
    "    #implement trapezoid rule with n intervals to approximate integral of func from a to b\n",
    "    h = (b-a)/n\n",
    "    x = np.linspace(a,b,n+1)\n",
    "    Tn = func(x[0])\n",
    "    for i in range(1,n):\n",
    "        Tn += 2*func(x[i])\n",
    "\n",
    "    Tn += func(x[n])\n",
    "\n",
    "    Tn *= h/2\n",
    "    return(Tn)\n",
    "    \n",
    "\n"
   ]
  },
  {
   "cell_type": "code",
   "execution_count": 4,
   "id": "2d489967",
   "metadata": {},
   "outputs": [
    {
     "data": {
      "text/plain": [
       "2236.06797749979"
      ]
     },
     "execution_count": 4,
     "metadata": {},
     "output_type": "execute_result"
    }
   ],
   "source": [
    "np.sqrt(10**7 / 2)"
   ]
  },
  {
   "cell_type": "code",
   "execution_count": 5,
   "id": "5a551825",
   "metadata": {},
   "outputs": [
    {
     "name": "stdout",
     "output_type": "stream",
     "text": [
      "0.3102683197184547\n"
     ]
    }
   ],
   "source": [
    "def func(x):\n",
    "    return(np.sin(x*x))\n",
    "\n",
    "I = trapezoid_rule(func,0,1,2237)\n",
    "print(I)"
   ]
  },
  {
   "cell_type": "code",
   "execution_count": 14,
   "id": "f0ba1203",
   "metadata": {},
   "outputs": [
    {
     "name": "stdout",
     "output_type": "stream",
     "text": [
      "2.3031271006797254\n",
      "0.9031217571234074\n"
     ]
    }
   ],
   "source": [
    "def f(x):\n",
    "    return(1./x)\n",
    "\n",
    "print(trapezoid_rule(f,1,10,111))\n",
    "\n",
    "print(trapezoid_rule(fres,0,1,10))"
   ]
  },
  {
   "cell_type": "markdown",
   "id": "ccc0e411",
   "metadata": {},
   "source": [
    "### There is a better way to implement - dot product!\n",
    "Note that $T = \\frac{h}{2} \\left( f(x_0) + 2f(x_1) + 2f(x_2) + ... + 2f(x_{n-1}) + f(x_n) \\right)$, but the term in parentheses can be thought of as the dot product between the vectors,\n",
    "$$\\vec{w} = \\begin{bmatrix}1\\\\2\\\\2\\\\:\\\\:\\\\2\\\\1\\end{bmatrix}, \\vec{F} = \\begin{bmatrix}f(x_0)\\\\f(x_1)\\\\f(x_2)\\\\:\\\\:\\\\f(x_{n-1})\\\\f(x_n)\\end{bmatrix}.$$\n",
    "This allows us to construct a new way to program the dot product that lets us take advantage of some of python's (and other languages) built-in capabilities."
   ]
  },
  {
   "cell_type": "code",
   "execution_count": 15,
   "id": "afa7cd6d",
   "metadata": {},
   "outputs": [],
   "source": [
    "def trapezoid_rule_dot(func,a,b,n):\n",
    "    #implement trapezoid rule with n intervals to approximate integral of func from a to b\n",
    "    h = (b-a)/n\n",
    "    x = np.linspace(a,b,n+1)\n",
    "    w = np.ones(n+1) # Construct the weights w = [1 2 2 2 ... 2 2 1]\n",
    "    w[1:-1] = 2 \n",
    "    Tn = (h/2)*np.dot(func(x),w)\n",
    "    return(Tn)"
   ]
  },
  {
   "cell_type": "code",
   "execution_count": 16,
   "id": "f629c654",
   "metadata": {},
   "outputs": [
    {
     "name": "stdout",
     "output_type": "stream",
     "text": [
      "2.3031271006797254\n",
      "2.3031271006797245\n",
      "0.9031217571234074\n",
      "0.9031217571234076\n"
     ]
    }
   ],
   "source": [
    "print(trapezoid_rule(f,1,10,111))\n",
    "print(trapezoid_rule_dot(f,1,10,111))\n",
    "\n",
    "print(trapezoid_rule(fres,0,1,10))\n",
    "print(trapezoid_rule_dot(fres,0,1,10))"
   ]
  },
  {
   "cell_type": "markdown",
   "id": "15093f55",
   "metadata": {},
   "source": [
    "### Toughness calculation\n",
    "Consider the tensile test data contained\n",
    "in hair_ss.csv. The integral of the stress–strain curve is known as the\n",
    "toughness, $\\displaystyle U_T = \\int_0^{\\epsilon_f} \\sigma~d\\epsilon$ where $\\epsilon_f$ is the failure strain. Toughness has units of energy and can be interpreted as how much energy a material can mechanically “absorb” before breaking. Calculate the toughness of the material tested in the above data file."
   ]
  },
  {
   "cell_type": "code",
   "execution_count": 33,
   "id": "e220a958",
   "metadata": {},
   "outputs": [
    {
     "name": "stdout",
     "output_type": "stream",
     "text": [
      "48.950767636277746\n"
     ]
    },
    {
     "data": {
      "image/png": "[encoded data removed]",
      "text/plain": [
       "<Figure size 432x288 with 1 Axes>"
      ]
     },
     "metadata": {
      "needs_background": "light"
     },
     "output_type": "display_data"
    }
   ],
   "source": [
    "from scipy.integrate import trapz\n",
    "\n",
    "hairdata = np.loadtxt('./hair_ss.csv',delimiter=',',skiprows=1)\n",
    "stress = hairdata[:,0]\n",
    "strain = hairdata[:,1]\n",
    "\n",
    "plt.plot(strain[0:-2],stress[0:-2],'k.');\n",
    "plt.xlabel('strain');\n",
    "plt.ylabel('stress');\n",
    "\n",
    "toughness = trapz(stress[0:-2],strain[0:-2])\n",
    "\n",
    "print(toughness)\n"
   ]
  },
  {
   "cell_type": "markdown",
   "id": "626e7108",
   "metadata": {},
   "source": [
    "### Probability distribution calculation - median failure time - convex Weibull combination pdf \n",
    "During a project for Kimberly-Clark my collaborators and I had to model the downtime of a diaper packaging machine. The machine would generally break in two different ways. Sometimes the machine would just jam and the fix was quick, and sometimes a more serious break occured that took a while to fix. A probability density function for this is given by\n",
    "$$f_{r}(x) = \\alpha\\left(\\frac{1}{t \\sigma_{r} \\sqrt{2 \\pi}}e^{- \\frac{(\\ln(t) - \\mu_{r})^2}{2 \\sigma_{r} ^2}}\\right) + (1 - \\alpha)\\left[\\frac{\\beta}{\\eta} \\left(\\frac{t}{\\eta}\\right)^{\\beta - 1} e^{-\\left(\\frac{t}{\\eta}\\right)^{\\beta}}\\right].$$\n",
    "\n",
    "|parameter|value|\n",
    "|---|---|\n",
    "|$\\alpha$|0.5|\n",
    "|$\\beta$|10|\n",
    "|$\\sigma_r$ | 0.83 |\n",
    "|$\\mu_r$|log(30)\n",
    "|$\\eta$|1800|\n",
    "\n",
    "Find the probability a failure results in a downtime less than 10 minutes."
   ]
  },
  {
   "cell_type": "code",
   "execution_count": 34,
   "id": "d6105925",
   "metadata": {},
   "outputs": [],
   "source": [
    "alpha = 0.5\n",
    "beta = 10\n",
    "sigmar = 0.83\n",
    "mur = np.log(30)\n",
    "eta = 1800\n",
    "\n",
    "def pdf(t):\n",
    "    if t <= 0:\n",
    "        return(0)\n",
    "    else:\n",
    "        term1 = (1./(t*sigmar*np.sqrt(2*np.pi)))*np.exp(-(np.log(t)-mur)**2/(2.*sigmar**2))\n",
    "        term2 = (beta/eta)*(t/eta)**(beta-1)*np.exp(-(t/eta)**beta)\n",
    "        return(alpha*term1 + (1-alpha)*term2)\n",
    "\n"
   ]
  },
  {
   "cell_type": "code",
   "execution_count": 36,
   "id": "67ddd956",
   "metadata": {},
   "outputs": [
    {
     "data": {
      "image/png": "[encoded data removed]",
      "text/plain": [
       "<Figure size 432x288 with 1 Axes>"
      ]
     },
     "metadata": {
      "needs_background": "light"
     },
     "output_type": "display_data"
    }
   ],
   "source": [
    "ts = np.linspace(0,2400,10001)\n",
    "fs = np.copy(ts)\n",
    "for i in range(0,len(fs)):\n",
    "    fs[i] = pdf(ts[i])\n",
    "\n",
    "plt.plot(ts,fs);"
   ]
  },
  {
   "cell_type": "code",
   "execution_count": 39,
   "id": "711b41be",
   "metadata": {},
   "outputs": [
    {
     "name": "stdout",
     "output_type": "stream",
     "text": [
      "0.8160600723070502\n"
     ]
    }
   ],
   "source": [
    "prob = trapezoid_rule(pdf,0,1800,6000)\n",
    "\n",
    "print(prob)"
   ]
  },
  {
   "cell_type": "markdown",
   "id": "dbc35d81",
   "metadata": {},
   "source": [
    "### How to generate a random number from this distribution? (or any custom pdf)"
   ]
  },
  {
   "cell_type": "code",
   "execution_count": 49,
   "id": "e2dd0cb5",
   "metadata": {},
   "outputs": [],
   "source": [
    "np.random.random()\n",
    "from scipy.optimize import fsolve\n",
    "\n",
    "def getrand_pdf(pfunc,a):\n",
    "    #generates a random number from an arbitrary pdf function called pfunc\n",
    "    #a is the left side of the support of the pfunc\n",
    "    \n",
    "    r = np.random.random() #generate random number between 0 and 1\n",
    "    \n",
    "    def cdf(x):\n",
    "        return(trapezoid_rule(pfunc,a,x,1000))\n",
    "    \n",
    "    def f(x):\n",
    "        return(cdf(x)-r)\n",
    "    \n",
    "    sol = fsolve(f,10)\n",
    "    \n",
    "    return(sol)"
   ]
  },
  {
   "cell_type": "code",
   "execution_count": 50,
   "id": "f2ef3ef0",
   "metadata": {},
   "outputs": [
    {
     "name": "stdout",
     "output_type": "stream",
     "text": [
      "[22.00212897]\n",
      "[94.77442589]\n",
      "[1692.25724135]\n",
      "[191.89139528]\n",
      "[42.525909]\n",
      "[1422.7751501]\n",
      "[41.83142777]\n",
      "[1400.58099607]\n",
      "[1361.25556397]\n",
      "[8.75673054]\n"
     ]
    }
   ],
   "source": [
    "for i in range(0,10):\n",
    "    print(getrand_pdf(pdf,0))\n",
    "    "
   ]
  },
  {
   "attachments": {
    "image.png": {
     "image/png": "[encoded data removed]"
    }
   },
   "cell_type": "markdown",
   "id": "c8df55f2",
   "metadata": {},
   "source": [
    "### Corrugation example\n",
    "Corrugated iron is used extensively throughout the world as a versatile building material.\n",
    "Bending the material into a regular wave pattern gives it greater strength than if a \n",
    "a flat sheet is used. This panel has a finished width of 106.7 cm, a period of 10.67 cm (distance\n",
    "from the top of each wave to the top of the next), and has amplitude 1.35 cm (height\n",
    "from the mid-point of the wave to the top of a crest). How wide should the flat sheet be to give us a corrugated sheet of width 106.7 cm?\n",
    "\n",
    "![image.png](attachment:image.png)"
   ]
  },
  {
   "cell_type": "code",
   "execution_count": 18,
   "id": "1e56b7aa",
   "metadata": {},
   "outputs": [
    {
     "name": "stdout",
     "output_type": "stream",
     "text": [
      "121.95527220873171\n"
     ]
    }
   ],
   "source": [
    "def fc(x):\n",
    "    A = 1.35\n",
    "    p = 10.67\n",
    "    f = 2.*np.pi/p\n",
    "    output = np.sqrt( 1.  +   (A*f*np.cos(f*x))**2)\n",
    "    return(output)\n",
    "\n",
    "a = 0\n",
    "b = 106.7\n",
    "\n",
    "L = trapezoid_rule(fc,a,b,1000)\n",
    "\n",
    "print(L)\n",
    "    "
   ]
  },
  {
   "cell_type": "markdown",
   "id": "8e4adcda",
   "metadata": {},
   "source": [
    "### Corn development\n",
    "The development rate of many organisms shows an approximately linear dependence on temperature. Biologists measure the development of such organisms in terms of \"degree-days.\" These accumulate over time at a rate equal to the difference between the current temperature and a threshold temperature $T_m$. This temperature varies among species, as does the total number of degree-days required for full development.\n",
    "\n",
    "Corn is a plant species where development is measured in degree-days. The threshold temperature for most varieties of corn grown in the US is 50 degrees F. The yield and number of degree-days varies greatly for different varieties of corn and often leads to colloquial names for different varieties, e.g. 85-day corn, 110-day corn, etc. You can see a running total of the accumulated degree-days for the year at the Wisconsin Corn Growers Association page. \n",
    "\n",
    "- Construct an integral to represent the total number of degree-days in $t_1$ days. This integral represents a function \n",
    "$F(t_1)$ that contains the parameter $T_m$ and the temperature function $T(t)$ in addition to the independent variable $t_1$.\n",
    "- Assume that corn accumulates GDD if the temperature is above 50 degrees F and this accumulation is limited by moisture stress if the temperature rises above 86 degrees F. Thus if the temperature rises to 90 degrees F, we treat all degrees above 86 as equivalent to 86. Consider two new functions max and min. max(a,b) = a if a > b and b otherwise. min(c,d) = c if c < d and d otherwise. Use these two new functions and write a new integral describing the development of corn.\n",
    "- Calculate the GDD accumulated in 10 days if the temperature can be approximated with the functions below.\n",
    "  - $T(t) = 60 + 10\\sin(\\pi t/12)$\n",
    "  - $T(t) = 75 + 13\\sin(\\pi t/12)$\n",
    "  - $T(t) = 55 + 10\\sin(\\pi t/12)$"
   ]
  },
  {
   "cell_type": "code",
   "execution_count": 53,
   "id": "bb50de84",
   "metadata": {},
   "outputs": [
    {
     "name": "stdout",
     "output_type": "stream",
     "text": [
      "336.9641102838192\n"
     ]
    }
   ],
   "source": [
    "def gdd(T):\n",
    "    #calculates the GDD integral using Temperature function T\n",
    "    def f(t):\n",
    "        #T = 60 + 10*np.sin(np.pi*t/12)\n",
    "        return( np.max([np.min([T(t),86])-50,0]) )\n",
    "    gddvalue = trapezoid_rule(f,0,10,240)\n",
    "    return(gddvalue)\n",
    "\n",
    "def T1(t):\n",
    "    return(60 + 10*np.sin(np.pi*t/12))\n",
    "\n",
    "def T2(t):\n",
    "    return(75 + 13*np.sin(np.pi*t/12))\n",
    "\n",
    "print(gdd(T2))"
   ]
  },
  {
   "cell_type": "markdown",
   "id": "a7357f07",
   "metadata": {},
   "source": [
    "$$ GDD(t_1) = \\int_0^{t_1} max(min(T(t),86)-50,0)~dt  $$"
   ]
  },
  {
   "cell_type": "markdown",
   "id": "6ed48e19",
   "metadata": {},
   "source": [
    "### Simpon's Rule? if time"
   ]
  },
  {
   "cell_type": "code",
   "execution_count": null,
   "id": "5ac3621a",
   "metadata": {},
   "outputs": [],
   "source": []
  }
 ],
 "metadata": {
  "kernelspec": {
   "display_name": "Python 3 (ipykernel)",
   "language": "python",
   "name": "python3"
  },
  "language_info": {
   "codemirror_mode": {
    "name": "ipython",
    "version": 3
   },
   "file_extension": ".py",
   "mimetype": "text/x-python",
   "name": "python",
   "nbconvert_exporter": "python",
   "pygments_lexer": "ipython3",
   "version": "3.9.12"
  }
 },
 "nbformat": 4,
 "nbformat_minor": 5
}
