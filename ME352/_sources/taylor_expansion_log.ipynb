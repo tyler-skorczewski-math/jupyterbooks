{
 "cells": [
  {
   "cell_type": "code",
   "execution_count": 1,
   "id": "c57a96fa",
   "metadata": {},
   "outputs": [],
   "source": [
    "import numpy as np\n",
    "import matplotlib.pyplot as plt\n",
    "%matplotlib inline"
   ]
  },
  {
   "cell_type": "markdown",
   "id": "93e30b01",
   "metadata": {},
   "source": [
    "# Taylor Polynomial Expansions"
   ]
  },
  {
   "cell_type": "markdown",
   "id": "5771d4bd",
   "metadata": {},
   "source": [
    "### Taylor expansion of $f(x) = \\ln (x+1) $\n",
    "\n",
    "In class we saw the Taylor Series expansion of $\\ln (x+1)$ about $x=0$ was given by\n",
    "\n",
    "$$\\ln(x+1) = x - \\frac{x^2}{2} + \\frac{x^3}{3} - \\frac{x^4}{4} + \\cdot \\cdot \\cdot.$$\n",
    "\n",
    "Note we can see the $k^{th}$ term here is given by $\\displaystyle (-1)^{k+1}\\frac{x^k}{k}$.\n",
    "\n",
    "Let's write a function that gives us the $n^{th}$ degree approximation at some point $x$.\n",
    "\n"
   ]
  },
  {
   "cell_type": "code",
   "execution_count": 3,
   "id": "40a81aca",
   "metadata": {},
   "outputs": [],
   "source": [
    "def mylogexpansion(x,n):\n",
    "    #return the nth degree taylor expansion approximation of ln(x+1) at point x\n",
    "    \n",
    "    sum = 0.\n",
    "    for k in range(1,n+1):\n",
    "        sum = sum + (-1)**(k+1)*x**k/k\n",
    "    return(sum)"
   ]
  },
  {
   "cell_type": "markdown",
   "id": "9d437e8b",
   "metadata": {},
   "source": [
    "### Test and plot"
   ]
  },
  {
   "cell_type": "code",
   "execution_count": 4,
   "id": "942d3b04",
   "metadata": {},
   "outputs": [
    {
     "data": {
      "text/plain": [
       "0.09530833333333334"
      ]
     },
     "execution_count": 4,
     "metadata": {},
     "output_type": "execute_result"
    }
   ],
   "source": [
    "mylogexpansion(0.1,4)"
   ]
  },
  {
   "cell_type": "code",
   "execution_count": 5,
   "id": "c695b14c",
   "metadata": {},
   "outputs": [
    {
     "data": {
      "image/png": "[encoded data removed]",
      "text/plain": [
       "<Figure size 432x288 with 1 Axes>"
      ]
     },
     "metadata": {
      "needs_background": "light"
     },
     "output_type": "display_data"
    }
   ],
   "source": [
    "xs = np.linspace(0,1.,101)\n",
    "exacts = np.log(1. + xs)\n",
    "approx3s = mylogexpansion(xs,3)\n",
    "approx7s = mylogexpansion(xs,7)\n",
    "\n",
    "plt.plot(xs,exacts,\"k\"); #exact value in black\n",
    "plt.plot(xs,approx3s,\"b:\"); # degree 3 approx in blue\n",
    "plt.plot(xs,approx7s,\"r--\"); # degree 7 approx in red\n",
    "plt.xlabel('x');\n",
    "plt.ylabel('y');\n",
    "plt.legend(['exact','degree 3 approx','degree 7 approx']);\n"
   ]
  },
  {
   "cell_type": "markdown",
   "id": "dcbd3b61",
   "metadata": {},
   "source": [
    "### observations\n",
    "We see in the plot above that the degree 7 approximation in red stays closer to the exact function longer than the degree 3 approximation. This makes sense since we expect this approximation to be better."
   ]
  }
 ],
 "metadata": {
  "kernelspec": {
   "display_name": "Python 3 (ipykernel)",
   "language": "python",
   "name": "python3"
  },
  "language_info": {
   "codemirror_mode": {
    "name": "ipython",
    "version": 3
   },
   "file_extension": ".py",
   "mimetype": "text/x-python",
   "name": "python",
   "nbconvert_exporter": "python",
   "pygments_lexer": "ipython3",
   "version": "3.9.12"
  }
 },
 "nbformat": 4,
 "nbformat_minor": 5
}
