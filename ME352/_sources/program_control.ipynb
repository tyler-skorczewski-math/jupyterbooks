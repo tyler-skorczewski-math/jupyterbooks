{
 "cells": [
  {
   "cell_type": "markdown",
   "id": "584e7bb2",
   "metadata": {},
   "source": [
    "# Lesson 3: Program control: if/else and loops"
   ]
  },
  {
   "cell_type": "code",
   "execution_count": 1,
   "id": "ae10770a",
   "metadata": {},
   "outputs": [],
   "source": [
    "import numpy as np\n",
    "import matplotlib.pyplot as plt\n",
    "%matplotlib inline"
   ]
  },
  {
   "cell_type": "code",
   "execution_count": 11,
   "id": "d13d84f2",
   "metadata": {},
   "outputs": [],
   "source": [
    "def f(s):\n",
    "    #function that represents stress/efficiency of kidney beans plant as a function of soil moisture s\n",
    "    #s is between 0 and 1\n",
    "    sw = 0.14\n",
    "    sc = 0.35\n",
    "    \n",
    "    output = -1\n",
    "    \n",
    "    if (s>=0.) and (s <=1.) :\n",
    "        \n",
    "        if s < sw:\n",
    "            output = 0.\n",
    "        else:\n",
    "            if s <= sc:\n",
    "                output = (s-sw)/(sc-sw)\n",
    "            else:\n",
    "                output = 1.\n",
    "    else:\n",
    "        print(\"Error: s not in domain\")\n",
    "    return(output)"
   ]
  },
  {
   "cell_type": "code",
   "execution_count": 12,
   "id": "0cdcccdc",
   "metadata": {
    "scrolled": true
   },
   "outputs": [
    {
     "name": "stdout",
     "output_type": "stream",
     "text": [
      "Error: s not in domain\n"
     ]
    },
    {
     "data": {
      "text/plain": [
       "-1"
      ]
     },
     "execution_count": 12,
     "metadata": {},
     "output_type": "execute_result"
    }
   ],
   "source": [
    "f(1.21)"
   ]
  },
  {
   "cell_type": "code",
   "execution_count": 13,
   "id": "89cc57e6",
   "metadata": {},
   "outputs": [],
   "source": [
    "def f2(s):\n",
    "    #function that represents stress/efficiency of kidney beans plant as a function of soil moisture s\n",
    "    #s is between 0 and 1\n",
    "    sw = 0.14\n",
    "    sc = 0.35\n",
    "    \n",
    "    output = -1\n",
    "    \n",
    "    if (s>=0.) and (s <=1.) :\n",
    "        \n",
    "        if s < sw:\n",
    "            output = 0.\n",
    "        elif s<= sc:\n",
    "            output = (s-sw)/(sc-sw)\n",
    "        else:\n",
    "            output = 1.\n",
    "    else:\n",
    "        print(\"Error: s not in domain\")\n",
    "    return(output)"
   ]
  },
  {
   "cell_type": "code",
   "execution_count": 14,
   "id": "b225ab8c",
   "metadata": {},
   "outputs": [
    {
     "data": {
      "text/plain": [
       "0.7619047619047619"
      ]
     },
     "execution_count": 14,
     "metadata": {},
     "output_type": "execute_result"
    }
   ],
   "source": [
    "f2(.3)"
   ]
  },
  {
   "cell_type": "code",
   "execution_count": 22,
   "id": "edaa6fd2",
   "metadata": {},
   "outputs": [],
   "source": [
    "def myfactorial(n):\n",
    "    \n",
    "    n = int(n)\n",
    "    \n",
    "    output = 1\n",
    "    \n",
    "    if (n == 0):\n",
    "        output = 1\n",
    "    else:\n",
    "        while n>=1:\n",
    "            output = output*n\n",
    "            n = n-1\n",
    "    return(output)\n"
   ]
  },
  {
   "cell_type": "code",
   "execution_count": 23,
   "id": "ecda1f43",
   "metadata": {},
   "outputs": [
    {
     "data": {
      "text/plain": [
       "1"
      ]
     },
     "execution_count": 23,
     "metadata": {},
     "output_type": "execute_result"
    }
   ],
   "source": [
    "myfactorial(0)"
   ]
  },
  {
   "cell_type": "code",
   "execution_count": 19,
   "id": "b8feb22c",
   "metadata": {},
   "outputs": [
    {
     "data": {
      "text/plain": [
       "720"
      ]
     },
     "execution_count": 19,
     "metadata": {},
     "output_type": "execute_result"
    }
   ],
   "source": [
    "myfactorial(6)"
   ]
  },
  {
   "cell_type": "code",
   "execution_count": 41,
   "id": "5f0555f9",
   "metadata": {},
   "outputs": [],
   "source": [
    "def myfactorial2(n):\n",
    "    \n",
    "    n = int(n)\n",
    "    \n",
    "    output = 1\n",
    "    \n",
    "    if (n == 0):\n",
    "        output = 1\n",
    "    else:\n",
    "        for k in range(0,n):\n",
    "            output = output * (n-k)\n",
    "    return(output)\n"
   ]
  },
  {
   "cell_type": "code",
   "execution_count": 42,
   "id": "8f5205bf",
   "metadata": {},
   "outputs": [
    {
     "data": {
      "text/plain": [
       "720"
      ]
     },
     "execution_count": 42,
     "metadata": {},
     "output_type": "execute_result"
    }
   ],
   "source": [
    "myfactorial2(6)"
   ]
  },
  {
   "cell_type": "markdown",
   "id": "f46823e2",
   "metadata": {},
   "source": [
    "### task\n",
    "Write a function that adds up all even numbers between two inputs."
   ]
  },
  {
   "cell_type": "code",
   "execution_count": 38,
   "id": "b5ad9968",
   "metadata": {},
   "outputs": [],
   "source": [
    "def myevenadds(a,b):\n",
    "    #add up all even integers between a and b\n",
    "    #a and b are integers\n",
    "    a = int(a)\n",
    "    b = int(b)\n",
    "    \n",
    "    sum = 0\n",
    "    \n",
    "    for i in range(a,b+1):\n",
    "        if i%2 == 0: #if i is even\n",
    "            sum = sum + i\n",
    "        \n",
    "    return(sum)\n",
    "    "
   ]
  },
  {
   "cell_type": "code",
   "execution_count": 39,
   "id": "5280e3f3",
   "metadata": {},
   "outputs": [
    {
     "data": {
      "text/plain": [
       "7"
      ]
     },
     "execution_count": 39,
     "metadata": {},
     "output_type": "execute_result"
    }
   ],
   "source": [
    "15//2"
   ]
  },
  {
   "cell_type": "code",
   "execution_count": 40,
   "id": "0adb3b45",
   "metadata": {},
   "outputs": [
    {
     "data": {
      "text/plain": [
       "20"
      ]
     },
     "execution_count": 40,
     "metadata": {},
     "output_type": "execute_result"
    }
   ],
   "source": [
    "myevenadds(2,8)"
   ]
  },
  {
   "cell_type": "markdown",
   "id": "b18cb855",
   "metadata": {},
   "source": [
    "### Taylor polynomials\n",
    "Write a function that evaluates the Taylor polynomial for $f(x) = e^x$ of degree n."
   ]
  },
  {
   "cell_type": "code",
   "execution_count": 44,
   "id": "be76a132",
   "metadata": {},
   "outputs": [],
   "source": [
    "def mytaylorex(x,n):\n",
    "    #evaluate a taylor polynomial of f(x) = e^x of degree n\n",
    "    \n",
    "    sum = 0.\n",
    "    for k in range(0,n+1):\n",
    "        sum = sum + x**k / np.math.factorial(k)\n",
    "    return(sum)"
   ]
  },
  {
   "cell_type": "code",
   "execution_count": 48,
   "id": "a713c933",
   "metadata": {},
   "outputs": [
    {
     "data": {
      "text/plain": [
       "24"
      ]
     },
     "execution_count": 48,
     "metadata": {},
     "output_type": "execute_result"
    }
   ],
   "source": [
    "#check internet for built in factorial commands\n",
    "np.math.factorial(4)"
   ]
  },
  {
   "cell_type": "code",
   "execution_count": 47,
   "id": "d3d5249b",
   "metadata": {},
   "outputs": [
    {
     "data": {
      "text/plain": [
       "1.1051666666666666"
      ]
     },
     "execution_count": 47,
     "metadata": {},
     "output_type": "execute_result"
    }
   ],
   "source": [
    "mytaylorex(0.1,3)"
   ]
  },
  {
   "cell_type": "code",
   "execution_count": null,
   "id": "f5f8954a",
   "metadata": {},
   "outputs": [],
   "source": []
  }
 ],
 "metadata": {
  "kernelspec": {
   "display_name": "Python 3 (ipykernel)",
   "language": "python",
   "name": "python3"
  },
  "language_info": {
   "codemirror_mode": {
    "name": "ipython",
    "version": 3
   },
   "file_extension": ".py",
   "mimetype": "text/x-python",
   "name": "python",
   "nbconvert_exporter": "python",
   "pygments_lexer": "ipython3",
   "version": "3.9.12"
  }
 },
 "nbformat": 4,
 "nbformat_minor": 5
}
