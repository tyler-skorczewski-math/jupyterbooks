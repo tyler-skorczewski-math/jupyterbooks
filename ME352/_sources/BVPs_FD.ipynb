{
 "cells": [
  {
   "cell_type": "markdown",
   "id": "8039bbfc",
   "metadata": {},
   "source": [
    "# Lesson 19: Introduction to BVPs\n",
    "The goal of this lesson is to introduce/reintroduce some ideas about differential equations and boundary value problems and some python routines that can be used to analyze models with BVPs."
   ]
  },
  {
   "cell_type": "code",
   "execution_count": 1,
   "id": "8388440f",
   "metadata": {},
   "outputs": [],
   "source": [
    "import numpy as np\n",
    "import matplotlib.pyplot as plt\n",
    "from scipy.optimize import fsolve\n",
    "%matplotlib inline"
   ]
  },
  {
   "cell_type": "markdown",
   "id": "0d5b7756",
   "metadata": {},
   "source": [
    "### Example 1\n",
    "Consider the boundary value problem\n",
    "\n",
    "$$-u'' + \\pi^2 u = 2\\pi^2 \\sin(\\pi x), u(0)=u(1)=0.$$\n",
    "\n",
    "Since we have boundary conditions that specify the value of $u$ at the boundaries, we say they are Dirichlet boundary conditions. Note from the BVP theory we spoke about before Spring Break, this system has a unique solution.\n",
    "\n",
    "We can solve this problem numerically by discretizing the space between $x=0$ and $x=1$ and using numerical approximations of $u''$ at each point.\n",
    "Let's break up space into $n$ segments so $x_0 = 0$, $x_n = 1$, and $x_i = 0 + hi$.\n",
    "\n",
    "Then at an interior point $x_i$ (not 0 or $n$) we have that $u_i'' = \\frac{u_{i-1} -2 u_i + u_{i+1}}{h^2} + \\mathcal{O}(h^2)$.\n",
    "\n",
    "If we drop the error term in the derivative approximation, we can write our DE with the boundary conditions as the discrete system below.\n",
    "\n",
    "\\begin{align}\n",
    "u_0 & = 0 \\\\\n",
    "\\frac{-u_{i-1} +2 u_i - u_{i+1}}{h^2} + \\pi^2 u_i &= 2 \\pi^2 \\sin(\\pi x_i) \\\\\n",
    "u_n & = 0\\end{align} \n",
    "\n",
    "The equations associated with interior points can be rewritten as\n",
    "\n",
    "$$-u_{i-1} + (2+h^2\\pi^2) u_i - u_{i+1} = 2 h^2\\pi^2 \\sin(\\pi x_i).$$\n",
    "\n",
    "\n",
    "\n",
    "Then if we let $\\vec{u} = \\begin{bmatrix}u_0 \\\\ u_1 \\\\ ... \\\\ u_i \\\\ ... \\\\ u_n\\end{bmatrix}$, we can write this system in matrix vector form $A\\vec{u} = \\vec{b}$.\n",
    "\n",
    "$$ \\begin{bmatrix}1 & 0 & & & & & \\\\-1 & (2+h^2\\pi^2) & -1 & & & & \\\\ 0 & -1 & (2+h^2\\pi^2) & -1 & & & \\\\  &  .  & . & . & & & \\\\ & & & &-1 & (2+h^2\\pi^2) & -1 \\\\ & & & & & 0 & 1 \\end{bmatrix} \\begin{bmatrix}u_0 \\\\ u_1 \\\\ ... \\\\ u_i \\\\ ... \\\\ u_n\\end{bmatrix} = \\begin{bmatrix}0 \\\\ 2 h^2\\pi^2 \\sin(\\pi x_1) \\\\ ... \\\\ 2 h^2\\pi^2 \\sin(\\pi x_i) \\\\ ... \\\\ 0 \\end{bmatrix}\n",
    "$$"
   ]
  },
  {
   "cell_type": "code",
   "execution_count": 7,
   "id": "ed7202bd",
   "metadata": {},
   "outputs": [
    {
     "name": "stdout",
     "output_type": "stream",
     "text": [
      "[[0.00000000e+00 1.27182109e-03 2.41914747e-03 3.32967084e-03\n",
      "  3.91426283e-03 4.11569950e-03 3.91426283e-03 3.32967084e-03\n",
      "  2.41914747e-03 1.27182109e-03 1.22464680e-16]]\n",
      "0.004115699496889835\n"
     ]
    },
    {
     "data": {
      "image/png": "[encoded data removed]",
      "text/plain": [
       "<Figure size 432x288 with 1 Axes>"
      ]
     },
     "metadata": {
      "needs_background": "light"
     },
     "output_type": "display_data"
    }
   ],
   "source": [
    "n = 10 #number of segments\n",
    "x = np.linspace(0,1,n+1) #n+1 equally spaced points between 0 and 1\n",
    "h = (1.-0.)/n #step size\n",
    "A = np.zeros((n+1,n+1))  #zero matrix with shape n+1 by n+1\n",
    "b = np.zeros((n+1,1)) #RHS vector\n",
    "\n",
    "#Boundary Conditions\n",
    "A[0,0] = 1.  #update first row\n",
    "b[0] = 0.\n",
    "\n",
    "A[n,n] = 1.  #update last row\n",
    "b[n] = 0.\n",
    "\n",
    "#interior points\n",
    "for i in range(1,n):\n",
    "    A[i,i-1] = -1.\n",
    "    A[i,i] = 2. + h**2*np.pi**2\n",
    "    A[i,i+1] = -1.\n",
    "    b[i] = 2.*h**2*np.pi**2*np.sin(np.pi*x[i])\n",
    "\n",
    "u = np.linalg.solve(A,b)\n",
    "\n",
    "#compare with exact\n",
    "uexact = np.sin(np.pi*x)\n",
    "errors = np.abs(uexact - u.T)\n",
    "print(errors)\n",
    "print(np.max(errors))\n",
    "\n",
    "plt.plot(x,u,'go',x,uexact,'r--');\n",
    "\n",
    "\n",
    "\n",
    "\n",
    "\n"
   ]
  },
  {
   "cell_type": "code",
   "execution_count": null,
   "id": "b39cb623",
   "metadata": {},
   "outputs": [],
   "source": []
  },
  {
   "cell_type": "markdown",
   "id": "da582b0e",
   "metadata": {},
   "source": [
    "## Example 2\n",
    "\n",
    "Consider the BVP \n",
    "\n",
    "$$ u'' + u = \\sin(3x),$$\n",
    "\n",
    "with boundary conditions $u(0) + u'(0)= -1$, and $u'(\\pi/2) = 1$.\n",
    "The BC at $x=0$ is called a Robin boundary condition and the BC at $x=\\pi/2$ is a Neumann boundary condition.\n",
    "\n",
    "We can discretize similarly to above for interior points, but note that at $x=0$ we could use $u(0) + u'(0)= -1 = u_0 + \\frac{u_0 - u_1}{h} + \\mathcal{O}(h) = 1 $. This isn't good however because we have a second order approximation for the $u''$ terms in the interior and only a first order approximation on the boundary. We should use a second order approximation, e.g. $\\displaystyle u(0) + u'(0)= -1 = u_0 + \\frac{-3u_0 + 4u_1 - u_2}{2h} + \\mathcal{O}(h^2) = -1 $.  \n"
   ]
  },
  {
   "cell_type": "code",
   "execution_count": 10,
   "id": "53152750",
   "metadata": {},
   "outputs": [
    {
     "data": {
      "image/png": "[encoded data removed]",
      "text/plain": [
       "<Figure size 432x288 with 1 Axes>"
      ]
     },
     "metadata": {
      "needs_background": "light"
     },
     "output_type": "display_data"
    }
   ],
   "source": [
    "n = 10\n",
    "x = np.linspace(0,np.pi/2.,n+1)\n",
    "h = np.pi/2 / n\n",
    "\n",
    "A = np.zeros((n+1,n+1))\n",
    "b = np.zeros((n+1,1))\n",
    "\n",
    "#BCs\n",
    "A[0,0] = 1.-3./(2.*h)\n",
    "A[0,1] = 4./(2.*h)\n",
    "A[0,2] = -1./(2.*h)\n",
    "b[0] = -1\n",
    "A[n,n-2] = -1./(2.*-1.*h)\n",
    "A[n,n-1] = 4./(2.*-1.*h)\n",
    "A[n,n] = -3./(2.*-1.*h)\n",
    "b[n] = 1.\n",
    "\n",
    "#interior points\n",
    "for i in range(1,n):\n",
    "    A[i,i-1] = 1./(h**2)\n",
    "    A[i,i] = 1. - 2./(h**2)\n",
    "    A[i,i+1] = 1./(h**2)\n",
    "    b[i] = np.sin(3.*x[i])\n",
    "    \n",
    "u = np.linalg.solve(A,b)\n",
    "\n",
    "plt.plot(x,u,'m^');\n"
   ]
  },
  {
   "cell_type": "markdown",
   "id": "fc1252bd",
   "metadata": {},
   "source": [
    "Consider the Pixar short \"For the birds.\"\n",
    "\n",
    "```{image} ./forthebirds.png\n",
    ":alt: For the birds \n",
    ":width: 300px\n",
    ":align: center\n",
    "```\n",
    "In the video the birds land on a telephone wire and the wire sags. \n",
    "Note that while this video in animated, Pixar doesn't 'draw' a sagging wire, they model the physics of the system and let the computer calculate where the wire should be using solutions to boundary value problems. In this lab we'll look at a couple example cases of the types of calculations modeling this situation.\n",
    "\n",
    "Let's modify this situation a bit and consider that instead of a flexible wire under tension, we have a beam (say of wood or steel) that obeys the [Euler-Bernoulli beam theory](https://en.wikipedia.org/wiki/Euler%E2%80%93Bernoulli_beam_theory) equations. \n",
    "\n",
    "Let's assume the beam is suspended between supports 10 meters high and 10 meters apart, there are no external weights on the beam, and that $f(x)/EI = -.01$ along the beam."
   ]
  },
  {
   "cell_type": "markdown",
   "id": "30534d9e",
   "metadata": {},
   "source": [
    "### $EI \\frac{d^4y}{dx^4} = f(x)$\n",
    "\n",
    "Let $y^{(4)}(x) = f(x)/EI$. Then if we use a second order center difference scheme for $y^{(4)}(x_i)$ we have\n",
    "\n",
    "$$\\frac{y_{i-2} - 4y_{i-1} + 6y_i - 4y_{i+1} + y_{i+2} }{h^4} = \\frac{f(x_i)}{EI}. $$"
   ]
  },
  {
   "cell_type": "code",
   "execution_count": 14,
   "id": "a44152c8",
   "metadata": {},
   "outputs": [
    {
     "data": {
      "image/png": "[encoded data removed]",
      "text/plain": [
       "<Figure size 432x288 with 1 Axes>"
      ]
     },
     "metadata": {
      "needs_background": "light"
     },
     "output_type": "display_data"
    }
   ],
   "source": [
    "L = 10.  #10 meter bridge\n",
    "n = 200  #each segment .05 meter\n",
    "h = L/n\n",
    "x = np.linspace(0,L,n+1)\n",
    "\n",
    "A = np.zeros((n+1,n+1))\n",
    "b = np.ones(n+1)\n",
    "\n",
    "A[0,0] = 1. #Left BC\n",
    "A[n,n] = 1. #Right BC\n",
    "A[1,0:3] = np.array([-3.,4.,-1])/(2*h)\n",
    "A[n-1,n-2:n+1] = np.array([-1,4.,-3])/(2.*h)\n",
    "#A[1,1:7] = np.array([3.,-14.,26.,-24.,11.,-2.])/(h*h*h*h)\n",
    "#A[n-1,n-6:n] = np.array([-2.,11.,-24.,26,-14.,3.])/(h*h*h*h)\n",
    "for i in range(2,n-1):\n",
    "    A[i,i-2] = 1./(h*h*h*h)\n",
    "    A[i,i-1] = -4./(h*h*h*h)\n",
    "    A[i,i] = 6./(h*h*h*h)\n",
    "    A[i,i+1] = -4./(h*h*h*h)\n",
    "    A[i,i+2] = 1./(h*h*h*h)\n",
    "\n",
    "#no cars on bridge\n",
    "b = -0.01*np.ones(n+1)\n",
    "b[5:105] = -0.1*np.ones(100) #one car on left side\n",
    "b[0] = 10.\n",
    "b[n] = 10. #BC\n",
    "b[1] = 0.\n",
    "b[n-1] = 0.\n",
    "\n",
    "y_nb = np.linalg.solve(A,b);\n",
    "plt.plot(x,y_nb,'k');"
   ]
  },
  {
   "cell_type": "code",
   "execution_count": null,
   "id": "ff3d86ce",
   "metadata": {},
   "outputs": [],
   "source": []
  }
 ],
 "metadata": {
  "kernelspec": {
   "display_name": "Python 3 (ipykernel)",
   "language": "python",
   "name": "python3"
  },
  "language_info": {
   "codemirror_mode": {
    "name": "ipython",
    "version": 3
   },
   "file_extension": ".py",
   "mimetype": "text/x-python",
   "name": "python",
   "nbconvert_exporter": "python",
   "pygments_lexer": "ipython3",
   "version": "3.9.12"
  }
 },
 "nbformat": 4,
 "nbformat_minor": 5
}
