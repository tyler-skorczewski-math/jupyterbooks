{
 "cells": [
  {
   "cell_type": "markdown",
   "id": "1ad5421d",
   "metadata": {},
   "source": [
    "# Linear Algebra basics with python\n",
    "The goal of this lesson is to get introduce and get aquainted with some basic structures like vectors, matrices, and routine linear algebra functions in python."
   ]
  },
  {
   "cell_type": "code",
   "execution_count": 12,
   "id": "a625b4b4",
   "metadata": {},
   "outputs": [],
   "source": [
    "import numpy as np\n",
    "import matplotlib.pyplot as plt\n",
    "%matplotlib inline"
   ]
  },
  {
   "cell_type": "markdown",
   "id": "499d7490",
   "metadata": {},
   "source": [
    "### building matrices and vectors with numpy\n",
    "We use numpy arrays to make both matrices and vectors in python. A matrix is an array of arrays, where each row of the matrix is an array. A row vector is just a numpy array and a column vector is an array of 1-element arrays, just like an $n\\times 1$ matrix.\n",
    "\n",
    "Let's make the objects below.\n",
    "\n",
    "$$A = \\begin{bmatrix} 3 & 4 & 5 \\\\ 2&3&5 \\\\ 3&6&9 \\end{bmatrix}$$\n",
    "\n",
    "$$\\vec{u} = \\begin{bmatrix} 1& 2 &3 \\end{bmatrix}$$\n",
    "\n",
    "$$\\vec{v} = \\begin{bmatrix} 10 \\\\ 20 \\\\ 30 \\end{bmatrix}$$"
   ]
  },
  {
   "cell_type": "code",
   "execution_count": 19,
   "id": "717de357",
   "metadata": {},
   "outputs": [],
   "source": [
    "A = np.array([ [3, 4,5],\n",
    "             [2, 3, 5],\n",
    "             [3, 6, 9]])\n",
    "u = np.array([[1,2,3]])\n",
    "v = np.array([[10],\n",
    "             [20],\n",
    "             [30]])"
   ]
  },
  {
   "cell_type": "code",
   "execution_count": 14,
   "id": "3f65aa59",
   "metadata": {},
   "outputs": [
    {
     "name": "stdout",
     "output_type": "stream",
     "text": [
      "[[3 4 5]\n",
      " [2 3 5]\n",
      " [3 6 9]]\n"
     ]
    }
   ],
   "source": [
    "print(A)"
   ]
  },
  {
   "cell_type": "code",
   "execution_count": 20,
   "id": "40beb4fa",
   "metadata": {},
   "outputs": [
    {
     "name": "stdout",
     "output_type": "stream",
     "text": [
      "[[1]\n",
      " [2]\n",
      " [3]]\n"
     ]
    }
   ],
   "source": [
    "print(u.transpose())"
   ]
  },
  {
   "cell_type": "code",
   "execution_count": 22,
   "id": "4a6166d7",
   "metadata": {},
   "outputs": [
    {
     "name": "stdout",
     "output_type": "stream",
     "text": [
      "[[10 20 30]]\n",
      "[[10]\n",
      " [20]\n",
      " [30]]\n"
     ]
    }
   ],
   "source": [
    "print(v.transpose())\n",
    "\n",
    "newv = np.array([[10, 20, 30]]).transpose()\n",
    "\n",
    "print(newv)"
   ]
  },
  {
   "cell_type": "code",
   "execution_count": 24,
   "id": "06b374a3",
   "metadata": {},
   "outputs": [
    {
     "name": "stdout",
     "output_type": "stream",
     "text": [
      "-6.0000\n",
      "[[ 0.5         1.         -0.83333333]\n",
      " [ 0.5        -2.          0.83333333]\n",
      " [-0.5         1.         -0.16666667]]\n"
     ]
    }
   ],
   "source": [
    "print(f\"{np.linalg.det(A):4.4f}\")\n",
    "\n",
    "#det not equal to zero means the inverse exists\n",
    "\n",
    "Ainv = np.linalg.inv(A)\n",
    "\n",
    "print(Ainv)\n",
    "\n"
   ]
  },
  {
   "attachments": {
    "kirchoff2.png": {
     "image/png": "[encoded data removed]"
    }
   },
   "cell_type": "markdown",
   "id": "23cdf1bc",
   "metadata": {},
   "source": [
    "### Kirchoff's Laws\n",
    "\n",
    "![kirchoff2.png](attachment:kirchoff2.png)\n",
    "The multiloop circuit shown above has two junctions and three branches carrying currents, $I_1, I_2, I_3$. Kirchoff's Voltage Law says that the sum of the voltage drops around any loop must be zero. The voltage drop across a resistor is given by Ohm's Law ($V=IR$) where $I$ is the current and $R$ is the resistance. Kirchoff's Current Law says that the sum of the currents at any junction must be zero (direction is important).\n",
    "\n",
    "Explain why the system below for the currents follows from Kirchoff's Laws.\n",
    "\n",
    "\\begin{align}\n",
    "I_1 - I_2 + I_3 &= 0 \\\\\n",
    "-I_1 + I_2 - I_3 &= 0 \\\\\n",
    "4I_1 + 2I_2 + 3I_1 &= 5 \\\\\n",
    "6I_3 + 2I_2 &=10 \\\\\n",
    "6I_3 - 4I_1 - 3I_1 &=-5 + 10\n",
    "\\end{align}\n",
    "\n",
    "Which equations above represent redundant information? Why?\n",
    "\n",
    "Represent this system with matrix and vector objects in python.\n",
    "\n",
    "\\begin{align}\n",
    "I_1 - I_2 + I_3 &= 0 \\\\\n",
    "4I_1 + 2I_2 + 3I_1 &= 5 \\\\\n",
    "6I_3 + 2I_2 &=10 \\\\\n",
    "\\end{align}\n",
    "\n",
    "$$\\begin{bmatrix}1 & -1 & 1 \\\\\n",
    "7 & 2 & 0 \\\\\n",
    "0 & 2 & 6 \\end{bmatrix} \\begin{bmatrix} I_1 \\\\ I_2 \\\\I_3 \\end{bmatrix} = \\begin{bmatrix}0 \\\\5\\\\10\\end{bmatrix} $$"
   ]
  },
  {
   "cell_type": "code",
   "execution_count": 25,
   "id": "2dd9a57a",
   "metadata": {},
   "outputs": [],
   "source": [
    "#write as Ax = b. \n",
    "#need matrix for A and vector for b\n",
    "\n",
    "A = np.array([[1, -1, 1],\n",
    "             [7,2,0],\n",
    "             [0,2,6]])\n",
    "b = np.array([[0,5,10]]).transpose()"
   ]
  },
  {
   "cell_type": "code",
   "execution_count": 26,
   "id": "8f3c6106",
   "metadata": {},
   "outputs": [
    {
     "name": "stdout",
     "output_type": "stream",
     "text": [
      "[[ 1 -1  1]\n",
      " [ 7  2  0]\n",
      " [ 0  2  6]]\n",
      "[[ 0]\n",
      " [ 5]\n",
      " [10]]\n",
      "(3, 3)\n",
      "(3, 1)\n"
     ]
    }
   ],
   "source": [
    "print(A)\n",
    "print(b)\n",
    "print(A.shape)\n",
    "print(b.shape)"
   ]
  },
  {
   "cell_type": "code",
   "execution_count": 27,
   "id": "cb6eee9a",
   "metadata": {},
   "outputs": [
    {
     "name": "stdout",
     "output_type": "stream",
     "text": [
      "[[0.29411765]\n",
      " [1.47058824]\n",
      " [1.17647059]]\n"
     ]
    }
   ],
   "source": [
    "x = np.linalg.solve(A,b)\n",
    "print(x)"
   ]
  },
  {
   "cell_type": "markdown",
   "id": "9e7cfd6e",
   "metadata": {},
   "source": [
    "### Dot and cross products\n",
    "\n",
    "Calculate the dot and cross products, and find the angle between the vectors below.\n",
    "\n",
    "$$\\vec{a} = \\begin{bmatrix} 4 \\\\ 2 \\\\ 1\\end{bmatrix}, \\hspace{1cm} \\vec{b} = \\begin{bmatrix} 1 \\\\ 1 \\\\ 1\\end{bmatrix} $$"
   ]
  },
  {
   "cell_type": "code",
   "execution_count": 30,
   "id": "69083bbd",
   "metadata": {},
   "outputs": [
    {
     "name": "stdout",
     "output_type": "stream",
     "text": [
      "[[4]\n",
      " [2]\n",
      " [1]]\n",
      "[[1]\n",
      " [1]\n",
      " [1]]\n"
     ]
    }
   ],
   "source": [
    "a = np.array([[4,2,1]]).T #note .T and .transpose both compute a transpose and convert a row vector to a column vector\n",
    "b = np.array([[1,1,1]]).transpose()\n",
    "\n",
    "print(a)\n",
    "print(b)"
   ]
  },
  {
   "cell_type": "code",
   "execution_count": 32,
   "id": "87fd789e",
   "metadata": {},
   "outputs": [
    {
     "data": {
      "text/plain": [
       "array([[7]])"
      ]
     },
     "execution_count": 32,
     "metadata": {},
     "output_type": "execute_result"
    }
   ],
   "source": [
    "np.dot(a.T,b)"
   ]
  },
  {
   "cell_type": "code",
   "execution_count": 35,
   "id": "c0d231ff",
   "metadata": {},
   "outputs": [
    {
     "data": {
      "text/plain": [
       "array([[ 1],\n",
       "       [-3],\n",
       "       [ 2]])"
      ]
     },
     "execution_count": 35,
     "metadata": {},
     "output_type": "execute_result"
    }
   ],
   "source": [
    "np.cross(a.T,b.T).T"
   ]
  },
  {
   "cell_type": "code",
   "execution_count": null,
   "id": "056cbf5d",
   "metadata": {},
   "outputs": [],
   "source": []
  }
 ],
 "metadata": {
  "kernelspec": {
   "display_name": "Python 3 (ipykernel)",
   "language": "python",
   "name": "python3"
  },
  "language_info": {
   "codemirror_mode": {
    "name": "ipython",
    "version": 3
   },
   "file_extension": ".py",
   "mimetype": "text/x-python",
   "name": "python",
   "nbconvert_exporter": "python",
   "pygments_lexer": "ipython3",
   "version": "3.9.12"
  }
 },
 "nbformat": 4,
 "nbformat_minor": 5
}
