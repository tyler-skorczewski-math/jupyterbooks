{
 "cells": [
  {
   "cell_type": "markdown",
   "id": "0af259f0",
   "metadata": {},
   "source": [
    "# Lesson 2: Functions and Variables\n",
    "January 25, 2023"
   ]
  },
  {
   "cell_type": "code",
   "execution_count": 2,
   "id": "c1fce91c",
   "metadata": {},
   "outputs": [],
   "source": [
    "import numpy as np"
   ]
  },
  {
   "cell_type": "code",
   "execution_count": 6,
   "id": "2b3881ae",
   "metadata": {},
   "outputs": [
    {
     "name": "stdout",
     "output_type": "stream",
     "text": [
      "3.1622776601683795\n",
      "3.141592653589793\n"
     ]
    }
   ],
   "source": [
    "print(np.sqrt(10.))\n",
    "print(np.pi)"
   ]
  },
  {
   "cell_type": "code",
   "execution_count": 7,
   "id": "a8701878",
   "metadata": {},
   "outputs": [
    {
     "ename": "NameError",
     "evalue": "name 'sqrt' is not defined",
     "output_type": "error",
     "traceback": [
      "\u001b[1;31m---------------------------------------------------------------------------\u001b[0m",
      "\u001b[1;31mNameError\u001b[0m                                 Traceback (most recent call last)",
      "Input \u001b[1;32mIn [7]\u001b[0m, in \u001b[0;36m<cell line: 1>\u001b[1;34m()\u001b[0m\n\u001b[1;32m----> 1\u001b[0m \u001b[43msqrt\u001b[49m(\u001b[38;5;241m10.\u001b[39m)\n",
      "\u001b[1;31mNameError\u001b[0m: name 'sqrt' is not defined"
     ]
    }
   ],
   "source": [
    "sqrt(10.)"
   ]
  },
  {
   "cell_type": "code",
   "execution_count": 8,
   "id": "4be9daa4",
   "metadata": {},
   "outputs": [
    {
     "ename": "NameError",
     "evalue": "name 'prinf' is not defined",
     "output_type": "error",
     "traceback": [
      "\u001b[1;31m---------------------------------------------------------------------------\u001b[0m",
      "\u001b[1;31mNameError\u001b[0m                                 Traceback (most recent call last)",
      "Input \u001b[1;32mIn [8]\u001b[0m, in \u001b[0;36m<cell line: 1>\u001b[1;34m()\u001b[0m\n\u001b[1;32m----> 1\u001b[0m \u001b[43mprinf\u001b[49m(np\u001b[38;5;241m.\u001b[39mpi)\n",
      "\u001b[1;31mNameError\u001b[0m: name 'prinf' is not defined"
     ]
    }
   ],
   "source": [
    "prinf(np.pi)"
   ]
  },
  {
   "cell_type": "code",
   "execution_count": 36,
   "id": "2a20305d",
   "metadata": {},
   "outputs": [
    {
     "name": "stdout",
     "output_type": "stream",
     "text": [
      "28.0\n"
     ]
    }
   ],
   "source": [
    "x = 5.0\n",
    "print(z)"
   ]
  },
  {
   "cell_type": "code",
   "execution_count": 26,
   "id": "794ee879",
   "metadata": {},
   "outputs": [],
   "source": [
    "x = 4.0\n",
    "\n",
    "y = 7\n",
    "\n",
    "z =x*y"
   ]
  },
  {
   "cell_type": "code",
   "execution_count": 21,
   "id": "56f2dae7",
   "metadata": {},
   "outputs": [
    {
     "name": "stdout",
     "output_type": "stream",
     "text": [
      "<class 'float'> <class 'int'> <class 'float'>\n"
     ]
    }
   ],
   "source": [
    "print(type(x),type(y),type(z))"
   ]
  },
  {
   "cell_type": "code",
   "execution_count": 22,
   "id": "79c430ed",
   "metadata": {},
   "outputs": [
    {
     "name": "stdout",
     "output_type": "stream",
     "text": [
      "28.0\n"
     ]
    }
   ],
   "source": [
    "print(z)"
   ]
  },
  {
   "cell_type": "code",
   "execution_count": 23,
   "id": "366428d4",
   "metadata": {},
   "outputs": [],
   "source": [
    "x = 6"
   ]
  },
  {
   "cell_type": "code",
   "execution_count": 24,
   "id": "b3e45a5b",
   "metadata": {},
   "outputs": [
    {
     "name": "stdout",
     "output_type": "stream",
     "text": [
      "28.0\n"
     ]
    }
   ],
   "source": [
    "print(z)"
   ]
  },
  {
   "cell_type": "code",
   "execution_count": 27,
   "id": "486020d9",
   "metadata": {},
   "outputs": [],
   "source": [
    "s = \"hello\""
   ]
  },
  {
   "cell_type": "code",
   "execution_count": 28,
   "id": "66407ceb",
   "metadata": {},
   "outputs": [
    {
     "data": {
      "text/plain": [
       "str"
      ]
     },
     "execution_count": 28,
     "metadata": {},
     "output_type": "execute_result"
    }
   ],
   "source": [
    "type(s)"
   ]
  },
  {
   "cell_type": "code",
   "execution_count": 29,
   "id": "8e6b1c53",
   "metadata": {},
   "outputs": [
    {
     "name": "stdout",
     "output_type": "stream",
     "text": [
      "<class 'bool'>\n"
     ]
    }
   ],
   "source": [
    "b = True\n",
    "print(type(b))"
   ]
  },
  {
   "cell_type": "markdown",
   "id": "bc7b3ecd",
   "metadata": {},
   "source": [
    "### variable names\n",
    "- be specific, descriptive with names\n",
    "- short names are better than long names\n",
    "- if you need multiple words use underscore between (or change case)\n",
    "- no spaces\n",
    "- punctuation\n",
    "- don't use keywords like print, str, int\n",
    "- first letter can't be a number\n",
    "- guidelines tend to be lowercase first letter"
   ]
  },
  {
   "cell_type": "code",
   "execution_count": 31,
   "id": "b21aefe9",
   "metadata": {},
   "outputs": [],
   "source": [
    "form_drag = 5.\n",
    "friction_drag = 6."
   ]
  },
  {
   "cell_type": "code",
   "execution_count": 32,
   "id": "9d04cf68",
   "metadata": {},
   "outputs": [],
   "source": [
    "s = 6"
   ]
  },
  {
   "cell_type": "code",
   "execution_count": 33,
   "id": "696119c6",
   "metadata": {},
   "outputs": [
    {
     "data": {
      "text/plain": [
       "3.1622776601683795"
      ]
     },
     "execution_count": 33,
     "metadata": {},
     "output_type": "execute_result"
    }
   ],
   "source": [
    "np.sqrt(10)"
   ]
  },
  {
   "cell_type": "code",
   "execution_count": 35,
   "id": "8153051b",
   "metadata": {},
   "outputs": [],
   "source": [
    "y = np.sqrt(10.)"
   ]
  },
  {
   "cell_type": "markdown",
   "id": "5acc21d0",
   "metadata": {},
   "source": [
    "### Let's make a function\n",
    "This function is called myfunction1 and takes in a real number (float) and returns 27 times the input squared.\n",
    "\n",
    "$f(x) = 27x^2$"
   ]
  },
  {
   "cell_type": "code",
   "execution_count": 37,
   "id": "987a3952",
   "metadata": {},
   "outputs": [],
   "source": [
    "def myfunction1(x):\n",
    "    output = 27.*x*x\n",
    "    return(output)"
   ]
  },
  {
   "cell_type": "code",
   "execution_count": 38,
   "id": "3209e016",
   "metadata": {},
   "outputs": [
    {
     "data": {
      "text/plain": [
       "0.0"
      ]
     },
     "execution_count": 38,
     "metadata": {},
     "output_type": "execute_result"
    }
   ],
   "source": [
    "myfunction1(0.)"
   ]
  },
  {
   "cell_type": "code",
   "execution_count": 41,
   "id": "a282cdb8",
   "metadata": {},
   "outputs": [],
   "source": [
    "def myfunction2(x):\n",
    "    output = 27.*x**2\n",
    "    return(output)"
   ]
  },
  {
   "cell_type": "code",
   "execution_count": 44,
   "id": "fada53f3",
   "metadata": {},
   "outputs": [
    {
     "data": {
      "text/plain": [
       "108.0"
      ]
     },
     "execution_count": 44,
     "metadata": {},
     "output_type": "execute_result"
    }
   ],
   "source": [
    "myfunction2(2.)"
   ]
  },
  {
   "cell_type": "markdown",
   "id": "de2d7094",
   "metadata": {},
   "source": [
    "### Example function with 2 inputs\n",
    "\n",
    "Area of a triangle: $A = \\frac{1}{2}base \\times height$"
   ]
  },
  {
   "cell_type": "code",
   "execution_count": 49,
   "id": "3b0e1097",
   "metadata": {},
   "outputs": [
    {
     "name": "stdout",
     "output_type": "stream",
     "text": [
      "4.0\n",
      "The area of a triangle with base =  2  and height =  4.0  is  4.0 .\n"
     ]
    }
   ],
   "source": [
    "def getarea(base,height):\n",
    "    #This is a comment that doesn't get evaluated\n",
    "    #calculates area of a triangle with base and height inputs\n",
    "    area = 0.5*base*height\n",
    "    return(area)\n",
    "\n",
    "print(getarea(2,4))\n",
    "base = 2\n",
    "height = 4.\n",
    "print(\"The area of a triangle with base = \",base,\" and height = \",height, \" is \",getarea(base,height),\".\")"
   ]
  },
  {
   "cell_type": "code",
   "execution_count": 47,
   "id": "d5949cdf",
   "metadata": {},
   "outputs": [
    {
     "name": "stdout",
     "output_type": "stream",
     "text": [
      "Variable        Type        Data/Info\n",
      "-------------------------------------\n",
      "b               bool        True\n",
      "drag            float       5.0\n",
      "form_drag       float       5.0\n",
      "friction_drag   float       6.0\n",
      "getarea         function    <function getarea at 0x0000020D080EEEE0>\n",
      "myfunction1     function    <function myfunction1 at 0x0000020D080EEF70>\n",
      "myfunction2     function    <function myfunction2 at 0x0000020D080F9A60>\n",
      "np              module      <module 'numpy' from 'C:\\<...>ges\\\\numpy\\\\__init__.py'>\n",
      "s               int         6\n",
      "x               float       5.0\n",
      "y               float64     3.1622776601683795\n",
      "z               float       28.0\n"
     ]
    }
   ],
   "source": [
    "%whos"
   ]
  },
  {
   "cell_type": "markdown",
   "id": "b3d719aa",
   "metadata": {},
   "source": [
    "### drag function\n",
    "$$ D = \\frac{1}{2} C_D \\rho A v^2 $$"
   ]
  },
  {
   "cell_type": "code",
   "execution_count": 50,
   "id": "cb086243",
   "metadata": {},
   "outputs": [],
   "source": [
    "def getdrag(A,v):\n",
    "    #get the drag for a ball with cross sectional area A and velocity v through air at constant temp\n",
    "    #\n",
    "    rho = 0.001\n",
    "    cD = 0.5\n",
    "    drag = 0.5*rho*cD*A*v**2\n",
    "    return(drag)\n"
   ]
  },
  {
   "cell_type": "code",
   "execution_count": 51,
   "id": "96c1181d",
   "metadata": {},
   "outputs": [
    {
     "data": {
      "text/plain": [
       "0.0028899999999999998"
      ]
     },
     "execution_count": 51,
     "metadata": {},
     "output_type": "execute_result"
    }
   ],
   "source": [
    "getdrag(1.,3.4)"
   ]
  },
  {
   "cell_type": "code",
   "execution_count": 52,
   "id": "5a421d07",
   "metadata": {},
   "outputs": [
    {
     "ename": "NameError",
     "evalue": "name 'rho' is not defined",
     "output_type": "error",
     "traceback": [
      "\u001b[1;31m---------------------------------------------------------------------------\u001b[0m",
      "\u001b[1;31mNameError\u001b[0m                                 Traceback (most recent call last)",
      "Input \u001b[1;32mIn [52]\u001b[0m, in \u001b[0;36m<cell line: 1>\u001b[1;34m()\u001b[0m\n\u001b[1;32m----> 1\u001b[0m \u001b[38;5;28mprint\u001b[39m(\u001b[43mrho\u001b[49m)\n",
      "\u001b[1;31mNameError\u001b[0m: name 'rho' is not defined"
     ]
    }
   ],
   "source": [
    "print(rho)"
   ]
  },
  {
   "cell_type": "markdown",
   "id": "07775542",
   "metadata": {},
   "source": []
  },
  {
   "cell_type": "code",
   "execution_count": 53,
   "id": "0c21f7fd",
   "metadata": {},
   "outputs": [
    {
     "name": "stdout",
     "output_type": "stream",
     "text": [
      "5.0\n"
     ]
    }
   ],
   "source": [
    "print(drag)"
   ]
  },
  {
   "cell_type": "markdown",
   "id": "35995bd2",
   "metadata": {},
   "source": [
    "# Examples\n",
    "\n",
    "- Calculate the area of an ellipse\n",
    "- Calculate the distance between two points in the plane\n",
    "- Calculate the surface area of a cylinder\n",
    "- Compute the slope of a line connecting two points in the plane"
   ]
  },
  {
   "cell_type": "code",
   "execution_count": 56,
   "id": "4a6b3a38",
   "metadata": {},
   "outputs": [],
   "source": [
    "def ellipse_function(a,b):\n",
    "    #gets the area of an ellipse with radii a and b using formula A = pi a b\n",
    "    area = np.pi*a*b\n",
    "    return(area)"
   ]
  },
  {
   "cell_type": "code",
   "execution_count": 57,
   "id": "5d60bd85",
   "metadata": {},
   "outputs": [
    {
     "data": {
      "text/plain": [
       "6.283185307179586"
      ]
     },
     "execution_count": 57,
     "metadata": {},
     "output_type": "execute_result"
    }
   ],
   "source": [
    "ellipse_function(1,2)"
   ]
  },
  {
   "cell_type": "code",
   "execution_count": 67,
   "id": "916b4c0c",
   "metadata": {},
   "outputs": [],
   "source": [
    "def getdistance(x1,y1,x2,y2):\n",
    "    #get the distance between two points in the plane with coordinates (x1,y1) and (x2,y2)\n",
    "    distance = np.sqrt((x2-x1)**2 + (y2-y1)**2)\n",
    "    return(distance)"
   ]
  },
  {
   "cell_type": "code",
   "execution_count": 61,
   "id": "da393c6b",
   "metadata": {},
   "outputs": [
    {
     "data": {
      "text/plain": [
       "1.0"
      ]
     },
     "execution_count": 61,
     "metadata": {},
     "output_type": "execute_result"
    }
   ],
   "source": [
    "getdistance(0,0,1,0)"
   ]
  },
  {
   "cell_type": "code",
   "execution_count": 68,
   "id": "70e924b9",
   "metadata": {},
   "outputs": [
    {
     "data": {
      "text/plain": [
       "1.0"
      ]
     },
     "execution_count": 68,
     "metadata": {},
     "output_type": "execute_result"
    }
   ],
   "source": [
    "def getdistance2(p1,p2):\n",
    "    #calculates the distance between points in the plane p1 and p2\n",
    "    #p1 and p2 are tuples with coordinates for each point p1 = (x1,y1) and p2 = (x2,y2)\n",
    "    x1, y1 = p1\n",
    "    x2, y2 = p2\n",
    "    distance = np.sqrt((x2-x1)**2 + (y2-y1)**2)\n",
    "    return(distance)\n",
    "\n",
    "getdistance2((0,0),(1,0))"
   ]
  },
  {
   "cell_type": "code",
   "execution_count": 65,
   "id": "952ed20b",
   "metadata": {},
   "outputs": [],
   "source": [
    "def surf_area_cyl(r,h):\n",
    "    # calculates the surface area of cylinder with radius r and height h\n",
    "    surf_area = 2*np.pi*r*h+2*np.pi*r**2\n",
    "    return(surf_area)"
   ]
  },
  {
   "cell_type": "code",
   "execution_count": 66,
   "id": "7a7242a8",
   "metadata": {},
   "outputs": [
    {
     "data": {
      "text/plain": [
       "12.566370614359172"
      ]
     },
     "execution_count": 66,
     "metadata": {},
     "output_type": "execute_result"
    }
   ],
   "source": [
    "surf_area_cyl(1,1)"
   ]
  },
  {
   "cell_type": "code",
   "execution_count": null,
   "id": "1967ad17",
   "metadata": {},
   "outputs": [],
   "source": []
  }
 ],
 "metadata": {
  "kernelspec": {
   "display_name": "Python 3 (ipykernel)",
   "language": "python",
   "name": "python3"
  },
  "language_info": {
   "codemirror_mode": {
    "name": "ipython",
    "version": 3
   },
   "file_extension": ".py",
   "mimetype": "text/x-python",
   "name": "python",
   "nbconvert_exporter": "python",
   "pygments_lexer": "ipython3",
   "version": "3.9.12"
  }
 },
 "nbformat": 4,
 "nbformat_minor": 5
}
