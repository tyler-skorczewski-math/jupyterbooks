{
 "cells": [
  {
   "cell_type": "markdown",
   "id": "8039bbfc",
   "metadata": {},
   "source": [
    "# Lesson 20: BVPs - shooting methods\n",
    "The goal of this lesson is to introduce/reintroduce some ideas about differential equations and boundary value problems and some python routines that can be used to analyze models with BVPs."
   ]
  },
  {
   "cell_type": "code",
   "execution_count": 5,
   "id": "8388440f",
   "metadata": {},
   "outputs": [],
   "source": [
    "import numpy as np\n",
    "import matplotlib.pyplot as plt\n",
    "from scipy.optimize import fsolve\n",
    "from scipy.integrate import solve_ivp\n",
    "%matplotlib inline"
   ]
  },
  {
   "cell_type": "markdown",
   "id": "0d5b7756",
   "metadata": {},
   "source": [
    "### Example 1\n",
    "Consider the boundary value problem\n",
    "\n",
    "$$-u'' + \\pi^2 u = 2\\pi^2 \\sin(\\pi x), u(0)=u(1)=0.$$\n",
    "\n",
    "Since we have boundary conditions that specify the value of $u$ at the boundaries, we say they are Dirichlet boundary conditions. Note from the BVP theory we spoke about before Spring Break, this system has a unique solution.\n",
    "\n",
    "We can solve this problem numerically by discretizing the space between $x=0$ and $x=1$ and using numerical approximations of $u''$ at each point.\n",
    "Let's break up space into $n$ segments so $x_0 = 0$, $x_n = 1$, and $x_i = 0 + hi$.\n",
    "\n",
    "Then at an interior point $x_i$ (not 0 or $n$) we have that $u_i'' = \\frac{u_{i-1} -2 u_i + u_{i+1}}{h^2} + \\mathcal{O}(h^2)$.\n",
    "\n",
    "If we drop the error term in the derivative approximation, we can write our DE with the boundary conditions as the discrete system below.\n",
    "\n",
    "\\begin{align*}\n",
    "u_0 & = 0 \\\\\n",
    "\\frac{-u_{i-1} +2 u_i - u_{i+1}}{h^2} + \\pi^2 u_i &= 2 \\pi^2 \\sin(\\pi x_i) \\\\\n",
    "u_n & = 0\\end{align*}\n",
    "\n",
    "The equations associated with interior points can be rewritten as\n",
    "\n",
    "$$-u_{i-1} + (2+h^2\\pi^2) u_i - u_{i+1} = 2 h^2\\pi^2 \\sin(\\pi x_i).$$\n",
    "\n",
    "\n",
    "\n",
    "Then if we let $\\vec{u} = \\begin{bmatrix}u_0 \\\\ u_1 \\\\ ... \\\\ u_i \\\\ ... \\\\ u_n\\end{bmatrix}$, we can write this system in matrix vector form $A\\vec{u} = \\vec{b}$.\n",
    "\n",
    "$$ \\begin{bmatrix}1 & 0 & & & & & \\\\-1 & (2+h^2\\pi^2) & -1 & & & & \\\\ 0 & -1 & (2+h^2\\pi^2) & -1 & & & \\\\  &  .  & . & . & & & \\\\ & & & &-1 & (2+h^2\\pi^2) & -1 \\\\ & & & & & 0 & 1 \\end{bmatrix} \\begin{bmatrix}u_0 \\\\ u_1 \\\\ ... \\\\ u_i \\\\ ... \\\\ u_n\\end{bmatrix} = \\begin{bmatrix}0 \\\\ 2 h^2\\pi^2 \\sin(\\pi x_1) \\\\ ... \\\\ 2 h^2\\pi^2 \\sin(\\pi x_i) \\\\ ... \\\\ 0 \\end{bmatrix}\n",
    "$$"
   ]
  },
  {
   "cell_type": "code",
   "execution_count": 3,
   "id": "ed7202bd",
   "metadata": {},
   "outputs": [
    {
     "name": "stdout",
     "output_type": "stream",
     "text": [
      "[[0.00000000e+00 1.27182109e-03 2.41914747e-03 3.32967084e-03\n",
      "  3.91426283e-03 4.11569950e-03 3.91426283e-03 3.32967084e-03\n",
      "  2.41914747e-03 1.27182109e-03 1.22464680e-16]]\n",
      "0.004115699496889835\n"
     ]
    },
    {
     "data": {
      "image/png": "[encoded data removed]",
      "text/plain": [
       "<Figure size 432x288 with 1 Axes>"
      ]
     },
     "metadata": {
      "needs_background": "light"
     },
     "output_type": "display_data"
    }
   ],
   "source": [
    "n = 10 #number of segments\n",
    "x = np.linspace(0,1,n+1) #n+1 equally spaced points between 0 and 1\n",
    "h = (1.-0.)/n #step size\n",
    "A = np.zeros((n+1,n+1))  #zero matrix with shape n+1 by n+1\n",
    "b = np.zeros((n+1,1)) #RHS vector\n",
    "\n",
    "#Boundary Conditions\n",
    "A[0,0] = 1.  #update first row\n",
    "b[0] = 0.\n",
    "\n",
    "A[n,n] = 1.  #update last row\n",
    "b[n] = 0.\n",
    "\n",
    "#interior points\n",
    "for i in range(1,n):\n",
    "    A[i,i-1] = -1.\n",
    "    A[i,i] = 2. + h**2*np.pi**2\n",
    "    A[i,i+1] = -1.\n",
    "    b[i] = 2.*h**2*np.pi**2*np.sin(np.pi*x[i])\n",
    "\n",
    "u = np.linalg.solve(A,b)\n",
    "\n",
    "#compare with exact\n",
    "uexact = np.sin(np.pi*x)\n",
    "errors = np.abs(uexact - u.T)\n",
    "print(errors)\n",
    "print(np.max(errors))\n",
    "\n",
    "plt.plot(x,u,'go',x,uexact,'r--');\n",
    "\n",
    "\n",
    "\n",
    "\n",
    "\n"
   ]
  },
  {
   "cell_type": "markdown",
   "id": "bd0ab26b",
   "metadata": {},
   "source": [
    "## Shooting method approach to above problem\n",
    "The finite difference approach to the above problem isn't the only way to solve it. We can also use a shooting approach where we replace the BVP with an IVP involving an unknown parameter. We then 'tune' that parameter using the second boundary condition.\n",
    "\n",
    "Replace the BVP\n",
    "\n",
    "$$-u'' + \\pi^2 u = 2\\pi^2 \\sin(\\pi x), u(0)=u(1)=0$$\n",
    "\n",
    "with the IVP\n",
    "\n",
    "$$-u'' + \\pi^2 u = 2\\pi^2 \\sin(\\pi x), u(0)=0, u'(0)=\\alpha.$$\n",
    "\n",
    "Now we need to find the right value of $\\alpha$ so that $u(1)=0$. We can use equation solving routines to help us with that. \n",
    "\n"
   ]
  },
  {
   "cell_type": "code",
   "execution_count": 11,
   "id": "65bc98e3",
   "metadata": {
    "scrolled": true
   },
   "outputs": [
    {
     "name": "stderr",
     "output_type": "stream",
     "text": [
      "C:\\Users\\skorczewskit\\Anaconda3\\lib\\site-packages\\scipy\\integrate\\_ivp\\base.py:6: VisibleDeprecationWarning: Creating an ndarray from ragged nested sequences (which is a list-or-tuple of lists-or-tuples-or ndarrays with different lengths or shapes) is deprecated. If you meant to do this, you must specify 'dtype=object' when creating the ndarray.\n",
      "  y0 = np.asarray(y0)\n",
      "C:\\Users\\skorczewskit\\Anaconda3\\lib\\site-packages\\numpy\\core\\shape_base.py:121: VisibleDeprecationWarning: Creating an ndarray from ragged nested sequences (which is a list-or-tuple of lists-or-tuples-or ndarrays with different lengths or shapes) is deprecated. If you meant to do this, you must specify 'dtype=object' when creating the ndarray.\n",
      "  ary = asanyarray(ary)\n"
     ]
    },
    {
     "data": {
      "image/png": "[encoded data removed]",
      "text/plain": [
       "<Figure size 432x288 with 1 Axes>"
      ]
     },
     "metadata": {
      "needs_background": "light"
     },
     "output_type": "display_data"
    }
   ],
   "source": [
    "def sysde(x,vec):\n",
    "    u,z = vec[0],vec[1]\n",
    "    dudx = z\n",
    "    dzdx = np.pi**2*u - 2.*np.pi**2*np.sin(np.pi*x)\n",
    "    return([dudx,dzdx])\n",
    "\n",
    "#need a function that takes in alpha and returns u(1)\n",
    "def getuone(alpha):\n",
    "    sol = solve_ivp(sysde,[0.,1.],[0.,alpha],dense_output=True)\n",
    "    uone = sol.sol(1)[0]\n",
    "    return(uone)  \n",
    "\n",
    "#use fsolve to find a root\n",
    "alpha_opt = fsolve(getuone,1.)\n",
    "\n",
    "#now solve ivp again using correct alpha\n",
    "sol = solve_ivp(sysde,[0.,1.],[0.,alpha_opt],dense_output=True)\n",
    "\n",
    "xs = np.linspace(0.,1.,101)\n",
    "us = sol.sol(xs)[0]\n",
    "\n",
    "uexact = np.sin(np.pi*xs)\n",
    "plt.plot(xs,us,'b.-',xs,uexact,'r:');"
   ]
  },
  {
   "cell_type": "markdown",
   "id": "4735dc0f",
   "metadata": {},
   "source": [
    "### Mortar example\n",
    "From Newton's Second Law we have the following system of equations that describe the motion of a mortar shell under the influence of gravity and air resistance:\n",
    "\n",
    "$$\\begin{bmatrix}x''\\\\y''\\end{bmatrix} = \\begin{bmatrix}0\\\\-g\\end{bmatrix} - \\alpha \\sqrt{x'^2 + y'^2} \\begin{bmatrix}x'\\\\y'\\end{bmatrix}.$$\n",
    "\n",
    "We can rewrite these two coupled second order differential equations as a coupled system of four first order equations:\n",
    "\n",
    "$$\\begin{bmatrix}x'\\\\y'\\\\xv'\\\\yv'\\end{bmatrix} = \\begin{bmatrix}xv\\\\yv\\\\-\\alpha \\sqrt{xv^2 + yv^2} xv \\\\-g -\\alpha \\sqrt{xv^2 + yv^2} yv\\end{bmatrix},$$\n",
    "\n",
    "where $xv,yv$ represent the velocities in the $x,y$ directions, respectively.\n",
    "\n",
    "Here we let $\\alpha = 0.001$ be a coefficient for drag that accounts for air denisty, shape, and mass. If we further assume the mortar launches at 100 m/s, the initial conditions that complete the initial value problem are \n",
    "\n",
    "$$\\begin{bmatrix}x\\\\y\\\\xv\\\\yv\\end{bmatrix}(0) = \\begin{bmatrix}0\\\\0\\\\100\\cos(\\theta)\\\\100\\sin(\\theta)\\end{bmatrix}.$$\n",
    "\n",
    "Our task is to find the launch angle, $\\theta$, that allows us to hit a target 500 meters away."
   ]
  },
  {
   "cell_type": "code",
   "execution_count": 29,
   "id": "f9bfafce",
   "metadata": {},
   "outputs": [
    {
     "name": "stdout",
     "output_type": "stream",
     "text": [
      "[48.19053225]\n"
     ]
    },
    {
     "name": "stderr",
     "output_type": "stream",
     "text": [
      "C:\\Users\\skorczewskit\\Anaconda3\\lib\\site-packages\\scipy\\integrate\\_ivp\\base.py:6: VisibleDeprecationWarning: Creating an ndarray from ragged nested sequences (which is a list-or-tuple of lists-or-tuples-or ndarrays with different lengths or shapes) is deprecated. If you meant to do this, you must specify 'dtype=object' when creating the ndarray.\n",
      "  y0 = np.asarray(y0)\n",
      "C:\\Users\\skorczewskit\\Anaconda3\\lib\\site-packages\\numpy\\core\\shape_base.py:121: VisibleDeprecationWarning: Creating an ndarray from ragged nested sequences (which is a list-or-tuple of lists-or-tuples-or ndarrays with different lengths or shapes) is deprecated. If you meant to do this, you must specify 'dtype=object' when creating the ndarray.\n",
      "  ary = asanyarray(ary)\n"
     ]
    },
    {
     "data": {
      "image/png": "[encoded data removed]",
      "text/plain": [
       "<Figure size 432x288 with 1 Axes>"
      ]
     },
     "metadata": {
      "needs_background": "light"
     },
     "output_type": "display_data"
    }
   ],
   "source": [
    "#mortar example\n",
    "def model(t,y):\n",
    "    g = -9.8\n",
    "    #y[0] = x\n",
    "    #y[1] = y\n",
    "    #y[2] = x'\n",
    "    #y[3] = y'\n",
    "    xp, yp, xv, yv = y[0],y[1],y[2],y[3]\n",
    "    dydt = np.array([xv, yv, -0.001*xv*np.sqrt(xv**2 + yv**2), g - 0.001*yv*np.sqrt(xv**2 + yv**2)])\n",
    "    return dydt\n",
    "\n",
    "#init conditions v=100 mph  theta=25 degrees\n",
    "def gety500(theta):  #function that takes in theta and returns y when x=142 m\n",
    "    sol = solve_ivp(model,[0.,20],[0.,0.,100*np.cos(theta),100.*np.sin(theta)],dense_output=True)\n",
    "    def func(t):\n",
    "        return(sol.sol(t)[0]-600)\n",
    "    tstar = fsolve(func,15)  # get time when x = 500\n",
    "    y500 = sol.sol(tstar)[1] #y value when x = 500\n",
    "    return(y500+25)\n",
    "\n",
    "theta_opt = fsolve(gety500,np.pi/4.) #solve for optimal theta to hit target\n",
    "\n",
    "sol = solve_ivp(model,[0.,20],[0.,0.,100*np.cos(theta_opt),100.*np.sin(theta_opt)],dense_output=True)\n",
    "\n",
    "ts = np.linspace(0,20,1001)\n",
    "xs = sol.sol(ts)[0]\n",
    "ys = sol.sol(ts)[1]\n",
    "\n",
    "plt.plot(xs,ys,'k');\n",
    "plt.xlabel('x');\n",
    "plt.ylabel('y');\n",
    "plt.ylim(-25,1.1*max(ys));\n",
    "\n",
    "print(theta_opt*180./np.pi)\n",
    "\n",
    "\n",
    "\n",
    "\n",
    "\n",
    "    "
   ]
  },
  {
   "cell_type": "code",
   "execution_count": 18,
   "id": "bd190c18",
   "metadata": {},
   "outputs": [
    {
     "data": {
      "text/plain": [
       "[<matplotlib.lines.Line2D at 0x1da8df3b190>]"
      ]
     },
     "execution_count": 18,
     "metadata": {},
     "output_type": "execute_result"
    },
    {
     "data": {
      "image/png": "[encoded data removed]",
      "text/plain": [
       "<Figure size 432x288 with 1 Axes>"
      ]
     },
     "metadata": {
      "needs_background": "light"
     },
     "output_type": "display_data"
    }
   ],
   "source": [
    "theta = np.pi/3.\n",
    "sol = solve_ivp(model,[0.,100],[0.,0.,100*np.cos(theta),100.*np.sin(theta)],dense_output=True)\n",
    "ts = np.linspace(0,20,1001)\n",
    "plt.plot(ts,sol.sol(ts)[1])\n",
    "\n",
    "theta = np.pi/4.\n",
    "sol = solve_ivp(model,[0.,100],[0.,0.,100*np.cos(theta),100.*np.sin(theta)],dense_output=True)\n",
    "ts = np.linspace(0,20,1001)\n",
    "plt.plot(ts,sol.sol(ts)[1],'r')"
   ]
  },
  {
   "cell_type": "code",
   "execution_count": null,
   "id": "8ece04d3",
   "metadata": {},
   "outputs": [],
   "source": []
  }
 ],
 "metadata": {
  "kernelspec": {
   "display_name": "Python 3 (ipykernel)",
   "language": "python",
   "name": "python3"
  },
  "language_info": {
   "codemirror_mode": {
    "name": "ipython",
    "version": 3
   },
   "file_extension": ".py",
   "mimetype": "text/x-python",
   "name": "python",
   "nbconvert_exporter": "python",
   "pygments_lexer": "ipython3",
   "version": "3.9.12"
  }
 },
 "nbformat": 4,
 "nbformat_minor": 5
}
