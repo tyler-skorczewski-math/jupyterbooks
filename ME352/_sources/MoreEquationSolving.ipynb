{
 "cells": [
  {
   "cell_type": "markdown",
   "id": "607c5c42",
   "metadata": {},
   "source": [
    "# More equation solving examples"
   ]
  },
  {
   "cell_type": "code",
   "execution_count": 1,
   "id": "9f427e60",
   "metadata": {},
   "outputs": [],
   "source": [
    "import numpy as np\n",
    "import matplotlib.pyplot as plt\n",
    "from scipy.optimize import fsolve\n",
    "%matplotlib inline"
   ]
  },
  {
   "cell_type": "markdown",
   "id": "69e47ace",
   "metadata": {},
   "source": [
    "### Lagrange multipliers\n",
    "In calc 3 you may have seen the method of Lagrange multipliers to solve constrained optimization problems in many variables. \n",
    "\n",
    "**Example** Consider making the box with the largest volume when you only have 64 square inches of material. What are the optimal box dimensions?\n",
    "\n",
    "Let $,x,y,z$ be the box dimensions in inches. Then we want to maximize $V = xyz$ subject to $2xy + 2xz + 2yz = 64$ or $g(x,y,z) = xy + xz + yz = 32$.\n",
    "\n",
    "If we let $\\lambda$ be a Lagrange multiplier then we need to solve\n",
    "$$\\nabla V = \\lambda \\nabla g,$$\n",
    "$$g(x,y,z) = 32.$$\n",
    "\n",
    "This yields the system of equations\n",
    "\n",
    "$$yz = \\lambda (y + z)$$\n",
    "$$xz = \\lambda (x + z)$$\n",
    "$$xy = \\lambda (x + y)$$\n",
    "$$xy + xz + yz = 32$$\n",
    "\n",
    "We could go through the algebra to solve these four equations in the four unknowns, but we can use python too."
   ]
  },
  {
   "cell_type": "code",
   "execution_count": 2,
   "id": "f3207aa0",
   "metadata": {},
   "outputs": [
    {
     "name": "stdout",
     "output_type": "stream",
     "text": [
      "[3.26598632 3.26598632 3.26598632 1.63299316]\n"
     ]
    }
   ],
   "source": [
    "def lag(vec):\n",
    "    x,y,z,lam = vec[0],vec[1],vec[2], vec[3]  #unpack vector\n",
    "    #output needs to be a four-vector too\n",
    "    output=np.array([\n",
    "        y*z - lam*(y+z),\n",
    "        x*z - lam*(x+z),\n",
    "        x*y - lam*(x+y),\n",
    "        x*y+x*z+y*z -32\n",
    "    ])\n",
    "    return(output)\n",
    "\n",
    "opt = fsolve(lag,[3.,3.,3.,3.])\n",
    "print(opt)"
   ]
  },
  {
   "cell_type": "markdown",
   "id": "6d3f91cd",
   "metadata": {},
   "source": [
    "### Example\n",
    "Set up and solve the following system of equations.\n",
    "$$0 = 3x(5-x) - xy$$\n",
    "$$0 = 2y(10-y) - 3xy$$"
   ]
  },
  {
   "cell_type": "code",
   "execution_count": 6,
   "id": "c6764436",
   "metadata": {},
   "outputs": [
    {
     "name": "stdout",
     "output_type": "stream",
     "text": [
      "[3.33333333 5.        ]\n"
     ]
    }
   ],
   "source": [
    "def sys(vec):\n",
    "    x,y = vec[0],vec[1] #unpack vector input\n",
    "    output = np.array([\n",
    "        3*x*(5-x) - x*y,\n",
    "        2*y*(10.-y) - 3.*x*y\n",
    "    ])\n",
    "    return(output)\n",
    "\n",
    "sol = fsolve(sys,[4,4.])\n",
    "\n",
    "print(sol)"
   ]
  },
  {
   "cell_type": "markdown",
   "id": "ca91c1cc",
   "metadata": {},
   "source": [
    "### Equations of State\n",
    "Many equations of state in chemistry and physics have been developed to describe the relationship between the pressure, volume, and temperature of gases. One such equation is the Beattie-Bridgeman equation,\n",
    "$$P = \\frac{RT}{V} + \\frac{\\beta}{V^2} + \\frac{\\gamma}{V^3} + \\frac{\\delta}{V^4},$$\n",
    "where $P$ is pressure, $V$ is molar volume, $T$ is temperature, $R$ is the ideal gas constant.\n",
    "The second, third, and fourth terms in the equation above may be viewed as corrections to the ideal gas law $\\displaystyle PV = RT$. The parameters $\\beta, \\gamma,$ and $\\delta$ are defined as\n",
    "$$\\beta = RTB_0 - A_0 - \\frac{Rc}{T^2},$$\n",
    "$$\\gamma = -RT B_0 b + A_0 a - \\frac{RcB_0}{T^2},$$\n",
    "$$\\delta = \\frac{RB_0bc}{T^2}.$$\n",
    "$A_0,B_0,a,b,$ and $c$ are constants that vary from gas to gas. In this exercise we will find the volumes that correspond to certain pressures and temperature for methane. \n",
    "\n",
    "Complete the tasks below.\n",
    "- Write a code cell that uses fsolve to solve the Beattie-Bridgeman equation for volume given the pressure and temperature. The values of the constants are $$A_0=2.2769, B_0=0.05587, a=0.01855, b=0.01587, c=12.83\\times10^4, R = 8.2057366\\times10^{-5}.$$\n",
    "- For temperature of 200 degrees, calculate the volumes for pressures from 1 to 200 atm. (Note you can make an array of pressures and loop over this array.\n",
    "- Make a plot of volumes versus pressures. Make sure to label your axes."
   ]
  },
  {
   "cell_type": "code",
   "execution_count": 14,
   "id": "e36553f4",
   "metadata": {},
   "outputs": [
    {
     "data": {
      "image/png": "[encoded data removed]",
      "text/plain": [
       "<Figure size 432x288 with 1 Axes>"
      ]
     },
     "metadata": {
      "needs_background": "light"
     },
     "output_type": "display_data"
    }
   ],
   "source": [
    "R = 8.2057366E-5\n",
    "A=2.2769\n",
    "B=0.05587\n",
    "a=0.01855\n",
    "b=0.01587\n",
    "c=12.83E4\n",
    "\n",
    "def BB(V,P,T):\n",
    "    #YOUR CODE\n",
    "    beta = R*T*B-A-R*c/T**2\n",
    "    gamma = -R*T*B*b + A*a -R*c*B/T**2\n",
    "    delta = R*B*b*c/T**2\n",
    "    \n",
    "    output = P- R*T/V - beta/V**2 - gamma/V**3 - delta/V**4\n",
    "    return(output)\n",
    "\n",
    "    \n",
    "\n",
    "T = 200\n",
    "PS = np.linspace(1,200,1001)\n",
    "vol = np.copy(PS)\n",
    "\n",
    "for i in range(0,len(PS)):\n",
    "    P = PS[i]\n",
    "    Vinit = R*T/P\n",
    "    vol[i] = fsolve(BB,Vinit,args=(P,T))\n",
    "\n",
    "plt.plot(PS,vol,'r.');\n",
    "plt.xlabel('pressure (atm)');\n",
    "plt.ylabel('volume');"
   ]
  },
  {
   "cell_type": "code",
   "execution_count": null,
   "id": "e28958a4",
   "metadata": {},
   "outputs": [],
   "source": []
  }
 ],
 "metadata": {
  "kernelspec": {
   "display_name": "Python 3 (ipykernel)",
   "language": "python",
   "name": "python3"
  },
  "language_info": {
   "codemirror_mode": {
    "name": "ipython",
    "version": 3
   },
   "file_extension": ".py",
   "mimetype": "text/x-python",
   "name": "python",
   "nbconvert_exporter": "python",
   "pygments_lexer": "ipython3",
   "version": "3.9.12"
  }
 },
 "nbformat": 4,
 "nbformat_minor": 5
}
