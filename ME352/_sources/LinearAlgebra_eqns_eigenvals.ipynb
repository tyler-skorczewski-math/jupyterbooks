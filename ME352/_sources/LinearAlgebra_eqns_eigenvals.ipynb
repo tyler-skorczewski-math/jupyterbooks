{
 "cells": [
  {
   "cell_type": "markdown",
   "id": "e4a04135",
   "metadata": {},
   "source": [
    "# Lesson 13: Linear Algebra - eigenvalues\n",
    "Equations and eigenvalues"
   ]
  },
  {
   "cell_type": "code",
   "execution_count": 1,
   "id": "896fa82c",
   "metadata": {},
   "outputs": [],
   "source": [
    "import numpy as np\n",
    "import matplotlib.pyplot as plt\n",
    "%matplotlib inline\n",
    "\n",
    "from sympy import *  #import sympy routines; sympy = \"SYMbolic PYthon\""
   ]
  },
  {
   "cell_type": "markdown",
   "id": "46f1c498",
   "metadata": {},
   "source": [
    "### Wheatstone bridge example\n",
    "\n",
    "The resistor network shown below is a Wheatstone bridge. It can be used to calculate unknown resistances of objects.\n",
    "The current through resistor $R_5 = 0$ when $R_1R_4=R_2R_3$, so if we know $R_3$ and $R_4$ and make $R_2$ a variable resistor and have $R_1$ be the unknown, we can tune $R_2$ while measuring the current through $R_5$ to find $R_1$.\n",
    "\n",
    "\n",
    "```{image} ./wheatstone.jpg\n",
    ":alt: Wheatstone bridge circuit \n",
    ":width: 300px\n",
    ":align: center\n",
    "```\n",
    "\n",
    "\n",
    "\n",
    "A more general problem is to compute the currents through each resistor. Using Ohm's Law and Kirchoff's Voltage Law we can calculate the mesh currents $x_1, x_2, x_3$ using the equations below.\n",
    "\n",
    "\\begin{align*}\n",
    "(R_1 + R_3 + R_5) x_1 - R_5 x_2 -R_3x_3 &= 0\\\\\n",
    "-R_5 x_1 + (R_2 + R_4 + R_5) x_2 - R_4 x_3 &= 0\\\\\n",
    "-R_3 x_1 - R_4x_2 + (R_3 + R_4 + R_6)x_3 &= V\n",
    "\\end{align*}\n",
    "\n",
    "Then $i_1 = x_1, i_2 = x_2, i_3 = x_3-x_1, i_5=x_1-x_2,$ and $i_6 = x_3$.\n",
    "\n",
    "Let $R_i = 10 \\hspace{4mm} \\forall i$ and let $V=5$. Set up and solve these equations for $x_1, x_2, x_3$ below."
   ]
  },
  {
   "cell_type": "code",
   "execution_count": 9,
   "id": "763d0a7e",
   "metadata": {},
   "outputs": [
    {
     "name": "stdout",
     "output_type": "stream",
     "text": [
      "[[0.08333333]\n",
      " [0.10416667]\n",
      " [0.22916667]]\n"
     ]
    }
   ],
   "source": [
    "A = np.array([[40, -10, -10],\n",
    "             [-10,30,-10],\n",
    "             [-10,-10,30]])\n",
    "\n",
    "b = np.array([[0],\n",
    "             [0],\n",
    "             [5]])\n",
    "\n",
    "newb = np.array([[0,0,5]]).transpose()\n",
    "\n",
    "#print(newb)\n",
    "\n",
    "x = np.linalg.solve(A,newb)\n",
    "\n",
    "print(x)\n"
   ]
  },
  {
   "cell_type": "markdown",
   "id": "9385e1fc",
   "metadata": {},
   "source": [
    "### Chemical reaction example\n",
    " \n",
    "Balance the chemical reaction below.\n",
    "\n",
    "$$x_1 Cu_2S + x_2H^+ + x_3 NO^-_3 \\longrightarrow x_4Cu^{2+} + x_5 NO + x_6 S_8 + x_7H_2O$$\n"
   ]
  },
  {
   "cell_type": "code",
   "execution_count": null,
   "id": "7a04a858",
   "metadata": {},
   "outputs": [],
   "source": [
    "#show np.linalg.solve doesn't work\n",
    "\n",
    "#use sympy Matrix and M.rref() command  \n",
    "#relate back to Math250, Math 275\n",
    "\n"
   ]
  },
  {
   "cell_type": "markdown",
   "id": "ed08d5cb",
   "metadata": {},
   "source": [
    "### Chemical reaction example\n",
    " \n",
    "Balance the chemical equation for the combustion of butane liquid (C4H10) in the presence of oxygen gas to yield carbon dioxide and water in the gaseous phase:\n",
    "\n",
    "$$C_4H_{10} + O_2 \\longrightarrow CO_2 + H_2O$$\n",
    "\n"
   ]
  },
  {
   "cell_type": "code",
   "execution_count": 10,
   "id": "57645b62",
   "metadata": {},
   "outputs": [
    {
     "ename": "LinAlgError",
     "evalue": "Last 2 dimensions of the array must be square",
     "output_type": "error",
     "traceback": [
      "\u001b[1;31m---------------------------------------------------------------------------\u001b[0m",
      "\u001b[1;31mLinAlgError\u001b[0m                               Traceback (most recent call last)",
      "Input \u001b[1;32mIn [10]\u001b[0m, in \u001b[0;36m<cell line: 7>\u001b[1;34m()\u001b[0m\n\u001b[0;32m      1\u001b[0m A \u001b[38;5;241m=\u001b[39m np\u001b[38;5;241m.\u001b[39marray([[\u001b[38;5;241m4\u001b[39m,\u001b[38;5;241m0\u001b[39m,\u001b[38;5;241m-\u001b[39m\u001b[38;5;241m1\u001b[39m,\u001b[38;5;241m0\u001b[39m],\n\u001b[0;32m      2\u001b[0m              [\u001b[38;5;241m10\u001b[39m,\u001b[38;5;241m0\u001b[39m,\u001b[38;5;241m0\u001b[39m,\u001b[38;5;241m-\u001b[39m\u001b[38;5;241m2\u001b[39m],\n\u001b[0;32m      3\u001b[0m              [\u001b[38;5;241m0\u001b[39m,\u001b[38;5;241m2\u001b[39m,\u001b[38;5;241m-\u001b[39m\u001b[38;5;241m2\u001b[39m,\u001b[38;5;241m-\u001b[39m\u001b[38;5;241m1\u001b[39m]])\n\u001b[0;32m      5\u001b[0m b \u001b[38;5;241m=\u001b[39m np\u001b[38;5;241m.\u001b[39marray([[\u001b[38;5;241m0\u001b[39m,\u001b[38;5;241m0\u001b[39m,\u001b[38;5;241m0\u001b[39m]])\u001b[38;5;241m.\u001b[39mtranspose()\n\u001b[1;32m----> 7\u001b[0m x \u001b[38;5;241m=\u001b[39m \u001b[43mnp\u001b[49m\u001b[38;5;241;43m.\u001b[39;49m\u001b[43mlinalg\u001b[49m\u001b[38;5;241;43m.\u001b[39;49m\u001b[43msolve\u001b[49m\u001b[43m(\u001b[49m\u001b[43mA\u001b[49m\u001b[43m,\u001b[49m\u001b[43mb\u001b[49m\u001b[43m)\u001b[49m\n",
      "File \u001b[1;32m<__array_function__ internals>:5\u001b[0m, in \u001b[0;36msolve\u001b[1;34m(*args, **kwargs)\u001b[0m\n",
      "File \u001b[1;32m~\\Anaconda3\\lib\\site-packages\\numpy\\linalg\\linalg.py:380\u001b[0m, in \u001b[0;36msolve\u001b[1;34m(a, b)\u001b[0m\n\u001b[0;32m    378\u001b[0m a, _ \u001b[38;5;241m=\u001b[39m _makearray(a)\n\u001b[0;32m    379\u001b[0m _assert_stacked_2d(a)\n\u001b[1;32m--> 380\u001b[0m \u001b[43m_assert_stacked_square\u001b[49m\u001b[43m(\u001b[49m\u001b[43ma\u001b[49m\u001b[43m)\u001b[49m\n\u001b[0;32m    381\u001b[0m b, wrap \u001b[38;5;241m=\u001b[39m _makearray(b)\n\u001b[0;32m    382\u001b[0m t, result_t \u001b[38;5;241m=\u001b[39m _commonType(a, b)\n",
      "File \u001b[1;32m~\\Anaconda3\\lib\\site-packages\\numpy\\linalg\\linalg.py:203\u001b[0m, in \u001b[0;36m_assert_stacked_square\u001b[1;34m(*arrays)\u001b[0m\n\u001b[0;32m    201\u001b[0m m, n \u001b[38;5;241m=\u001b[39m a\u001b[38;5;241m.\u001b[39mshape[\u001b[38;5;241m-\u001b[39m\u001b[38;5;241m2\u001b[39m:]\n\u001b[0;32m    202\u001b[0m \u001b[38;5;28;01mif\u001b[39;00m m \u001b[38;5;241m!=\u001b[39m n:\n\u001b[1;32m--> 203\u001b[0m     \u001b[38;5;28;01mraise\u001b[39;00m LinAlgError(\u001b[38;5;124m'\u001b[39m\u001b[38;5;124mLast 2 dimensions of the array must be square\u001b[39m\u001b[38;5;124m'\u001b[39m)\n",
      "\u001b[1;31mLinAlgError\u001b[0m: Last 2 dimensions of the array must be square"
     ]
    }
   ],
   "source": [
    "A = np.array([[4,0,-1,0],\n",
    "             [10,0,0,-2],\n",
    "             [0,2,-2,-1]])\n",
    "\n",
    "b = np.array([[0,0,0]]).transpose()\n",
    "\n",
    "x = np.linalg.solve(A,b)"
   ]
  },
  {
   "cell_type": "code",
   "execution_count": 11,
   "id": "6db506e8",
   "metadata": {},
   "outputs": [
    {
     "name": "stdout",
     "output_type": "stream",
     "text": [
      "(Matrix([\n",
      "[1, 0, 0,   -1/5],\n",
      "[0, 1, 0, -13/10],\n",
      "[0, 0, 1,   -4/5]]), (0, 1, 2))\n"
     ]
    }
   ],
   "source": [
    "from sympy import *\n",
    "\n",
    "A = Matrix([[4,0,-1,0],\n",
    "             [10,0,0,-2],\n",
    "             [0,2,-2,-1]])\n",
    "\n",
    "print(A.rref())"
   ]
  },
  {
   "cell_type": "markdown",
   "id": "a893a92a",
   "metadata": {},
   "source": [
    "**Exercise** Balance the chemical reaction below.\n",
    "\n",
    "$${\\mathrm C}_6{\\mathrm H}_{12}{\\mathrm O}_6\\;(s)\\;+\\;{\\mathrm O}_2\\;(g)\\;\\rightarrow\\;{\\mathrm{CO}}_2\\;(s)\\;+\\;{\\mathrm H}_2\\mathrm O\\;(l)$$"
   ]
  },
  {
   "cell_type": "code",
   "execution_count": null,
   "id": "3c20f685",
   "metadata": {},
   "outputs": [],
   "source": []
  },
  {
   "cell_type": "markdown",
   "id": "5181df09",
   "metadata": {},
   "source": [
    "### Calculate eigenvalues\n",
    "\n",
    "Calculate the eigenvalues of the matrix below using the [eig](https://numpy.org/doc/stable/reference/generated/numpy.linalg.eig.html) command of the numpy library.\n",
    "\n",
    "$$A = \\begin{bmatrix} 1 & 2 & 3\\\\4& 5&6 \\\\ 7&8&1\\end{bmatrix}$$"
   ]
  },
  {
   "cell_type": "code",
   "execution_count": 12,
   "id": "2b1c0412",
   "metadata": {},
   "outputs": [
    {
     "name": "stdout",
     "output_type": "stream",
     "text": [
      "[12.45416474 -0.37976219 -5.07440255]\n",
      "[[-0.29373774 -0.73967882 -0.29720654]\n",
      " [-0.69005397  0.66500848 -0.39870229]\n",
      " [-0.66147083 -0.10314536  0.86758559]]\n"
     ]
    }
   ],
   "source": [
    "A = np.array([[1,2,3],[4,5,6],[7,8,1]])\n",
    "\n",
    "w,v = np.linalg.eig(A)\n",
    "\n",
    "print(w)\n",
    "\n",
    "print(v)\n"
   ]
  },
  {
   "cell_type": "code",
   "execution_count": null,
   "id": "1a13afc7",
   "metadata": {},
   "outputs": [],
   "source": []
  },
  {
   "cell_type": "markdown",
   "id": "74a37239",
   "metadata": {},
   "source": [
    "### System of linear ODEs example\n",
    "\n",
    "Set up a system of differential equations that represent the amount of salt in the tanks below.\n",
    "Then use the eig command to help you determine the solution.\n",
    "\n",
    "```{image} ./tanks.png\n",
    ":alt: multi tank system \n",
    ":width: 300px\n",
    ":align: center\n",
    "```\n"
   ]
  },
  {
   "cell_type": "markdown",
   "id": "958dd670",
   "metadata": {},
   "source": [
    "<div>\n",
    "<img src=\"attachment:brine_tanks.jpg\" width=\"500\"/>\n",
    "</div>"
   ]
  },
  {
   "cell_type": "code",
   "execution_count": 13,
   "id": "ed7c88b0",
   "metadata": {},
   "outputs": [],
   "source": [
    "A = np.array([[-.3,0.05],\n",
    "              [.3,-.15]])\n",
    "\n",
    "w,v = np.linalg.eig(A)"
   ]
  },
  {
   "cell_type": "code",
   "execution_count": 14,
   "id": "f3a99508",
   "metadata": {},
   "outputs": [
    {
     "name": "stdout",
     "output_type": "stream",
     "text": [
      "[-0.36861407 -0.08138593]\n",
      "[[-0.58893305 -0.22295647]\n",
      " [ 0.80818183 -0.9748284 ]]\n"
     ]
    }
   ],
   "source": [
    "print(w)\n",
    "print(v)"
   ]
  },
  {
   "cell_type": "code",
   "execution_count": 15,
   "id": "6d79878a",
   "metadata": {},
   "outputs": [],
   "source": [
    "c = np.linalg.solve(v,np.array([[10,11]]).T)"
   ]
  },
  {
   "cell_type": "code",
   "execution_count": 16,
   "id": "dc2c61a1",
   "metadata": {},
   "outputs": [
    {
     "name": "stdout",
     "output_type": "stream",
     "text": [
      "[[ -9.67225498]\n",
      " [-19.3028236 ]]\n"
     ]
    }
   ],
   "source": [
    "print(c)"
   ]
  },
  {
   "cell_type": "code",
   "execution_count": null,
   "id": "ed7f9058",
   "metadata": {},
   "outputs": [],
   "source": []
  }
 ],
 "metadata": {
  "kernelspec": {
   "display_name": "Python 3 (ipykernel)",
   "language": "python",
   "name": "python3"
  },
  "language_info": {
   "codemirror_mode": {
    "name": "ipython",
    "version": 3
   },
   "file_extension": ".py",
   "mimetype": "text/x-python",
   "name": "python",
   "nbconvert_exporter": "python",
   "pygments_lexer": "ipython3",
   "version": "3.9.12"
  }
 },
 "nbformat": 4,
 "nbformat_minor": 5
}
