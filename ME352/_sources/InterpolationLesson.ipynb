{
 "cells": [
  {
   "cell_type": "markdown",
   "id": "0c354eef",
   "metadata": {},
   "source": [
    "# Interpolation\n"
   ]
  },
  {
   "cell_type": "code",
   "execution_count": 1,
   "id": "bf896319",
   "metadata": {},
   "outputs": [],
   "source": [
    "import numpy as np\n",
    "import matplotlib.pyplot as plt\n",
    "from scipy.optimize import fsolve\n",
    "%matplotlib inline"
   ]
  },
  {
   "cell_type": "markdown",
   "id": "1791e932",
   "metadata": {},
   "source": [
    "### Bike drag data\n",
    "\n",
    "\n",
    "|Velocity (x10 ft/s) | 0 |2|  10  |\n",
    "|-------------------------|---|---|---|\n",
    "|Drag (x100 lbs) | 0 |2.90 | 119|\n",
    "\n",
    "- Plot the data\n",
    "- What is the Drag if the bike is going 31 ft/s?\n",
    "\n"
   ]
  },
  {
   "cell_type": "code",
   "execution_count": 4,
   "id": "b9375c5c",
   "metadata": {},
   "outputs": [
    {
     "data": {
      "image/png": "[encoded data removed]",
      "text/plain": [
       "<Figure size 432x288 with 1 Axes>"
      ]
     },
     "metadata": {
      "needs_background": "light"
     },
     "output_type": "display_data"
    }
   ],
   "source": [
    "#plot\n",
    "v = np.array([0,2.,10.])\n",
    "D = np.array([0.,2.9,119.])\n",
    "plt.plot(v,D,'bo');\n",
    "plt.xlabel('velocity[x10 ft/s]');\n",
    "plt.ylabel('Drag[lbs]');"
   ]
  },
  {
   "cell_type": "code",
   "execution_count": 5,
   "id": "548583f9",
   "metadata": {},
   "outputs": [
    {
     "name": "stdout",
     "output_type": "stream",
     "text": [
      "18.86375\n"
     ]
    }
   ],
   "source": [
    "#pwl\n",
    "def pwl(v):\n",
    "    \n",
    "    if v<0:\n",
    "        print(\"error out of domain\")\n",
    "        return(-1)\n",
    "    elif v<=2:\n",
    "        return((2.9/2.0)*(v-0) + 0)\n",
    "    elif v<=10:\n",
    "        return( (119.-2.9)/(10.-2.) * (v-2.) + 2.9)\n",
    "    else:\n",
    "        print(\"error out of domain\")\n",
    "        return(-1)\n",
    "\n",
    "print(pwl(3.1))\n"
   ]
  },
  {
   "cell_type": "code",
   "execution_count": null,
   "id": "a6de49c9",
   "metadata": {},
   "outputs": [],
   "source": [
    "#wc4pwl"
   ]
  },
  {
   "cell_type": "code",
   "execution_count": 6,
   "id": "a4ee8dca",
   "metadata": {},
   "outputs": [
    {
     "name": "stdout",
     "output_type": "stream",
     "text": [
      "18.86375\n"
     ]
    }
   ],
   "source": [
    "#u bi [linterp1d](https://docs.scipy.org/doc/scipy/reference/generated/scipy.interpolate.interp1d.html)\n",
    "\n",
    "from scipy import interpolate\n",
    "\n",
    "dragfcn = interpolate.interp1d(v,D) #interp1d doesn't do the interpolation it returns a fcn for you to use later\n",
    "\n",
    "print(dragfcn(3.1))"
   ]
  },
  {
   "cell_type": "code",
   "execution_count": 9,
   "id": "d1ae8f53",
   "metadata": {},
   "outputs": [
    {
     "name": "stdout",
     "output_type": "stream",
     "text": [
      "[ 1.30625000e+00 -1.16250000e+00  3.34851733e-27]\n"
     ]
    }
   ],
   "source": [
    "#par\n",
    "def sys(vec):\n",
    "    a,b,c = vec[0],vec[1],vec[2]\n",
    "    output = np.array([\n",
    "        a*0.+b*0+c - 0,\n",
    "        a*2.**2 + b*2. + c - 2.9,\n",
    "        a*10.**2 + b*10. + c - 119\n",
    "    ])\n",
    "    return(output)\n",
    "    \n",
    "sol = fsolve(sys,np.array([1.,1.,0.]))\n",
    "print(sol)"
   ]
  },
  {
   "cell_type": "code",
   "execution_count": 11,
   "id": "d1703e38",
   "metadata": {},
   "outputs": [
    {
     "name": "stdout",
     "output_type": "stream",
     "text": [
      "8.949312500000001\n"
     ]
    },
    {
     "data": {
      "image/png": "[encoded data removed]",
      "text/plain": [
       "<Figure size 432x288 with 1 Axes>"
      ]
     },
     "metadata": {
      "needs_background": "light"
     },
     "output_type": "display_data"
    }
   ],
   "source": [
    "vs = np.linspace(0,10,101)\n",
    "Ds = 1.30625*vs**2 - 1.1625*vs\n",
    "\n",
    "plt.plot(vs,Ds,'r:');\n",
    "plt.plot(v,D,'ko');\n",
    "plt.xlabel('vel (x10 ft/s)');\n",
    "plt.ylabel('Drag (lbs)');\n",
    "\n",
    "print(1.30625*3.1**2 - 1.1625*3.1)"
   ]
  },
  {
   "cell_type": "markdown",
   "id": "058a611a",
   "metadata": {},
   "source": [
    "### More data\n",
    "\n",
    "\n",
    "|Velocity (x10 ft/s) | 0 |2|  4  |  6 | 8 | 10 |\n",
    "|-------------------------|---|---|---| --- | --- | --- |\n",
    "|Drag (x100 lbs) | 0 |2.90 |14.8|  39.6 | 74.3 | 119 |\n",
    "\n",
    "- How does the old function agree with the new data?\n",
    "- Can we make a new function that interpolates all the data?"
   ]
  },
  {
   "cell_type": "code",
   "execution_count": null,
   "id": "3cf71e1e",
   "metadata": {},
   "outputs": [],
   "source": []
  },
  {
   "cell_type": "markdown",
   "id": "ff43fff0",
   "metadata": {},
   "source": [
    "### Read in data from file \n",
    "There are many ways to read in a file with python. Here we'll use the [loadtxt](https://numpy.org/doc/stable/reference/generated/numpy.loadtxt.html) command in the numpy library to read in data from a tensile load test that gives data relating the stress on a steel wire and its elongation (or strain). The data will be saved right to a numpy array with this function. \n",
    "- Download the wire_stress_strain.csv file from Canvas and save it to your working directory. \n",
    "- Open it a text editor or MS Excel.\n",
    "- Open the file using loadtxt.\n",
    "- Plot the data.\n",
    "- Plot an interpolation of the data.\n",
    "- Is there an interpolation we should use over another? Is interpolation the right method here?\n"
   ]
  },
  {
   "cell_type": "code",
   "execution_count": null,
   "id": "2ce31c74",
   "metadata": {},
   "outputs": [],
   "source": []
  },
  {
   "cell_type": "code",
   "execution_count": null,
   "id": "8e176b56",
   "metadata": {},
   "outputs": [],
   "source": []
  },
  {
   "cell_type": "code",
   "execution_count": null,
   "id": "500822d8",
   "metadata": {},
   "outputs": [],
   "source": []
  }
 ],
 "metadata": {
  "kernelspec": {
   "display_name": "Python 3 (ipykernel)",
   "language": "python",
   "name": "python3"
  },
  "language_info": {
   "codemirror_mode": {
    "name": "ipython",
    "version": 3
   },
   "file_extension": ".py",
   "mimetype": "text/x-python",
   "name": "python",
   "nbconvert_exporter": "python",
   "pygments_lexer": "ipython3",
   "version": "3.9.12"
  }
 },
 "nbformat": 4,
 "nbformat_minor": 5
}
