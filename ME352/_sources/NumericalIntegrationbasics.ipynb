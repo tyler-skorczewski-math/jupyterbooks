{
 "cells": [
  {
   "cell_type": "code",
   "execution_count": 1,
   "metadata": {},
   "outputs": [],
   "source": [
    "import numpy as np"
   ]
  },
  {
   "cell_type": "markdown",
   "metadata": {},
   "source": [
    "###### Define the function $f(x)$ for estimating $\\displaystyle\\int_a^bf(x)\\,dx$"
   ]
  },
  {
   "cell_type": "code",
   "execution_count": 2,
   "metadata": {},
   "outputs": [],
   "source": [
    "def f(x):\n",
    "    return np.cos(x)"
   ]
  },
  {
   "cell_type": "markdown",
   "metadata": {},
   "source": [
    "###### Left and Right Endpoint Rules"
   ]
  },
  {
   "cell_type": "code",
   "execution_count": 3,
   "metadata": {},
   "outputs": [
    {
     "name": "stdout",
     "output_type": "stream",
     "text": [
      "L = 1.1167 and R = 0.9732\n"
     ]
    }
   ],
   "source": [
    "a,b = -2,3\n",
    "N = 21\n",
    "h = (b-a)/(N-1)\n",
    "x = np.linspace(a,b,N)\n",
    "L = h*np.sum(f(x[:-1])) # include first endpoint, exclude last endpoint with slicing\n",
    "R = h*np.sum(f(x[1:])) # exclude first endpoint, include last endpoint with slicing\n",
    "print('L = {:2.4f} and R = {:2.4f}'.format(L,R))"
   ]
  },
  {
   "cell_type": "markdown",
   "metadata": {},
   "source": [
    "###### Trapezoidal Rule"
   ]
  },
  {
   "cell_type": "code",
   "execution_count": 4,
   "metadata": {},
   "outputs": [
    {
     "name": "stdout",
     "output_type": "stream",
     "text": [
      "T = 1.0449\n",
      "Average of L and R is 1.0449\n"
     ]
    }
   ],
   "source": [
    "a,b = -2,3\n",
    "N = 21\n",
    "h = (b-a)/(N-1)\n",
    "x = np.linspace(a,b,N)\n",
    "w = np.ones(N) # Construct the weights w = [1 2 2 2 ... 2 2 1]\n",
    "w[1:-1] = 2 \n",
    "#print(w)\n",
    "T = (h/2)*np.dot(f(x),w)\n",
    "print('T = {:2.4f}'.format(T))\n",
    "print('Average of L and R is {:2.4f}'.format((L+R)/2))"
   ]
  },
  {
   "cell_type": "markdown",
   "metadata": {},
   "source": [
    "###### Midpoint Rule"
   ]
  },
  {
   "cell_type": "code",
   "execution_count": 5,
   "metadata": {},
   "outputs": [
    {
     "name": "stdout",
     "output_type": "stream",
     "text": [
      "M = 1.0532\n"
     ]
    }
   ],
   "source": [
    "a,b = -2,3\n",
    "N = 21\n",
    "h = (b-a)/(N-1) # Note that grid-spacing remains the same\n",
    "x = np.linspace(a,b,N)\n",
    "c = (x[:-1]+x[1:])/2 # Compute midpoints\n",
    "#print(len(x))\n",
    "#print(len(c))\n",
    "M = h*np.sum(f(c))\n",
    "print('M = {:2.4f}'.format(M))"
   ]
  },
  {
   "cell_type": "code",
   "execution_count": 6,
   "metadata": {},
   "outputs": [
    {
     "name": "stdout",
     "output_type": "stream",
     "text": [
      "S = 1.0504\n",
      "Weighted Average S = 1.0504\n"
     ]
    }
   ],
   "source": [
    "# Simpson's rule\n",
    "a,b = -2,3\n",
    "N = 21 # The number of points must be odd\n",
    "h = (b-a)/(N-1)\n",
    "x = np.linspace(a,b,N)\n",
    "w = np.ones(N) # Construct the weights w = [1 4 2 4 2 ... 2 4 1]\n",
    "w[1:-1:2] = 4\n",
    "w[2:-2:2] = 2\n",
    "#print(w)\n",
    "S = (h/3)*np.dot(f(x),w)\n",
    "print('S = {:2.4f}'.format(S))\n",
    "print('Weighted Average S = {:2.4f}'.format((T+2*M)/3))"
   ]
  },
  {
   "cell_type": "code",
   "execution_count": 7,
   "metadata": {},
   "outputs": [
    {
     "name": "stdout",
     "output_type": "stream",
     "text": [
      "5\n"
     ]
    }
   ],
   "source": [
    "# One way to insure that the number of points is odd is to use the modulo operator\n",
    "N = 4\n",
    "if N%2:\n",
    "    Ns = N\n",
    "else:\n",
    "    Ns = N+1\n",
    "print(Ns)"
   ]
  },
  {
   "cell_type": "code",
   "execution_count": 8,
   "metadata": {},
   "outputs": [
    {
     "name": "stdout",
     "output_type": "stream",
     "text": [
      "S = 1.0504\n",
      "Weighted Average S = 1.0504\n"
     ]
    }
   ],
   "source": [
    "# Simpson's rule\n",
    "a,b = -2,3\n",
    "N = 21 # The number of points must be odd\n",
    "if N%2:\n",
    "    Ns = N\n",
    "else:\n",
    "    Ns = N+1\n",
    "h = (b-a)/(Ns-1)\n",
    "x = np.linspace(a,b,Ns)\n",
    "w = np.ones(Ns) # Construct the weights w = [1 4 2 4 2 ... 2 4 1]\n",
    "w[1:-1:2] = 4\n",
    "w[2:-2:2] = 2\n",
    "#print(w)\n",
    "S = (h/3)*np.dot(f(x),w)\n",
    "print('S = {:2.4f}'.format(S))\n",
    "print('Weighted Average S = {:2.4f}'.format((T+2*M)/3)) # Warning: This weighted average will be incorrect for N even"
   ]
  },
  {
   "cell_type": "code",
   "execution_count": null,
   "metadata": {},
   "outputs": [],
   "source": []
  }
 ],
 "metadata": {
  "kernelspec": {
   "display_name": "Python 3 (ipykernel)",
   "language": "python",
   "name": "python3"
  },
  "language_info": {
   "codemirror_mode": {
    "name": "ipython",
    "version": 3
   },
   "file_extension": ".py",
   "mimetype": "text/x-python",
   "name": "python",
   "nbconvert_exporter": "python",
   "pygments_lexer": "ipython3",
   "version": "3.9.12"
  }
 },
 "nbformat": 4,
 "nbformat_minor": 4
}
